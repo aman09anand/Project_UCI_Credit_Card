{
 "cells": [
  {
   "cell_type": "code",
   "execution_count": 1,
   "id": "8832b9c8",
   "metadata": {},
   "outputs": [],
   "source": [
    "import pandas as pd\n",
    "import numpy as np\n",
    "\n",
    "import matplotlib.pyplot as plt\n",
    "%matplotlib inline\n",
    "\n",
    "import seaborn as sns \n",
    "\n",
    "import warnings \n",
    "warnings.filterwarnings('ignore')"
   ]
  },
  {
   "cell_type": "markdown",
   "id": "6d6cd75e",
   "metadata": {},
   "source": [
    "### <font color='light blue'>Data Definition\n",
    "    There are 25 variables:\n",
    "    \n",
    "        - ID: ID of each client\n",
    "        - LIMIT_BAL: Amount of given credit in NT dollars (includes individual and family/supplementary credit\n",
    "        - SEX: Gender (1=male, 2=female)\n",
    "        - EDUCATION: (1=graduate school, 2=university, 3=high school, 4=others, 5=unknown, 6=unknown)\n",
    "        - MARRIAGE: Marital status (1=married, 2=single, 3=others)\n",
    "        - AGE: Age in years\n",
    "        - PAY_0: Repayment status in September, 2005 (-1=pay duly, 1=payment delay for one month, 2=payment delay for two months, … 8=payment delay for eight months, 9=payment delay for nine months and above)\n",
    "        - PAY_2: Repayment status in August, 2005 (scale same as above)\n",
    "        - PAY_3: Repayment status in July, 2005 (scale same as above)\n",
    "        - PAY_4: Repayment status in June, 2005 (scale same as above)\n",
    "        - PAY_5: Repayment status in May, 2005 (scale same as above)\n",
    "        - PAY_6: Repayment status in April, 2005 (scale same as above)\n",
    "        - BILL_AMT1: Amount of bill statement in September, 2005 (NT dollar)\n",
    "        - BILL_AMT2: Amount of bill statement in August, 2005 (NT dollar)\n",
    "        - BILL_AMT3: Amount of bill statement in July, 2005 (NT dollar)\n",
    "        - BILL_AMT4: Amount of bill statement in June, 2005 (NT dollar)\n",
    "        - BILL_AMT5: Amount of bill statement in May, 2005 (NT dollar)\n",
    "        - BILL_AMT6: Amount of bill statement in April, 2005 (NT dollar)\n",
    "        - PAY_AMT1: Amount of previous payment in September, 2005 (NT dollar)\n",
    "        - PAY_AMT2: Amount of previous payment in August, 2005 (NT dollar)\n",
    "        - PAY_AMT3: Amount of previous payment in July, 2005 (NT dollar)\n",
    "        - PAY_AMT4: Amount of previous payment in June, 2005 (NT dollar)\n",
    "        - PAY_AMT5: Amount of previous payment in May, 2005 (NT dollar)\n",
    "        - PAY_AMT6: Amount of previous payment in April, 2005 (NT dollar)\n",
    "        - default.payment.next.month: Default payment (1=yes, 0=no)\n",
    "</font>"
   ]
  },
  {
   "cell_type": "code",
   "execution_count": 2,
   "id": "93da6e7c",
   "metadata": {},
   "outputs": [
    {
     "data": {
      "text/html": [
       "<div>\n",
       "<style scoped>\n",
       "    .dataframe tbody tr th:only-of-type {\n",
       "        vertical-align: middle;\n",
       "    }\n",
       "\n",
       "    .dataframe tbody tr th {\n",
       "        vertical-align: top;\n",
       "    }\n",
       "\n",
       "    .dataframe thead th {\n",
       "        text-align: right;\n",
       "    }\n",
       "</style>\n",
       "<table border=\"1\" class=\"dataframe\">\n",
       "  <thead>\n",
       "    <tr style=\"text-align: right;\">\n",
       "      <th></th>\n",
       "      <th>ID</th>\n",
       "      <th>LIMIT_BAL</th>\n",
       "      <th>SEX</th>\n",
       "      <th>EDUCATION</th>\n",
       "      <th>MARRIAGE</th>\n",
       "      <th>AGE</th>\n",
       "      <th>PAY_0</th>\n",
       "      <th>PAY_2</th>\n",
       "      <th>PAY_3</th>\n",
       "      <th>PAY_4</th>\n",
       "      <th>...</th>\n",
       "      <th>BILL_AMT4</th>\n",
       "      <th>BILL_AMT5</th>\n",
       "      <th>BILL_AMT6</th>\n",
       "      <th>PAY_AMT1</th>\n",
       "      <th>PAY_AMT2</th>\n",
       "      <th>PAY_AMT3</th>\n",
       "      <th>PAY_AMT4</th>\n",
       "      <th>PAY_AMT5</th>\n",
       "      <th>PAY_AMT6</th>\n",
       "      <th>default.payment.next.month</th>\n",
       "    </tr>\n",
       "  </thead>\n",
       "  <tbody>\n",
       "    <tr>\n",
       "      <th>0</th>\n",
       "      <td>1</td>\n",
       "      <td>20000.0</td>\n",
       "      <td>2</td>\n",
       "      <td>2</td>\n",
       "      <td>1</td>\n",
       "      <td>24</td>\n",
       "      <td>2</td>\n",
       "      <td>2</td>\n",
       "      <td>-1</td>\n",
       "      <td>-1</td>\n",
       "      <td>...</td>\n",
       "      <td>0.0</td>\n",
       "      <td>0.0</td>\n",
       "      <td>0.0</td>\n",
       "      <td>0.0</td>\n",
       "      <td>689.0</td>\n",
       "      <td>0.0</td>\n",
       "      <td>0.0</td>\n",
       "      <td>0.0</td>\n",
       "      <td>0.0</td>\n",
       "      <td>1</td>\n",
       "    </tr>\n",
       "    <tr>\n",
       "      <th>1</th>\n",
       "      <td>2</td>\n",
       "      <td>120000.0</td>\n",
       "      <td>2</td>\n",
       "      <td>2</td>\n",
       "      <td>2</td>\n",
       "      <td>26</td>\n",
       "      <td>-1</td>\n",
       "      <td>2</td>\n",
       "      <td>0</td>\n",
       "      <td>0</td>\n",
       "      <td>...</td>\n",
       "      <td>3272.0</td>\n",
       "      <td>3455.0</td>\n",
       "      <td>3261.0</td>\n",
       "      <td>0.0</td>\n",
       "      <td>1000.0</td>\n",
       "      <td>1000.0</td>\n",
       "      <td>1000.0</td>\n",
       "      <td>0.0</td>\n",
       "      <td>2000.0</td>\n",
       "      <td>1</td>\n",
       "    </tr>\n",
       "    <tr>\n",
       "      <th>2</th>\n",
       "      <td>3</td>\n",
       "      <td>90000.0</td>\n",
       "      <td>2</td>\n",
       "      <td>2</td>\n",
       "      <td>2</td>\n",
       "      <td>34</td>\n",
       "      <td>0</td>\n",
       "      <td>0</td>\n",
       "      <td>0</td>\n",
       "      <td>0</td>\n",
       "      <td>...</td>\n",
       "      <td>14331.0</td>\n",
       "      <td>14948.0</td>\n",
       "      <td>15549.0</td>\n",
       "      <td>1518.0</td>\n",
       "      <td>1500.0</td>\n",
       "      <td>1000.0</td>\n",
       "      <td>1000.0</td>\n",
       "      <td>1000.0</td>\n",
       "      <td>5000.0</td>\n",
       "      <td>0</td>\n",
       "    </tr>\n",
       "    <tr>\n",
       "      <th>3</th>\n",
       "      <td>4</td>\n",
       "      <td>50000.0</td>\n",
       "      <td>2</td>\n",
       "      <td>2</td>\n",
       "      <td>1</td>\n",
       "      <td>37</td>\n",
       "      <td>0</td>\n",
       "      <td>0</td>\n",
       "      <td>0</td>\n",
       "      <td>0</td>\n",
       "      <td>...</td>\n",
       "      <td>28314.0</td>\n",
       "      <td>28959.0</td>\n",
       "      <td>29547.0</td>\n",
       "      <td>2000.0</td>\n",
       "      <td>2019.0</td>\n",
       "      <td>1200.0</td>\n",
       "      <td>1100.0</td>\n",
       "      <td>1069.0</td>\n",
       "      <td>1000.0</td>\n",
       "      <td>0</td>\n",
       "    </tr>\n",
       "    <tr>\n",
       "      <th>4</th>\n",
       "      <td>5</td>\n",
       "      <td>50000.0</td>\n",
       "      <td>1</td>\n",
       "      <td>2</td>\n",
       "      <td>1</td>\n",
       "      <td>57</td>\n",
       "      <td>-1</td>\n",
       "      <td>0</td>\n",
       "      <td>-1</td>\n",
       "      <td>0</td>\n",
       "      <td>...</td>\n",
       "      <td>20940.0</td>\n",
       "      <td>19146.0</td>\n",
       "      <td>19131.0</td>\n",
       "      <td>2000.0</td>\n",
       "      <td>36681.0</td>\n",
       "      <td>10000.0</td>\n",
       "      <td>9000.0</td>\n",
       "      <td>689.0</td>\n",
       "      <td>679.0</td>\n",
       "      <td>0</td>\n",
       "    </tr>\n",
       "  </tbody>\n",
       "</table>\n",
       "<p>5 rows × 25 columns</p>\n",
       "</div>"
      ],
      "text/plain": [
       "   ID  LIMIT_BAL  SEX  EDUCATION  MARRIAGE  AGE  PAY_0  PAY_2  PAY_3  PAY_4  \\\n",
       "0   1    20000.0    2          2         1   24      2      2     -1     -1   \n",
       "1   2   120000.0    2          2         2   26     -1      2      0      0   \n",
       "2   3    90000.0    2          2         2   34      0      0      0      0   \n",
       "3   4    50000.0    2          2         1   37      0      0      0      0   \n",
       "4   5    50000.0    1          2         1   57     -1      0     -1      0   \n",
       "\n",
       "   ...  BILL_AMT4  BILL_AMT5  BILL_AMT6  PAY_AMT1  PAY_AMT2  PAY_AMT3  \\\n",
       "0  ...        0.0        0.0        0.0       0.0     689.0       0.0   \n",
       "1  ...     3272.0     3455.0     3261.0       0.0    1000.0    1000.0   \n",
       "2  ...    14331.0    14948.0    15549.0    1518.0    1500.0    1000.0   \n",
       "3  ...    28314.0    28959.0    29547.0    2000.0    2019.0    1200.0   \n",
       "4  ...    20940.0    19146.0    19131.0    2000.0   36681.0   10000.0   \n",
       "\n",
       "   PAY_AMT4  PAY_AMT5  PAY_AMT6  default.payment.next.month  \n",
       "0       0.0       0.0       0.0                           1  \n",
       "1    1000.0       0.0    2000.0                           1  \n",
       "2    1000.0    1000.0    5000.0                           0  \n",
       "3    1100.0    1069.0    1000.0                           0  \n",
       "4    9000.0     689.0     679.0                           0  \n",
       "\n",
       "[5 rows x 25 columns]"
      ]
     },
     "execution_count": 2,
     "metadata": {},
     "output_type": "execute_result"
    }
   ],
   "source": [
    "## REad the dataset\n",
    "CreditCard = pd.read_csv('UCI_Credit_Card.csv')\n",
    "CreditCard.head()"
   ]
  },
  {
   "cell_type": "code",
   "execution_count": 3,
   "id": "1f98abd4",
   "metadata": {},
   "outputs": [
    {
     "name": "stdout",
     "output_type": "stream",
     "text": [
      "<class 'pandas.core.frame.DataFrame'>\n",
      "RangeIndex: 30000 entries, 0 to 29999\n",
      "Data columns (total 25 columns):\n",
      " #   Column                      Non-Null Count  Dtype  \n",
      "---  ------                      --------------  -----  \n",
      " 0   ID                          30000 non-null  int64  \n",
      " 1   LIMIT_BAL                   30000 non-null  float64\n",
      " 2   SEX                         30000 non-null  int64  \n",
      " 3   EDUCATION                   30000 non-null  int64  \n",
      " 4   MARRIAGE                    30000 non-null  int64  \n",
      " 5   AGE                         30000 non-null  int64  \n",
      " 6   PAY_0                       30000 non-null  int64  \n",
      " 7   PAY_2                       30000 non-null  int64  \n",
      " 8   PAY_3                       30000 non-null  int64  \n",
      " 9   PAY_4                       30000 non-null  int64  \n",
      " 10  PAY_5                       30000 non-null  int64  \n",
      " 11  PAY_6                       30000 non-null  int64  \n",
      " 12  BILL_AMT1                   30000 non-null  float64\n",
      " 13  BILL_AMT2                   30000 non-null  float64\n",
      " 14  BILL_AMT3                   30000 non-null  float64\n",
      " 15  BILL_AMT4                   30000 non-null  float64\n",
      " 16  BILL_AMT5                   30000 non-null  float64\n",
      " 17  BILL_AMT6                   30000 non-null  float64\n",
      " 18  PAY_AMT1                    30000 non-null  float64\n",
      " 19  PAY_AMT2                    30000 non-null  float64\n",
      " 20  PAY_AMT3                    30000 non-null  float64\n",
      " 21  PAY_AMT4                    30000 non-null  float64\n",
      " 22  PAY_AMT5                    30000 non-null  float64\n",
      " 23  PAY_AMT6                    30000 non-null  float64\n",
      " 24  default.payment.next.month  30000 non-null  int64  \n",
      "dtypes: float64(13), int64(12)\n",
      "memory usage: 5.7 MB\n"
     ]
    }
   ],
   "source": [
    "CreditCard.info()"
   ]
  },
  {
   "cell_type": "markdown",
   "id": "e7d992b3",
   "metadata": {},
   "source": [
    "## <font color='blue'>After getting information about data whether dtypes and any null value is present in data. We not found any null values.</font>"
   ]
  },
  {
   "cell_type": "code",
   "execution_count": 4,
   "id": "6b0a0a93",
   "metadata": {},
   "outputs": [
    {
     "data": {
      "text/html": [
       "<div>\n",
       "<style scoped>\n",
       "    .dataframe tbody tr th:only-of-type {\n",
       "        vertical-align: middle;\n",
       "    }\n",
       "\n",
       "    .dataframe tbody tr th {\n",
       "        vertical-align: top;\n",
       "    }\n",
       "\n",
       "    .dataframe thead th {\n",
       "        text-align: right;\n",
       "    }\n",
       "</style>\n",
       "<table border=\"1\" class=\"dataframe\">\n",
       "  <thead>\n",
       "    <tr style=\"text-align: right;\">\n",
       "      <th></th>\n",
       "      <th>count</th>\n",
       "      <th>mean</th>\n",
       "      <th>std</th>\n",
       "      <th>min</th>\n",
       "      <th>25%</th>\n",
       "      <th>50%</th>\n",
       "      <th>75%</th>\n",
       "      <th>max</th>\n",
       "    </tr>\n",
       "  </thead>\n",
       "  <tbody>\n",
       "    <tr>\n",
       "      <th>ID</th>\n",
       "      <td>30000.0</td>\n",
       "      <td>15000.500000</td>\n",
       "      <td>8660.398374</td>\n",
       "      <td>1.0</td>\n",
       "      <td>7500.75</td>\n",
       "      <td>15000.5</td>\n",
       "      <td>22500.25</td>\n",
       "      <td>30000.0</td>\n",
       "    </tr>\n",
       "    <tr>\n",
       "      <th>LIMIT_BAL</th>\n",
       "      <td>30000.0</td>\n",
       "      <td>167484.322667</td>\n",
       "      <td>129747.661567</td>\n",
       "      <td>10000.0</td>\n",
       "      <td>50000.00</td>\n",
       "      <td>140000.0</td>\n",
       "      <td>240000.00</td>\n",
       "      <td>1000000.0</td>\n",
       "    </tr>\n",
       "    <tr>\n",
       "      <th>SEX</th>\n",
       "      <td>30000.0</td>\n",
       "      <td>1.603733</td>\n",
       "      <td>0.489129</td>\n",
       "      <td>1.0</td>\n",
       "      <td>1.00</td>\n",
       "      <td>2.0</td>\n",
       "      <td>2.00</td>\n",
       "      <td>2.0</td>\n",
       "    </tr>\n",
       "    <tr>\n",
       "      <th>EDUCATION</th>\n",
       "      <td>30000.0</td>\n",
       "      <td>1.853133</td>\n",
       "      <td>0.790349</td>\n",
       "      <td>0.0</td>\n",
       "      <td>1.00</td>\n",
       "      <td>2.0</td>\n",
       "      <td>2.00</td>\n",
       "      <td>6.0</td>\n",
       "    </tr>\n",
       "    <tr>\n",
       "      <th>MARRIAGE</th>\n",
       "      <td>30000.0</td>\n",
       "      <td>1.551867</td>\n",
       "      <td>0.521970</td>\n",
       "      <td>0.0</td>\n",
       "      <td>1.00</td>\n",
       "      <td>2.0</td>\n",
       "      <td>2.00</td>\n",
       "      <td>3.0</td>\n",
       "    </tr>\n",
       "    <tr>\n",
       "      <th>AGE</th>\n",
       "      <td>30000.0</td>\n",
       "      <td>35.485500</td>\n",
       "      <td>9.217904</td>\n",
       "      <td>21.0</td>\n",
       "      <td>28.00</td>\n",
       "      <td>34.0</td>\n",
       "      <td>41.00</td>\n",
       "      <td>79.0</td>\n",
       "    </tr>\n",
       "    <tr>\n",
       "      <th>PAY_0</th>\n",
       "      <td>30000.0</td>\n",
       "      <td>-0.016700</td>\n",
       "      <td>1.123802</td>\n",
       "      <td>-2.0</td>\n",
       "      <td>-1.00</td>\n",
       "      <td>0.0</td>\n",
       "      <td>0.00</td>\n",
       "      <td>8.0</td>\n",
       "    </tr>\n",
       "    <tr>\n",
       "      <th>PAY_2</th>\n",
       "      <td>30000.0</td>\n",
       "      <td>-0.133767</td>\n",
       "      <td>1.197186</td>\n",
       "      <td>-2.0</td>\n",
       "      <td>-1.00</td>\n",
       "      <td>0.0</td>\n",
       "      <td>0.00</td>\n",
       "      <td>8.0</td>\n",
       "    </tr>\n",
       "    <tr>\n",
       "      <th>PAY_3</th>\n",
       "      <td>30000.0</td>\n",
       "      <td>-0.166200</td>\n",
       "      <td>1.196868</td>\n",
       "      <td>-2.0</td>\n",
       "      <td>-1.00</td>\n",
       "      <td>0.0</td>\n",
       "      <td>0.00</td>\n",
       "      <td>8.0</td>\n",
       "    </tr>\n",
       "    <tr>\n",
       "      <th>PAY_4</th>\n",
       "      <td>30000.0</td>\n",
       "      <td>-0.220667</td>\n",
       "      <td>1.169139</td>\n",
       "      <td>-2.0</td>\n",
       "      <td>-1.00</td>\n",
       "      <td>0.0</td>\n",
       "      <td>0.00</td>\n",
       "      <td>8.0</td>\n",
       "    </tr>\n",
       "    <tr>\n",
       "      <th>PAY_5</th>\n",
       "      <td>30000.0</td>\n",
       "      <td>-0.266200</td>\n",
       "      <td>1.133187</td>\n",
       "      <td>-2.0</td>\n",
       "      <td>-1.00</td>\n",
       "      <td>0.0</td>\n",
       "      <td>0.00</td>\n",
       "      <td>8.0</td>\n",
       "    </tr>\n",
       "    <tr>\n",
       "      <th>PAY_6</th>\n",
       "      <td>30000.0</td>\n",
       "      <td>-0.291100</td>\n",
       "      <td>1.149988</td>\n",
       "      <td>-2.0</td>\n",
       "      <td>-1.00</td>\n",
       "      <td>0.0</td>\n",
       "      <td>0.00</td>\n",
       "      <td>8.0</td>\n",
       "    </tr>\n",
       "    <tr>\n",
       "      <th>BILL_AMT1</th>\n",
       "      <td>30000.0</td>\n",
       "      <td>51223.330900</td>\n",
       "      <td>73635.860576</td>\n",
       "      <td>-165580.0</td>\n",
       "      <td>3558.75</td>\n",
       "      <td>22381.5</td>\n",
       "      <td>67091.00</td>\n",
       "      <td>964511.0</td>\n",
       "    </tr>\n",
       "    <tr>\n",
       "      <th>BILL_AMT2</th>\n",
       "      <td>30000.0</td>\n",
       "      <td>49179.075167</td>\n",
       "      <td>71173.768783</td>\n",
       "      <td>-69777.0</td>\n",
       "      <td>2984.75</td>\n",
       "      <td>21200.0</td>\n",
       "      <td>64006.25</td>\n",
       "      <td>983931.0</td>\n",
       "    </tr>\n",
       "    <tr>\n",
       "      <th>BILL_AMT3</th>\n",
       "      <td>30000.0</td>\n",
       "      <td>47013.154800</td>\n",
       "      <td>69349.387427</td>\n",
       "      <td>-157264.0</td>\n",
       "      <td>2666.25</td>\n",
       "      <td>20088.5</td>\n",
       "      <td>60164.75</td>\n",
       "      <td>1664089.0</td>\n",
       "    </tr>\n",
       "    <tr>\n",
       "      <th>BILL_AMT4</th>\n",
       "      <td>30000.0</td>\n",
       "      <td>43262.948967</td>\n",
       "      <td>64332.856134</td>\n",
       "      <td>-170000.0</td>\n",
       "      <td>2326.75</td>\n",
       "      <td>19052.0</td>\n",
       "      <td>54506.00</td>\n",
       "      <td>891586.0</td>\n",
       "    </tr>\n",
       "    <tr>\n",
       "      <th>BILL_AMT5</th>\n",
       "      <td>30000.0</td>\n",
       "      <td>40311.400967</td>\n",
       "      <td>60797.155770</td>\n",
       "      <td>-81334.0</td>\n",
       "      <td>1763.00</td>\n",
       "      <td>18104.5</td>\n",
       "      <td>50190.50</td>\n",
       "      <td>927171.0</td>\n",
       "    </tr>\n",
       "    <tr>\n",
       "      <th>BILL_AMT6</th>\n",
       "      <td>30000.0</td>\n",
       "      <td>38871.760400</td>\n",
       "      <td>59554.107537</td>\n",
       "      <td>-339603.0</td>\n",
       "      <td>1256.00</td>\n",
       "      <td>17071.0</td>\n",
       "      <td>49198.25</td>\n",
       "      <td>961664.0</td>\n",
       "    </tr>\n",
       "    <tr>\n",
       "      <th>PAY_AMT1</th>\n",
       "      <td>30000.0</td>\n",
       "      <td>5663.580500</td>\n",
       "      <td>16563.280354</td>\n",
       "      <td>0.0</td>\n",
       "      <td>1000.00</td>\n",
       "      <td>2100.0</td>\n",
       "      <td>5006.00</td>\n",
       "      <td>873552.0</td>\n",
       "    </tr>\n",
       "    <tr>\n",
       "      <th>PAY_AMT2</th>\n",
       "      <td>30000.0</td>\n",
       "      <td>5921.163500</td>\n",
       "      <td>23040.870402</td>\n",
       "      <td>0.0</td>\n",
       "      <td>833.00</td>\n",
       "      <td>2009.0</td>\n",
       "      <td>5000.00</td>\n",
       "      <td>1684259.0</td>\n",
       "    </tr>\n",
       "    <tr>\n",
       "      <th>PAY_AMT3</th>\n",
       "      <td>30000.0</td>\n",
       "      <td>5225.681500</td>\n",
       "      <td>17606.961470</td>\n",
       "      <td>0.0</td>\n",
       "      <td>390.00</td>\n",
       "      <td>1800.0</td>\n",
       "      <td>4505.00</td>\n",
       "      <td>896040.0</td>\n",
       "    </tr>\n",
       "    <tr>\n",
       "      <th>PAY_AMT4</th>\n",
       "      <td>30000.0</td>\n",
       "      <td>4826.076867</td>\n",
       "      <td>15666.159744</td>\n",
       "      <td>0.0</td>\n",
       "      <td>296.00</td>\n",
       "      <td>1500.0</td>\n",
       "      <td>4013.25</td>\n",
       "      <td>621000.0</td>\n",
       "    </tr>\n",
       "    <tr>\n",
       "      <th>PAY_AMT5</th>\n",
       "      <td>30000.0</td>\n",
       "      <td>4799.387633</td>\n",
       "      <td>15278.305679</td>\n",
       "      <td>0.0</td>\n",
       "      <td>252.50</td>\n",
       "      <td>1500.0</td>\n",
       "      <td>4031.50</td>\n",
       "      <td>426529.0</td>\n",
       "    </tr>\n",
       "    <tr>\n",
       "      <th>PAY_AMT6</th>\n",
       "      <td>30000.0</td>\n",
       "      <td>5215.502567</td>\n",
       "      <td>17777.465775</td>\n",
       "      <td>0.0</td>\n",
       "      <td>117.75</td>\n",
       "      <td>1500.0</td>\n",
       "      <td>4000.00</td>\n",
       "      <td>528666.0</td>\n",
       "    </tr>\n",
       "    <tr>\n",
       "      <th>default.payment.next.month</th>\n",
       "      <td>30000.0</td>\n",
       "      <td>0.221200</td>\n",
       "      <td>0.415062</td>\n",
       "      <td>0.0</td>\n",
       "      <td>0.00</td>\n",
       "      <td>0.0</td>\n",
       "      <td>0.00</td>\n",
       "      <td>1.0</td>\n",
       "    </tr>\n",
       "  </tbody>\n",
       "</table>\n",
       "</div>"
      ],
      "text/plain": [
       "                              count           mean            std       min  \\\n",
       "ID                          30000.0   15000.500000    8660.398374       1.0   \n",
       "LIMIT_BAL                   30000.0  167484.322667  129747.661567   10000.0   \n",
       "SEX                         30000.0       1.603733       0.489129       1.0   \n",
       "EDUCATION                   30000.0       1.853133       0.790349       0.0   \n",
       "MARRIAGE                    30000.0       1.551867       0.521970       0.0   \n",
       "AGE                         30000.0      35.485500       9.217904      21.0   \n",
       "PAY_0                       30000.0      -0.016700       1.123802      -2.0   \n",
       "PAY_2                       30000.0      -0.133767       1.197186      -2.0   \n",
       "PAY_3                       30000.0      -0.166200       1.196868      -2.0   \n",
       "PAY_4                       30000.0      -0.220667       1.169139      -2.0   \n",
       "PAY_5                       30000.0      -0.266200       1.133187      -2.0   \n",
       "PAY_6                       30000.0      -0.291100       1.149988      -2.0   \n",
       "BILL_AMT1                   30000.0   51223.330900   73635.860576 -165580.0   \n",
       "BILL_AMT2                   30000.0   49179.075167   71173.768783  -69777.0   \n",
       "BILL_AMT3                   30000.0   47013.154800   69349.387427 -157264.0   \n",
       "BILL_AMT4                   30000.0   43262.948967   64332.856134 -170000.0   \n",
       "BILL_AMT5                   30000.0   40311.400967   60797.155770  -81334.0   \n",
       "BILL_AMT6                   30000.0   38871.760400   59554.107537 -339603.0   \n",
       "PAY_AMT1                    30000.0    5663.580500   16563.280354       0.0   \n",
       "PAY_AMT2                    30000.0    5921.163500   23040.870402       0.0   \n",
       "PAY_AMT3                    30000.0    5225.681500   17606.961470       0.0   \n",
       "PAY_AMT4                    30000.0    4826.076867   15666.159744       0.0   \n",
       "PAY_AMT5                    30000.0    4799.387633   15278.305679       0.0   \n",
       "PAY_AMT6                    30000.0    5215.502567   17777.465775       0.0   \n",
       "default.payment.next.month  30000.0       0.221200       0.415062       0.0   \n",
       "\n",
       "                                 25%       50%        75%        max  \n",
       "ID                           7500.75   15000.5   22500.25    30000.0  \n",
       "LIMIT_BAL                   50000.00  140000.0  240000.00  1000000.0  \n",
       "SEX                             1.00       2.0       2.00        2.0  \n",
       "EDUCATION                       1.00       2.0       2.00        6.0  \n",
       "MARRIAGE                        1.00       2.0       2.00        3.0  \n",
       "AGE                            28.00      34.0      41.00       79.0  \n",
       "PAY_0                          -1.00       0.0       0.00        8.0  \n",
       "PAY_2                          -1.00       0.0       0.00        8.0  \n",
       "PAY_3                          -1.00       0.0       0.00        8.0  \n",
       "PAY_4                          -1.00       0.0       0.00        8.0  \n",
       "PAY_5                          -1.00       0.0       0.00        8.0  \n",
       "PAY_6                          -1.00       0.0       0.00        8.0  \n",
       "BILL_AMT1                    3558.75   22381.5   67091.00   964511.0  \n",
       "BILL_AMT2                    2984.75   21200.0   64006.25   983931.0  \n",
       "BILL_AMT3                    2666.25   20088.5   60164.75  1664089.0  \n",
       "BILL_AMT4                    2326.75   19052.0   54506.00   891586.0  \n",
       "BILL_AMT5                    1763.00   18104.5   50190.50   927171.0  \n",
       "BILL_AMT6                    1256.00   17071.0   49198.25   961664.0  \n",
       "PAY_AMT1                     1000.00    2100.0    5006.00   873552.0  \n",
       "PAY_AMT2                      833.00    2009.0    5000.00  1684259.0  \n",
       "PAY_AMT3                      390.00    1800.0    4505.00   896040.0  \n",
       "PAY_AMT4                      296.00    1500.0    4013.25   621000.0  \n",
       "PAY_AMT5                      252.50    1500.0    4031.50   426529.0  \n",
       "PAY_AMT6                      117.75    1500.0    4000.00   528666.0  \n",
       "default.payment.next.month      0.00       0.0       0.00        1.0  "
      ]
     },
     "execution_count": 4,
     "metadata": {},
     "output_type": "execute_result"
    }
   ],
   "source": [
    "# Summary Statitics\n",
    "CreditCard.describe().T"
   ]
  },
  {
   "cell_type": "markdown",
   "id": "c8a88808",
   "metadata": {},
   "source": [
    "## <font color='orange'>we can see that education and marriage having min. value is 0, but as per data defination min. data is starting from 1. So, we have to change information. Even Education column encoded wrongly. **'Unknown'** encoded two different number.</font>\n",
    "\n",
    "### <font color='blue'> change the column name 'default.payment.next.month' as 'Default_Payment'.</font>"
   ]
  },
  {
   "cell_type": "markdown",
   "id": "211f1f07",
   "metadata": {},
   "source": [
    "# Exploratory Data Analysis"
   ]
  },
  {
   "cell_type": "markdown",
   "id": "791a580c",
   "metadata": {},
   "source": [
    "## Analysis of Dependent Variable:"
   ]
  },
  {
   "cell_type": "code",
   "execution_count": 5,
   "id": "828c5084",
   "metadata": {},
   "outputs": [],
   "source": [
    "#renaming for better convinience\n",
    "CreditCard.rename(columns={'default.payment.next.month':'Default_Payment'}, inplace=True) # rename default.payment.next.month as 'Default_Payment'"
   ]
  },
  {
   "cell_type": "code",
   "execution_count": 6,
   "id": "ba6ab0c7",
   "metadata": {},
   "outputs": [
    {
     "data": {
      "text/html": [
       "<div>\n",
       "<style scoped>\n",
       "    .dataframe tbody tr th:only-of-type {\n",
       "        vertical-align: middle;\n",
       "    }\n",
       "\n",
       "    .dataframe tbody tr th {\n",
       "        vertical-align: top;\n",
       "    }\n",
       "\n",
       "    .dataframe thead th {\n",
       "        text-align: right;\n",
       "    }\n",
       "</style>\n",
       "<table border=\"1\" class=\"dataframe\">\n",
       "  <thead>\n",
       "    <tr style=\"text-align: right;\">\n",
       "      <th></th>\n",
       "      <th>ID</th>\n",
       "      <th>LIMIT_BAL</th>\n",
       "      <th>SEX</th>\n",
       "      <th>EDUCATION</th>\n",
       "      <th>MARRIAGE</th>\n",
       "      <th>AGE</th>\n",
       "      <th>PAY_0</th>\n",
       "      <th>PAY_2</th>\n",
       "      <th>PAY_3</th>\n",
       "      <th>PAY_4</th>\n",
       "      <th>...</th>\n",
       "      <th>BILL_AMT4</th>\n",
       "      <th>BILL_AMT5</th>\n",
       "      <th>BILL_AMT6</th>\n",
       "      <th>PAY_AMT1</th>\n",
       "      <th>PAY_AMT2</th>\n",
       "      <th>PAY_AMT3</th>\n",
       "      <th>PAY_AMT4</th>\n",
       "      <th>PAY_AMT5</th>\n",
       "      <th>PAY_AMT6</th>\n",
       "      <th>Default_Payment</th>\n",
       "    </tr>\n",
       "  </thead>\n",
       "  <tbody>\n",
       "    <tr>\n",
       "      <th>0</th>\n",
       "      <td>1</td>\n",
       "      <td>20000.0</td>\n",
       "      <td>2</td>\n",
       "      <td>2</td>\n",
       "      <td>1</td>\n",
       "      <td>24</td>\n",
       "      <td>2</td>\n",
       "      <td>2</td>\n",
       "      <td>-1</td>\n",
       "      <td>-1</td>\n",
       "      <td>...</td>\n",
       "      <td>0.0</td>\n",
       "      <td>0.0</td>\n",
       "      <td>0.0</td>\n",
       "      <td>0.0</td>\n",
       "      <td>689.0</td>\n",
       "      <td>0.0</td>\n",
       "      <td>0.0</td>\n",
       "      <td>0.0</td>\n",
       "      <td>0.0</td>\n",
       "      <td>1</td>\n",
       "    </tr>\n",
       "    <tr>\n",
       "      <th>1</th>\n",
       "      <td>2</td>\n",
       "      <td>120000.0</td>\n",
       "      <td>2</td>\n",
       "      <td>2</td>\n",
       "      <td>2</td>\n",
       "      <td>26</td>\n",
       "      <td>-1</td>\n",
       "      <td>2</td>\n",
       "      <td>0</td>\n",
       "      <td>0</td>\n",
       "      <td>...</td>\n",
       "      <td>3272.0</td>\n",
       "      <td>3455.0</td>\n",
       "      <td>3261.0</td>\n",
       "      <td>0.0</td>\n",
       "      <td>1000.0</td>\n",
       "      <td>1000.0</td>\n",
       "      <td>1000.0</td>\n",
       "      <td>0.0</td>\n",
       "      <td>2000.0</td>\n",
       "      <td>1</td>\n",
       "    </tr>\n",
       "    <tr>\n",
       "      <th>2</th>\n",
       "      <td>3</td>\n",
       "      <td>90000.0</td>\n",
       "      <td>2</td>\n",
       "      <td>2</td>\n",
       "      <td>2</td>\n",
       "      <td>34</td>\n",
       "      <td>0</td>\n",
       "      <td>0</td>\n",
       "      <td>0</td>\n",
       "      <td>0</td>\n",
       "      <td>...</td>\n",
       "      <td>14331.0</td>\n",
       "      <td>14948.0</td>\n",
       "      <td>15549.0</td>\n",
       "      <td>1518.0</td>\n",
       "      <td>1500.0</td>\n",
       "      <td>1000.0</td>\n",
       "      <td>1000.0</td>\n",
       "      <td>1000.0</td>\n",
       "      <td>5000.0</td>\n",
       "      <td>0</td>\n",
       "    </tr>\n",
       "    <tr>\n",
       "      <th>3</th>\n",
       "      <td>4</td>\n",
       "      <td>50000.0</td>\n",
       "      <td>2</td>\n",
       "      <td>2</td>\n",
       "      <td>1</td>\n",
       "      <td>37</td>\n",
       "      <td>0</td>\n",
       "      <td>0</td>\n",
       "      <td>0</td>\n",
       "      <td>0</td>\n",
       "      <td>...</td>\n",
       "      <td>28314.0</td>\n",
       "      <td>28959.0</td>\n",
       "      <td>29547.0</td>\n",
       "      <td>2000.0</td>\n",
       "      <td>2019.0</td>\n",
       "      <td>1200.0</td>\n",
       "      <td>1100.0</td>\n",
       "      <td>1069.0</td>\n",
       "      <td>1000.0</td>\n",
       "      <td>0</td>\n",
       "    </tr>\n",
       "    <tr>\n",
       "      <th>4</th>\n",
       "      <td>5</td>\n",
       "      <td>50000.0</td>\n",
       "      <td>1</td>\n",
       "      <td>2</td>\n",
       "      <td>1</td>\n",
       "      <td>57</td>\n",
       "      <td>-1</td>\n",
       "      <td>0</td>\n",
       "      <td>-1</td>\n",
       "      <td>0</td>\n",
       "      <td>...</td>\n",
       "      <td>20940.0</td>\n",
       "      <td>19146.0</td>\n",
       "      <td>19131.0</td>\n",
       "      <td>2000.0</td>\n",
       "      <td>36681.0</td>\n",
       "      <td>10000.0</td>\n",
       "      <td>9000.0</td>\n",
       "      <td>689.0</td>\n",
       "      <td>679.0</td>\n",
       "      <td>0</td>\n",
       "    </tr>\n",
       "  </tbody>\n",
       "</table>\n",
       "<p>5 rows × 25 columns</p>\n",
       "</div>"
      ],
      "text/plain": [
       "   ID  LIMIT_BAL  SEX  EDUCATION  MARRIAGE  AGE  PAY_0  PAY_2  PAY_3  PAY_4  \\\n",
       "0   1    20000.0    2          2         1   24      2      2     -1     -1   \n",
       "1   2   120000.0    2          2         2   26     -1      2      0      0   \n",
       "2   3    90000.0    2          2         2   34      0      0      0      0   \n",
       "3   4    50000.0    2          2         1   37      0      0      0      0   \n",
       "4   5    50000.0    1          2         1   57     -1      0     -1      0   \n",
       "\n",
       "   ...  BILL_AMT4  BILL_AMT5  BILL_AMT6  PAY_AMT1  PAY_AMT2  PAY_AMT3  \\\n",
       "0  ...        0.0        0.0        0.0       0.0     689.0       0.0   \n",
       "1  ...     3272.0     3455.0     3261.0       0.0    1000.0    1000.0   \n",
       "2  ...    14331.0    14948.0    15549.0    1518.0    1500.0    1000.0   \n",
       "3  ...    28314.0    28959.0    29547.0    2000.0    2019.0    1200.0   \n",
       "4  ...    20940.0    19146.0    19131.0    2000.0   36681.0   10000.0   \n",
       "\n",
       "   PAY_AMT4  PAY_AMT5  PAY_AMT6  Default_Payment  \n",
       "0       0.0       0.0       0.0                1  \n",
       "1    1000.0       0.0    2000.0                1  \n",
       "2    1000.0    1000.0    5000.0                0  \n",
       "3    1100.0    1069.0    1000.0                0  \n",
       "4    9000.0     689.0     679.0                0  \n",
       "\n",
       "[5 rows x 25 columns]"
      ]
     },
     "execution_count": 6,
     "metadata": {},
     "output_type": "execute_result"
    }
   ],
   "source": [
    "#display the top records\n",
    "CreditCard.head()"
   ]
  },
  {
   "cell_type": "code",
   "execution_count": 7,
   "id": "a8b68dd6",
   "metadata": {},
   "outputs": [
    {
     "data": {
      "text/plain": [
       "0    23364\n",
       "1     6636\n",
       "Name: Default_Payment, dtype: int64"
      ]
     },
     "execution_count": 7,
     "metadata": {},
     "output_type": "execute_result"
    }
   ],
   "source": [
    "# counts the dependent variable data set\n",
    "CreditCard['Default_Payment'].value_counts()"
   ]
  },
  {
   "cell_type": "code",
   "execution_count": 8,
   "id": "4e55b93c",
   "metadata": {},
   "outputs": [
    {
     "data": {
      "image/png": "[encoded data removed]",
      "text/plain": [
       "<Figure size 1000x800 with 1 Axes>"
      ]
     },
     "metadata": {},
     "output_type": "display_data"
    }
   ],
   "source": [
    "#plotting the count plot to vizualize the data distribution \n",
    "#plot the count plot to check the data distribution\n",
    "plt.figure(figsize=(10,8))\n",
    "plots = sns.countplot(x = 'Default_Payment', data = CreditCard)\n",
    "# Iterrating over the bars one-by-one\n",
    "for bar in plots.patches:\n",
    "   \n",
    "  # Using Matplotlib's annotate function and\n",
    "  # passing the coordinates where the annotation shall be done\n",
    "  # x-coordinate: bar.get_x() + bar.get_width() / 2\n",
    "  # y-coordinate: bar.get_height()\n",
    "  # free space to be left to make graph pleasing: (0, 8)\n",
    "  # ha and va stand for the horizontal and vertical alignment\n",
    "    plots.annotate(format(bar.get_height(), '.2f'),\n",
    "                   (bar.get_x() + bar.get_width() / 2,\n",
    "                    bar.get_height()), ha='center', va='center',\n",
    "                   size=15, xytext=(0, 8),\n",
    "                   textcoords='offset points')\n",
    " \n",
    "# Finally showing the plot\n",
    "plt.show()"
   ]
  },
  {
   "cell_type": "markdown",
   "id": "8f49cb81",
   "metadata": {},
   "source": [
    "### From the above data analysis we can say that\n",
    "\n",
    ">- 0 - Not Default\n",
    ">- 1 - Default\n",
    "\n",
    "### <font color='sky blue'>Defaulters are less than the Non Defaulters in the given dataset.</font>"
   ]
  },
  {
   "cell_type": "code",
   "execution_count": 9,
   "id": "cff7036e",
   "metadata": {},
   "outputs": [
    {
     "name": "stdout",
     "output_type": "stream",
     "text": [
      "percentage of no defaulter is 77.88000000000001\n",
      "percentage of defaulter 22.12\n"
     ]
    }
   ],
   "source": [
    "# get percentage of target variable of Defaulter and Non Defaulter\n",
    "count_no_sub = len(CreditCard[CreditCard['Default_Payment']==0])\n",
    "count_sub = len(CreditCard[CreditCard['Default_Payment']==1])\n",
    "pct_of_no_sub = count_no_sub/(count_no_sub+count_sub)\n",
    "print(\"percentage of no defaulter is\", pct_of_no_sub*100)\n",
    "pct_of_sub = count_sub/(count_no_sub+count_sub)\n",
    "print(\"percentage of defaulter\", pct_of_sub*100)"
   ]
  },
  {
   "cell_type": "markdown",
   "id": "d99e1dec",
   "metadata": {},
   "source": [
    "#### Our classes are imbalanced, and the ratio of no-defaulters to defaulters instances is 78:22. Before we go ahead to balance the classes, let’s do some more exploration."
   ]
  },
  {
   "cell_type": "code",
   "execution_count": 10,
   "id": "270d244f",
   "metadata": {},
   "outputs": [
    {
     "data": {
      "text/html": [
       "<div>\n",
       "<style scoped>\n",
       "    .dataframe tbody tr th:only-of-type {\n",
       "        vertical-align: middle;\n",
       "    }\n",
       "\n",
       "    .dataframe tbody tr th {\n",
       "        vertical-align: top;\n",
       "    }\n",
       "\n",
       "    .dataframe thead th {\n",
       "        text-align: right;\n",
       "    }\n",
       "</style>\n",
       "<table border=\"1\" class=\"dataframe\">\n",
       "  <thead>\n",
       "    <tr style=\"text-align: right;\">\n",
       "      <th></th>\n",
       "      <th>ID</th>\n",
       "      <th>LIMIT_BAL</th>\n",
       "      <th>SEX</th>\n",
       "      <th>EDUCATION</th>\n",
       "      <th>MARRIAGE</th>\n",
       "      <th>AGE</th>\n",
       "      <th>PAY_0</th>\n",
       "      <th>PAY_2</th>\n",
       "      <th>PAY_3</th>\n",
       "      <th>PAY_4</th>\n",
       "      <th>...</th>\n",
       "      <th>BILL_AMT3</th>\n",
       "      <th>BILL_AMT4</th>\n",
       "      <th>BILL_AMT5</th>\n",
       "      <th>BILL_AMT6</th>\n",
       "      <th>PAY_AMT1</th>\n",
       "      <th>PAY_AMT2</th>\n",
       "      <th>PAY_AMT3</th>\n",
       "      <th>PAY_AMT4</th>\n",
       "      <th>PAY_AMT5</th>\n",
       "      <th>PAY_AMT6</th>\n",
       "    </tr>\n",
       "    <tr>\n",
       "      <th>Default_Payment</th>\n",
       "      <th></th>\n",
       "      <th></th>\n",
       "      <th></th>\n",
       "      <th></th>\n",
       "      <th></th>\n",
       "      <th></th>\n",
       "      <th></th>\n",
       "      <th></th>\n",
       "      <th></th>\n",
       "      <th></th>\n",
       "      <th></th>\n",
       "      <th></th>\n",
       "      <th></th>\n",
       "      <th></th>\n",
       "      <th></th>\n",
       "      <th></th>\n",
       "      <th></th>\n",
       "      <th></th>\n",
       "      <th></th>\n",
       "      <th></th>\n",
       "      <th></th>\n",
       "    </tr>\n",
       "  </thead>\n",
       "  <tbody>\n",
       "    <tr>\n",
       "      <th>0</th>\n",
       "      <td>15064.893982</td>\n",
       "      <td>178099.726074</td>\n",
       "      <td>1.614150</td>\n",
       "      <td>1.841337</td>\n",
       "      <td>1.558637</td>\n",
       "      <td>35.417266</td>\n",
       "      <td>-0.211222</td>\n",
       "      <td>-0.301917</td>\n",
       "      <td>-0.316256</td>\n",
       "      <td>-0.355633</td>\n",
       "      <td>...</td>\n",
       "      <td>47533.365605</td>\n",
       "      <td>43611.165254</td>\n",
       "      <td>40530.445343</td>\n",
       "      <td>39042.268704</td>\n",
       "      <td>6307.337357</td>\n",
       "      <td>6640.465074</td>\n",
       "      <td>5753.496833</td>\n",
       "      <td>5300.529319</td>\n",
       "      <td>5248.220296</td>\n",
       "      <td>5719.371769</td>\n",
       "    </tr>\n",
       "    <tr>\n",
       "      <th>1</th>\n",
       "      <td>14773.781947</td>\n",
       "      <td>130109.656420</td>\n",
       "      <td>1.567058</td>\n",
       "      <td>1.894665</td>\n",
       "      <td>1.528029</td>\n",
       "      <td>35.725738</td>\n",
       "      <td>0.668174</td>\n",
       "      <td>0.458258</td>\n",
       "      <td>0.362116</td>\n",
       "      <td>0.254521</td>\n",
       "      <td>...</td>\n",
       "      <td>45181.598855</td>\n",
       "      <td>42036.950573</td>\n",
       "      <td>39540.190476</td>\n",
       "      <td>38271.435503</td>\n",
       "      <td>3397.044153</td>\n",
       "      <td>3388.649638</td>\n",
       "      <td>3367.351567</td>\n",
       "      <td>3155.626733</td>\n",
       "      <td>3219.139542</td>\n",
       "      <td>3441.482068</td>\n",
       "    </tr>\n",
       "  </tbody>\n",
       "</table>\n",
       "<p>2 rows × 24 columns</p>\n",
       "</div>"
      ],
      "text/plain": [
       "                           ID      LIMIT_BAL       SEX  EDUCATION  MARRIAGE  \\\n",
       "Default_Payment                                                               \n",
       "0                15064.893982  178099.726074  1.614150   1.841337  1.558637   \n",
       "1                14773.781947  130109.656420  1.567058   1.894665  1.528029   \n",
       "\n",
       "                       AGE     PAY_0     PAY_2     PAY_3     PAY_4  ...  \\\n",
       "Default_Payment                                                     ...   \n",
       "0                35.417266 -0.211222 -0.301917 -0.316256 -0.355633  ...   \n",
       "1                35.725738  0.668174  0.458258  0.362116  0.254521  ...   \n",
       "\n",
       "                    BILL_AMT3     BILL_AMT4     BILL_AMT5     BILL_AMT6  \\\n",
       "Default_Payment                                                           \n",
       "0                47533.365605  43611.165254  40530.445343  39042.268704   \n",
       "1                45181.598855  42036.950573  39540.190476  38271.435503   \n",
       "\n",
       "                    PAY_AMT1     PAY_AMT2     PAY_AMT3     PAY_AMT4  \\\n",
       "Default_Payment                                                       \n",
       "0                6307.337357  6640.465074  5753.496833  5300.529319   \n",
       "1                3397.044153  3388.649638  3367.351567  3155.626733   \n",
       "\n",
       "                    PAY_AMT5     PAY_AMT6  \n",
       "Default_Payment                            \n",
       "0                5248.220296  5719.371769  \n",
       "1                3219.139542  3441.482068  \n",
       "\n",
       "[2 rows x 24 columns]"
      ]
     },
     "execution_count": 10,
     "metadata": {},
     "output_type": "execute_result"
    }
   ],
   "source": [
    "CreditCard.groupby('Default_Payment').mean()"
   ]
  },
  {
   "cell_type": "markdown",
   "id": "158f3da6",
   "metadata": {},
   "source": [
    "## Analysis of Independent Variable:\n",
    "\n",
    "### <font color='green'>Let'Check how they are related with out target class.</font>\n",
    "## SEX"
   ]
  },
  {
   "cell_type": "code",
   "execution_count": 11,
   "id": "6ae7f8c8",
   "metadata": {},
   "outputs": [
    {
     "data": {
      "text/plain": [
       "2    18112\n",
       "1    11888\n",
       "Name: SEX, dtype: int64"
      ]
     },
     "execution_count": 11,
     "metadata": {},
     "output_type": "execute_result"
    }
   ],
   "source": [
    "# counts the SEX variable data set\n",
    "CreditCard['SEX'].value_counts()"
   ]
  },
  {
   "cell_type": "code",
   "execution_count": 12,
   "id": "652abc62",
   "metadata": {},
   "outputs": [
    {
     "data": {
      "image/png": "[encoded data removed]",
      "text/plain": [
       "<Figure size 720x576 with 1 Axes>"
      ]
     },
     "metadata": {
      "needs_background": "light"
     },
     "output_type": "display_data"
    }
   ],
   "source": [
    "#plotting the count plot to vizualize the data distribution\n",
    "plt.figure(figsize=(10,8))\n",
    "plots = sns.countplot(x = 'SEX', data = CreditCard)\n",
    "\n",
    "# Iterrating over the bars one-by-one\n",
    "for bar in plots.patches:\n",
    "   \n",
    "  # Using Matplotlib's annotate function and\n",
    "  # passing the coordinates where the annotation shall be done\n",
    "  # x-coordinate: bar.get_x() + bar.get_width() / 2\n",
    "  # y-coordinate: bar.get_height()\n",
    "  # free space to be left to make graph pleasing: (0, 8)\n",
    "  # ha and va stand for the horizontal and vertical alignment\n",
    "    plots.annotate(format(bar.get_height(), '.2f'),\n",
    "                   (bar.get_x() + bar.get_width() / 2,\n",
    "                    bar.get_height()), ha='center', va='center',\n",
    "                   size=15, xytext=(0, 8),\n",
    "                   textcoords='offset points')\n",
    " \n",
    "# Finally showing the plot\n",
    "plt.show()"
   ]
  },
  {
   "cell_type": "markdown",
   "id": "4ecffbae",
   "metadata": {},
   "source": [
    "### From the above data analysis we can say that\n",
    "\n",
    ">- 1 - Male\n",
    ">- 2 - Female\n",
    "### <font color='sky blue'>Number of Male credit holder is less than Female.</font>"
   ]
  },
  {
   "cell_type": "code",
   "execution_count": 13,
   "id": "499bc57b",
   "metadata": {},
   "outputs": [
    {
     "data": {
      "text/html": [
       "<div>\n",
       "<style scoped>\n",
       "    .dataframe tbody tr th:only-of-type {\n",
       "        vertical-align: middle;\n",
       "    }\n",
       "\n",
       "    .dataframe tbody tr th {\n",
       "        vertical-align: top;\n",
       "    }\n",
       "\n",
       "    .dataframe thead th {\n",
       "        text-align: right;\n",
       "    }\n",
       "</style>\n",
       "<table border=\"1\" class=\"dataframe\">\n",
       "  <thead>\n",
       "    <tr style=\"text-align: right;\">\n",
       "      <th></th>\n",
       "      <th>ID</th>\n",
       "      <th>LIMIT_BAL</th>\n",
       "      <th>EDUCATION</th>\n",
       "      <th>MARRIAGE</th>\n",
       "      <th>AGE</th>\n",
       "      <th>PAY_0</th>\n",
       "      <th>PAY_2</th>\n",
       "      <th>PAY_3</th>\n",
       "      <th>PAY_4</th>\n",
       "      <th>PAY_5</th>\n",
       "      <th>...</th>\n",
       "      <th>BILL_AMT4</th>\n",
       "      <th>BILL_AMT5</th>\n",
       "      <th>BILL_AMT6</th>\n",
       "      <th>PAY_AMT1</th>\n",
       "      <th>PAY_AMT2</th>\n",
       "      <th>PAY_AMT3</th>\n",
       "      <th>PAY_AMT4</th>\n",
       "      <th>PAY_AMT5</th>\n",
       "      <th>PAY_AMT6</th>\n",
       "      <th>Default_Payment</th>\n",
       "    </tr>\n",
       "    <tr>\n",
       "      <th>SEX</th>\n",
       "      <th></th>\n",
       "      <th></th>\n",
       "      <th></th>\n",
       "      <th></th>\n",
       "      <th></th>\n",
       "      <th></th>\n",
       "      <th></th>\n",
       "      <th></th>\n",
       "      <th></th>\n",
       "      <th></th>\n",
       "      <th></th>\n",
       "      <th></th>\n",
       "      <th></th>\n",
       "      <th></th>\n",
       "      <th></th>\n",
       "      <th></th>\n",
       "      <th></th>\n",
       "      <th></th>\n",
       "      <th></th>\n",
       "      <th></th>\n",
       "      <th></th>\n",
       "    </tr>\n",
       "  </thead>\n",
       "  <tbody>\n",
       "    <tr>\n",
       "      <th>1</th>\n",
       "      <td>14802.770104</td>\n",
       "      <td>163519.825034</td>\n",
       "      <td>1.839250</td>\n",
       "      <td>1.572090</td>\n",
       "      <td>36.519431</td>\n",
       "      <td>0.063257</td>\n",
       "      <td>-0.029189</td>\n",
       "      <td>-0.068557</td>\n",
       "      <td>-0.133832</td>\n",
       "      <td>-0.189182</td>\n",
       "      <td>...</td>\n",
       "      <td>45000.331090</td>\n",
       "      <td>41587.504963</td>\n",
       "      <td>40101.775320</td>\n",
       "      <td>5668.537264</td>\n",
       "      <td>5960.720138</td>\n",
       "      <td>5412.506057</td>\n",
       "      <td>4869.177995</td>\n",
       "      <td>4830.827052</td>\n",
       "      <td>5276.196753</td>\n",
       "      <td>0.241672</td>\n",
       "    </tr>\n",
       "    <tr>\n",
       "      <th>2</th>\n",
       "      <td>15130.282078</td>\n",
       "      <td>170086.462014</td>\n",
       "      <td>1.862246</td>\n",
       "      <td>1.538593</td>\n",
       "      <td>34.806868</td>\n",
       "      <td>-0.069181</td>\n",
       "      <td>-0.202407</td>\n",
       "      <td>-0.230289</td>\n",
       "      <td>-0.277661</td>\n",
       "      <td>-0.316751</td>\n",
       "      <td>...</td>\n",
       "      <td>42122.600099</td>\n",
       "      <td>39473.816807</td>\n",
       "      <td>38064.427286</td>\n",
       "      <td>5660.327076</td>\n",
       "      <td>5895.200088</td>\n",
       "      <td>5103.057255</td>\n",
       "      <td>4797.786992</td>\n",
       "      <td>4778.752043</td>\n",
       "      <td>5175.665305</td>\n",
       "      <td>0.207763</td>\n",
       "    </tr>\n",
       "  </tbody>\n",
       "</table>\n",
       "<p>2 rows × 24 columns</p>\n",
       "</div>"
      ],
      "text/plain": [
       "               ID      LIMIT_BAL  EDUCATION  MARRIAGE        AGE     PAY_0  \\\n",
       "SEX                                                                          \n",
       "1    14802.770104  163519.825034   1.839250  1.572090  36.519431  0.063257   \n",
       "2    15130.282078  170086.462014   1.862246  1.538593  34.806868 -0.069181   \n",
       "\n",
       "        PAY_2     PAY_3     PAY_4     PAY_5  ...     BILL_AMT4     BILL_AMT5  \\\n",
       "SEX                                          ...                               \n",
       "1   -0.029189 -0.068557 -0.133832 -0.189182  ...  45000.331090  41587.504963   \n",
       "2   -0.202407 -0.230289 -0.277661 -0.316751  ...  42122.600099  39473.816807   \n",
       "\n",
       "        BILL_AMT6     PAY_AMT1     PAY_AMT2     PAY_AMT3     PAY_AMT4  \\\n",
       "SEX                                                                     \n",
       "1    40101.775320  5668.537264  5960.720138  5412.506057  4869.177995   \n",
       "2    38064.427286  5660.327076  5895.200088  5103.057255  4797.786992   \n",
       "\n",
       "        PAY_AMT5     PAY_AMT6  Default_Payment  \n",
       "SEX                                             \n",
       "1    4830.827052  5276.196753         0.241672  \n",
       "2    4778.752043  5175.665305         0.207763  \n",
       "\n",
       "[2 rows x 24 columns]"
      ]
     },
     "execution_count": 13,
     "metadata": {},
     "output_type": "execute_result"
    }
   ],
   "source": [
    "CreditCard.groupby(['SEX']).mean()"
   ]
  },
  {
   "cell_type": "markdown",
   "id": "f4bdbaac",
   "metadata": {},
   "source": [
    "## Education"
   ]
  },
  {
   "cell_type": "code",
   "execution_count": 14,
   "id": "48d3588b",
   "metadata": {},
   "outputs": [
    {
     "data": {
      "text/plain": [
       "2    14030\n",
       "1    10585\n",
       "3     4917\n",
       "5      280\n",
       "4      123\n",
       "6       51\n",
       "0       14\n",
       "Name: EDUCATION, dtype: int64"
      ]
     },
     "execution_count": 14,
     "metadata": {},
     "output_type": "execute_result"
    }
   ],
   "source": [
    "# counts the education  data set variable data set\n",
    "CreditCard['EDUCATION'].value_counts()"
   ]
  },
  {
   "cell_type": "markdown",
   "id": "dc010ca1",
   "metadata": {},
   "source": [
    "#### <font color='orange'>EDUCATION' column: notice 5 and 6 are both recorded as 'unknown' and there is 0 which isn't explained in the dataset description. Since the amounts are so small, let's combine 0,4,5,6 to 0 which means\"other'.</font>"
   ]
  },
  {
   "cell_type": "code",
   "execution_count": 15,
   "id": "4d6962c4",
   "metadata": {},
   "outputs": [
    {
     "data": {
      "text/plain": [
       "2    14030\n",
       "1    10585\n",
       "3     4917\n",
       "0      468\n",
       "Name: EDUCATION, dtype: int64"
      ]
     },
     "execution_count": 15,
     "metadata": {},
     "output_type": "execute_result"
    }
   ],
   "source": [
    "# Change values 4, 5, 6 to 0 and define 0 as 'others'\n",
    "# 1=graduate school, 2=university, 3=high school, 0=others\n",
    "\n",
    "CreditCard[\"EDUCATION\"] = CreditCard[\"EDUCATION\"].replace({4:0,5:0,6:0})\n",
    "CreditCard[\"EDUCATION\"].value_counts()"
   ]
  },
  {
   "cell_type": "code",
   "execution_count": 16,
   "id": "e2a80764",
   "metadata": {},
   "outputs": [
    {
     "data": {
      "image/png": "[encoded data removed]",
      "text/plain": [
       "<Figure size 720x576 with 1 Axes>"
      ]
     },
     "metadata": {
      "needs_background": "light"
     },
     "output_type": "display_data"
    }
   ],
   "source": [
    "#plotting the count plot to vizualize the data distribution\n",
    "plt.figure(figsize=(10,8))\n",
    "plots = sns.countplot(x = 'EDUCATION', data = CreditCard)\n",
    "\n",
    "# Iterrating over the bars one-by-one\n",
    "for bar in plots.patches:\n",
    "   \n",
    "  # Using Matplotlib's annotate function and\n",
    "  # passing the coordinates where the annotation shall be done\n",
    "  # x-coordinate: bar.get_x() + bar.get_width() / 2\n",
    "  # y-coordinate: bar.get_height()\n",
    "  # free space to be left to make graph pleasing: (0, 8)\n",
    "  # ha and va stand for the horizontal and vertical alignment\n",
    "    plots.annotate(format(bar.get_height(), '.2f'),\n",
    "                   (bar.get_x() + bar.get_width() / 2,\n",
    "                    bar.get_height()), ha='center', va='center',\n",
    "                   size=15, xytext=(0, 8),\n",
    "                   textcoords='offset points')\n",
    " \n",
    "# Finally showing the plot\n",
    "plt.show()"
   ]
  },
  {
   "cell_type": "markdown",
   "id": "8a6ba8ec",
   "metadata": {},
   "source": [
    "### From the above data analysis we can say that\n",
    "\n",
    ">- 1 = graduate school\n",
    ">- 2 = university \n",
    ">- 3 = high school; \n",
    ">- 0 = others\n",
    "### <font color='sky blue'> More number of credit holders are university students followed by Graduates and then High school students.</font>"
   ]
  },
  {
   "cell_type": "code",
   "execution_count": 17,
   "id": "e88c4abe",
   "metadata": {},
   "outputs": [
    {
     "data": {
      "text/html": [
       "<div>\n",
       "<style scoped>\n",
       "    .dataframe tbody tr th:only-of-type {\n",
       "        vertical-align: middle;\n",
       "    }\n",
       "\n",
       "    .dataframe tbody tr th {\n",
       "        vertical-align: top;\n",
       "    }\n",
       "\n",
       "    .dataframe thead th {\n",
       "        text-align: right;\n",
       "    }\n",
       "</style>\n",
       "<table border=\"1\" class=\"dataframe\">\n",
       "  <thead>\n",
       "    <tr style=\"text-align: right;\">\n",
       "      <th></th>\n",
       "      <th>ID</th>\n",
       "      <th>LIMIT_BAL</th>\n",
       "      <th>SEX</th>\n",
       "      <th>MARRIAGE</th>\n",
       "      <th>AGE</th>\n",
       "      <th>PAY_0</th>\n",
       "      <th>PAY_2</th>\n",
       "      <th>PAY_3</th>\n",
       "      <th>PAY_4</th>\n",
       "      <th>PAY_5</th>\n",
       "      <th>...</th>\n",
       "      <th>BILL_AMT4</th>\n",
       "      <th>BILL_AMT5</th>\n",
       "      <th>BILL_AMT6</th>\n",
       "      <th>PAY_AMT1</th>\n",
       "      <th>PAY_AMT2</th>\n",
       "      <th>PAY_AMT3</th>\n",
       "      <th>PAY_AMT4</th>\n",
       "      <th>PAY_AMT5</th>\n",
       "      <th>PAY_AMT6</th>\n",
       "      <th>Default_Payment</th>\n",
       "    </tr>\n",
       "    <tr>\n",
       "      <th>EDUCATION</th>\n",
       "      <th></th>\n",
       "      <th></th>\n",
       "      <th></th>\n",
       "      <th></th>\n",
       "      <th></th>\n",
       "      <th></th>\n",
       "      <th></th>\n",
       "      <th></th>\n",
       "      <th></th>\n",
       "      <th></th>\n",
       "      <th></th>\n",
       "      <th></th>\n",
       "      <th></th>\n",
       "      <th></th>\n",
       "      <th></th>\n",
       "      <th></th>\n",
       "      <th></th>\n",
       "      <th></th>\n",
       "      <th></th>\n",
       "      <th></th>\n",
       "      <th></th>\n",
       "    </tr>\n",
       "  </thead>\n",
       "  <tbody>\n",
       "    <tr>\n",
       "      <th>0</th>\n",
       "      <td>17557.254274</td>\n",
       "      <td>181316.239316</td>\n",
       "      <td>1.636752</td>\n",
       "      <td>1.517094</td>\n",
       "      <td>36.143162</td>\n",
       "      <td>-0.239316</td>\n",
       "      <td>-0.448718</td>\n",
       "      <td>-0.493590</td>\n",
       "      <td>-0.508547</td>\n",
       "      <td>-0.525641</td>\n",
       "      <td>...</td>\n",
       "      <td>53971.143162</td>\n",
       "      <td>46015.284188</td>\n",
       "      <td>40488.354701</td>\n",
       "      <td>6248.412393</td>\n",
       "      <td>8118.194444</td>\n",
       "      <td>8340.756410</td>\n",
       "      <td>4962.378205</td>\n",
       "      <td>5696.822650</td>\n",
       "      <td>7476.096154</td>\n",
       "      <td>0.070513</td>\n",
       "    </tr>\n",
       "    <tr>\n",
       "      <th>1</th>\n",
       "      <td>14697.212187</td>\n",
       "      <td>212956.069910</td>\n",
       "      <td>1.588663</td>\n",
       "      <td>1.652338</td>\n",
       "      <td>34.231838</td>\n",
       "      <td>-0.233916</td>\n",
       "      <td>-0.408125</td>\n",
       "      <td>-0.425886</td>\n",
       "      <td>-0.461974</td>\n",
       "      <td>-0.479074</td>\n",
       "      <td>...</td>\n",
       "      <td>42931.065187</td>\n",
       "      <td>40388.891261</td>\n",
       "      <td>38668.076051</td>\n",
       "      <td>6780.933585</td>\n",
       "      <td>7306.622201</td>\n",
       "      <td>6560.585735</td>\n",
       "      <td>5804.565612</td>\n",
       "      <td>5776.562211</td>\n",
       "      <td>6422.554842</td>\n",
       "      <td>0.192348</td>\n",
       "    </tr>\n",
       "    <tr>\n",
       "      <th>2</th>\n",
       "      <td>15024.237776</td>\n",
       "      <td>147062.437634</td>\n",
       "      <td>1.616964</td>\n",
       "      <td>1.523022</td>\n",
       "      <td>34.722096</td>\n",
       "      <td>0.102210</td>\n",
       "      <td>0.022523</td>\n",
       "      <td>-0.018532</td>\n",
       "      <td>-0.083036</td>\n",
       "      <td>-0.141411</td>\n",
       "      <td>...</td>\n",
       "      <td>44748.779758</td>\n",
       "      <td>41588.566287</td>\n",
       "      <td>40431.943835</td>\n",
       "      <td>5080.463293</td>\n",
       "      <td>5106.711333</td>\n",
       "      <td>4556.800000</td>\n",
       "      <td>4375.387313</td>\n",
       "      <td>4452.678689</td>\n",
       "      <td>4716.487028</td>\n",
       "      <td>0.237349</td>\n",
       "    </tr>\n",
       "    <tr>\n",
       "      <th>3</th>\n",
       "      <td>15342.314013</td>\n",
       "      <td>126550.270490</td>\n",
       "      <td>1.595282</td>\n",
       "      <td>1.421192</td>\n",
       "      <td>40.299980</td>\n",
       "      <td>0.132805</td>\n",
       "      <td>0.040879</td>\n",
       "      <td>0.002644</td>\n",
       "      <td>-0.066504</td>\n",
       "      <td>-0.139313</td>\n",
       "      <td>...</td>\n",
       "      <td>38718.582266</td>\n",
       "      <td>35957.469392</td>\n",
       "      <td>34704.597315</td>\n",
       "      <td>4866.397397</td>\n",
       "      <td>5053.454139</td>\n",
       "      <td>3964.056742</td>\n",
       "      <td>3992.658532</td>\n",
       "      <td>3599.658938</td>\n",
       "      <td>3825.749034</td>\n",
       "      <td>0.251576</td>\n",
       "    </tr>\n",
       "  </tbody>\n",
       "</table>\n",
       "<p>4 rows × 24 columns</p>\n",
       "</div>"
      ],
      "text/plain": [
       "                     ID      LIMIT_BAL       SEX  MARRIAGE        AGE  \\\n",
       "EDUCATION                                                               \n",
       "0          17557.254274  181316.239316  1.636752  1.517094  36.143162   \n",
       "1          14697.212187  212956.069910  1.588663  1.652338  34.231838   \n",
       "2          15024.237776  147062.437634  1.616964  1.523022  34.722096   \n",
       "3          15342.314013  126550.270490  1.595282  1.421192  40.299980   \n",
       "\n",
       "              PAY_0     PAY_2     PAY_3     PAY_4     PAY_5  ...  \\\n",
       "EDUCATION                                                    ...   \n",
       "0         -0.239316 -0.448718 -0.493590 -0.508547 -0.525641  ...   \n",
       "1         -0.233916 -0.408125 -0.425886 -0.461974 -0.479074  ...   \n",
       "2          0.102210  0.022523 -0.018532 -0.083036 -0.141411  ...   \n",
       "3          0.132805  0.040879  0.002644 -0.066504 -0.139313  ...   \n",
       "\n",
       "              BILL_AMT4     BILL_AMT5     BILL_AMT6     PAY_AMT1     PAY_AMT2  \\\n",
       "EDUCATION                                                                       \n",
       "0          53971.143162  46015.284188  40488.354701  6248.412393  8118.194444   \n",
       "1          42931.065187  40388.891261  38668.076051  6780.933585  7306.622201   \n",
       "2          44748.779758  41588.566287  40431.943835  5080.463293  5106.711333   \n",
       "3          38718.582266  35957.469392  34704.597315  4866.397397  5053.454139   \n",
       "\n",
       "              PAY_AMT3     PAY_AMT4     PAY_AMT5     PAY_AMT6  Default_Payment  \n",
       "EDUCATION                                                                       \n",
       "0          8340.756410  4962.378205  5696.822650  7476.096154         0.070513  \n",
       "1          6560.585735  5804.565612  5776.562211  6422.554842         0.192348  \n",
       "2          4556.800000  4375.387313  4452.678689  4716.487028         0.237349  \n",
       "3          3964.056742  3992.658532  3599.658938  3825.749034         0.251576  \n",
       "\n",
       "[4 rows x 24 columns]"
      ]
     },
     "execution_count": 17,
     "metadata": {},
     "output_type": "execute_result"
    }
   ],
   "source": [
    "CreditCard.groupby(['EDUCATION']).mean()"
   ]
  },
  {
   "cell_type": "markdown",
   "id": "287d57e9",
   "metadata": {},
   "source": [
    "## Marriage"
   ]
  },
  {
   "cell_type": "code",
   "execution_count": 18,
   "id": "f58025fd",
   "metadata": {},
   "outputs": [
    {
     "data": {
      "text/plain": [
       "2    15964\n",
       "1    13659\n",
       "3      323\n",
       "0       54\n",
       "Name: MARRIAGE, dtype: int64"
      ]
     },
     "execution_count": 18,
     "metadata": {},
     "output_type": "execute_result"
    }
   ],
   "source": [
    "# counts the education  data set\n",
    "CreditCard['MARRIAGE'].value_counts()"
   ]
  },
  {
   "cell_type": "markdown",
   "id": "95055de1",
   "metadata": {},
   "source": [
    "#### <font color='orange'>'MARRIAGE' column: what does 0 mean in 'MARRIAGE'? Since there are only 54 observations of 0, we will combine 0 and 3 in one value as 'others'.</font>"
   ]
  },
  {
   "cell_type": "code",
   "execution_count": 19,
   "id": "cf93a8b2",
   "metadata": {},
   "outputs": [
    {
     "data": {
      "text/plain": [
       "2    15964\n",
       "1    13659\n",
       "3      377\n",
       "Name: MARRIAGE, dtype: int64"
      ]
     },
     "execution_count": 19,
     "metadata": {},
     "output_type": "execute_result"
    }
   ],
   "source": [
    "# Change values 0 to 3 and define 3 as 'others'\n",
    "CreditCard[\"MARRIAGE\"] = CreditCard[\"MARRIAGE\"].replace({0:3})\n",
    "CreditCard[\"MARRIAGE\"].value_counts()"
   ]
  },
  {
   "cell_type": "code",
   "execution_count": 20,
   "id": "4367d5c9",
   "metadata": {},
   "outputs": [
    {
     "data": {
      "image/png": "[encoded data removed]",
      "text/plain": [
       "<Figure size 720x576 with 1 Axes>"
      ]
     },
     "metadata": {
      "needs_background": "light"
     },
     "output_type": "display_data"
    }
   ],
   "source": [
    "#plotting the count plot to vizualize the data distribution\n",
    "plt.figure(figsize=(10,8))\n",
    "plots = sns.countplot(x = 'MARRIAGE', data = CreditCard)\n",
    "\n",
    "# Iterrating over the bars one-by-one\n",
    "for bar in plots.patches:\n",
    "   \n",
    "  # Using Matplotlib's annotate function and\n",
    "  # passing the coordinates where the annotation shall be done\n",
    "  # x-coordinate: bar.get_x() + bar.get_width() / 2\n",
    "  # y-coordinate: bar.get_height()\n",
    "  # free space to be left to make graph pleasing: (0, 8)\n",
    "  # ha and va stand for the horizontal and vertical alignment\n",
    "    plots.annotate(format(bar.get_height(), '.2f'),\n",
    "                   (bar.get_x() + bar.get_width() / 2,\n",
    "                    bar.get_height()), ha='center', va='center',\n",
    "                   size=15, xytext=(0, 8),\n",
    "                   textcoords='offset points')\n",
    " \n",
    "# Finally showing the plot\n",
    "plt.show()"
   ]
  },
  {
   "cell_type": "markdown",
   "id": "efa405ae",
   "metadata": {},
   "source": [
    "### From the above data analysis we can say that\n",
    "\n",
    ">- 1 - married\n",
    ">- 2 - single\n",
    ">- 3 - others\n",
    "### <font color='sky blue'> More number of credit cards holder are Single.</font>"
   ]
  },
  {
   "cell_type": "code",
   "execution_count": 21,
   "id": "9652aee6",
   "metadata": {},
   "outputs": [
    {
     "data": {
      "text/html": [
       "<div>\n",
       "<style scoped>\n",
       "    .dataframe tbody tr th:only-of-type {\n",
       "        vertical-align: middle;\n",
       "    }\n",
       "\n",
       "    .dataframe tbody tr th {\n",
       "        vertical-align: top;\n",
       "    }\n",
       "\n",
       "    .dataframe thead th {\n",
       "        text-align: right;\n",
       "    }\n",
       "</style>\n",
       "<table border=\"1\" class=\"dataframe\">\n",
       "  <thead>\n",
       "    <tr style=\"text-align: right;\">\n",
       "      <th></th>\n",
       "      <th>ID</th>\n",
       "      <th>LIMIT_BAL</th>\n",
       "      <th>SEX</th>\n",
       "      <th>EDUCATION</th>\n",
       "      <th>AGE</th>\n",
       "      <th>PAY_0</th>\n",
       "      <th>PAY_2</th>\n",
       "      <th>PAY_3</th>\n",
       "      <th>PAY_4</th>\n",
       "      <th>PAY_5</th>\n",
       "      <th>...</th>\n",
       "      <th>BILL_AMT4</th>\n",
       "      <th>BILL_AMT5</th>\n",
       "      <th>BILL_AMT6</th>\n",
       "      <th>PAY_AMT1</th>\n",
       "      <th>PAY_AMT2</th>\n",
       "      <th>PAY_AMT3</th>\n",
       "      <th>PAY_AMT4</th>\n",
       "      <th>PAY_AMT5</th>\n",
       "      <th>PAY_AMT6</th>\n",
       "      <th>Default_Payment</th>\n",
       "    </tr>\n",
       "    <tr>\n",
       "      <th>MARRIAGE</th>\n",
       "      <th></th>\n",
       "      <th></th>\n",
       "      <th></th>\n",
       "      <th></th>\n",
       "      <th></th>\n",
       "      <th></th>\n",
       "      <th></th>\n",
       "      <th></th>\n",
       "      <th></th>\n",
       "      <th></th>\n",
       "      <th></th>\n",
       "      <th></th>\n",
       "      <th></th>\n",
       "      <th></th>\n",
       "      <th></th>\n",
       "      <th></th>\n",
       "      <th></th>\n",
       "      <th></th>\n",
       "      <th></th>\n",
       "      <th></th>\n",
       "      <th></th>\n",
       "    </tr>\n",
       "  </thead>\n",
       "  <tbody>\n",
       "    <tr>\n",
       "      <th>1</th>\n",
       "      <td>15253.288821</td>\n",
       "      <td>182200.893184</td>\n",
       "      <td>1.620031</td>\n",
       "      <td>1.902702</td>\n",
       "      <td>40.016692</td>\n",
       "      <td>-0.036752</td>\n",
       "      <td>-0.163262</td>\n",
       "      <td>-0.206238</td>\n",
       "      <td>-0.259243</td>\n",
       "      <td>-0.308441</td>\n",
       "      <td>...</td>\n",
       "      <td>44891.819094</td>\n",
       "      <td>41975.121824</td>\n",
       "      <td>40250.686946</td>\n",
       "      <td>5789.741562</td>\n",
       "      <td>6205.714401</td>\n",
       "      <td>5328.491983</td>\n",
       "      <td>5075.922469</td>\n",
       "      <td>4836.070503</td>\n",
       "      <td>5331.664836</td>\n",
       "      <td>0.234717</td>\n",
       "    </tr>\n",
       "    <tr>\n",
       "      <th>2</th>\n",
       "      <td>14807.277813</td>\n",
       "      <td>156413.660737</td>\n",
       "      <td>1.589514</td>\n",
       "      <td>1.664746</td>\n",
       "      <td>31.452706</td>\n",
       "      <td>-0.002819</td>\n",
       "      <td>-0.111000</td>\n",
       "      <td>-0.135680</td>\n",
       "      <td>-0.191118</td>\n",
       "      <td>-0.232085</td>\n",
       "      <td>...</td>\n",
       "      <td>42194.771674</td>\n",
       "      <td>39207.970120</td>\n",
       "      <td>37974.720308</td>\n",
       "      <td>5523.197194</td>\n",
       "      <td>5648.984465</td>\n",
       "      <td>5123.063518</td>\n",
       "      <td>4612.971185</td>\n",
       "      <td>4781.813581</td>\n",
       "      <td>5162.734340</td>\n",
       "      <td>0.209283</td>\n",
       "    </tr>\n",
       "    <tr>\n",
       "      <th>3</th>\n",
       "      <td>14023.726790</td>\n",
       "      <td>103076.923077</td>\n",
       "      <td>1.615385</td>\n",
       "      <td>2.204244</td>\n",
       "      <td>42.084881</td>\n",
       "      <td>0.122016</td>\n",
       "      <td>-0.029178</td>\n",
       "      <td>-0.007958</td>\n",
       "      <td>-0.074271</td>\n",
       "      <td>-0.180371</td>\n",
       "      <td>...</td>\n",
       "      <td>29479.514589</td>\n",
       "      <td>26758.103448</td>\n",
       "      <td>26897.198939</td>\n",
       "      <td>7037.175066</td>\n",
       "      <td>7137.039788</td>\n",
       "      <td>5846.119363</td>\n",
       "      <td>4797.901857</td>\n",
       "      <td>4214.509284</td>\n",
       "      <td>3241.315650</td>\n",
       "      <td>0.236074</td>\n",
       "    </tr>\n",
       "  </tbody>\n",
       "</table>\n",
       "<p>3 rows × 24 columns</p>\n",
       "</div>"
      ],
      "text/plain": [
       "                    ID      LIMIT_BAL       SEX  EDUCATION        AGE  \\\n",
       "MARRIAGE                                                                \n",
       "1         15253.288821  182200.893184  1.620031   1.902702  40.016692   \n",
       "2         14807.277813  156413.660737  1.589514   1.664746  31.452706   \n",
       "3         14023.726790  103076.923077  1.615385   2.204244  42.084881   \n",
       "\n",
       "             PAY_0     PAY_2     PAY_3     PAY_4     PAY_5  ...     BILL_AMT4  \\\n",
       "MARRIAGE                                                    ...                 \n",
       "1        -0.036752 -0.163262 -0.206238 -0.259243 -0.308441  ...  44891.819094   \n",
       "2        -0.002819 -0.111000 -0.135680 -0.191118 -0.232085  ...  42194.771674   \n",
       "3         0.122016 -0.029178 -0.007958 -0.074271 -0.180371  ...  29479.514589   \n",
       "\n",
       "             BILL_AMT5     BILL_AMT6     PAY_AMT1     PAY_AMT2     PAY_AMT3  \\\n",
       "MARRIAGE                                                                      \n",
       "1         41975.121824  40250.686946  5789.741562  6205.714401  5328.491983   \n",
       "2         39207.970120  37974.720308  5523.197194  5648.984465  5123.063518   \n",
       "3         26758.103448  26897.198939  7037.175066  7137.039788  5846.119363   \n",
       "\n",
       "             PAY_AMT4     PAY_AMT5     PAY_AMT6  Default_Payment  \n",
       "MARRIAGE                                                          \n",
       "1         5075.922469  4836.070503  5331.664836         0.234717  \n",
       "2         4612.971185  4781.813581  5162.734340         0.209283  \n",
       "3         4797.901857  4214.509284  3241.315650         0.236074  \n",
       "\n",
       "[3 rows x 24 columns]"
      ]
     },
     "execution_count": 21,
     "metadata": {},
     "output_type": "execute_result"
    }
   ],
   "source": [
    "CreditCard.groupby(['MARRIAGE']).mean()"
   ]
  },
  {
   "cell_type": "markdown",
   "id": "042ee075",
   "metadata": {},
   "source": [
    "## AGE"
   ]
  },
  {
   "cell_type": "code",
   "execution_count": 22,
   "id": "1222c40c",
   "metadata": {},
   "outputs": [
    {
     "data": {
      "text/plain": [
       "Default_Payment\n",
       "0    35.417266\n",
       "1    35.725738\n",
       "Name: AGE, dtype: float64"
      ]
     },
     "execution_count": 22,
     "metadata": {},
     "output_type": "execute_result"
    }
   ],
   "source": [
    "#check the mean of the age group rescpective to the Default_Payment\n",
    "CreditCard.groupby('Default_Payment')['AGE'].mean()"
   ]
  },
  {
   "cell_type": "code",
   "execution_count": 23,
   "id": "fa75e822",
   "metadata": {},
   "outputs": [
    {
     "data": {
      "image/png": "[encoded data removed]",
      "text/plain": [
       "<Figure size 1080x504 with 1 Axes>"
      ]
     },
     "metadata": {
      "needs_background": "light"
     },
     "output_type": "display_data"
    }
   ],
   "source": [
    "#plotting the count plot to vizualize the data distribution\n",
    "plt.figure(figsize=(15,7))\n",
    "plots = sns.countplot(x = 'AGE', data = CreditCard)\n",
    "plt.show()"
   ]
  },
  {
   "cell_type": "markdown",
   "id": "fa6b48e5",
   "metadata": {},
   "source": [
    "### From the above data analysis we can say that\n",
    "\n",
    ">- <font color='green'> We can see more number of credit cards holder age are between 26-30 years old.</font>\n",
    ">- <font color='blue'> Age above 60 years old rarely uses the credit card.</font>"
   ]
  },
  {
   "cell_type": "markdown",
   "id": "eaf643bd",
   "metadata": {},
   "source": [
    "# Bivariate Analysis\n",
    "## Sex and Default_Payment"
   ]
  },
  {
   "cell_type": "code",
   "execution_count": 24,
   "id": "aeddd729",
   "metadata": {},
   "outputs": [
    {
     "data": {
      "text/plain": [
       "Index(['ID', 'LIMIT_BAL', 'SEX', 'EDUCATION', 'MARRIAGE', 'AGE', 'PAY_0',\n",
       "       'PAY_2', 'PAY_3', 'PAY_4', 'PAY_5', 'PAY_6', 'BILL_AMT1', 'BILL_AMT2',\n",
       "       'BILL_AMT3', 'BILL_AMT4', 'BILL_AMT5', 'BILL_AMT6', 'PAY_AMT1',\n",
       "       'PAY_AMT2', 'PAY_AMT3', 'PAY_AMT4', 'PAY_AMT5', 'PAY_AMT6',\n",
       "       'Default_Payment'],\n",
       "      dtype='object')"
      ]
     },
     "execution_count": 24,
     "metadata": {},
     "output_type": "execute_result"
    }
   ],
   "source": [
    "CreditCard.columns"
   ]
  },
  {
   "cell_type": "code",
   "execution_count": 25,
   "id": "d186991c",
   "metadata": {},
   "outputs": [
    {
     "data": {
      "text/plain": [
       "<seaborn.axisgrid.FacetGrid at 0x15406bdf0a0>"
      ]
     },
     "execution_count": 25,
     "metadata": {},
     "output_type": "execute_result"
    },
    {
     "data": {
      "image/png": "[encoded data removed]",
      "text/plain": [
       "<Figure size 453.25x360 with 1 Axes>"
      ]
     },
     "metadata": {
      "needs_background": "light"
     },
     "output_type": "display_data"
    }
   ],
   "source": [
    "#plotting the cat plot to vizualize the data distribution related to the Default_Payment\n",
    "x,y = 'SEX', 'Default_Payment'\n",
    "\n",
    "(CreditCard\n",
    ".groupby(x)[y]\n",
    ".value_counts(normalize=True)\n",
    ".mul(100)\n",
    ".rename('percent')\n",
    ".reset_index()\n",
    ".pipe((sns.catplot,'data'), x=x,y='percent',hue=y,kind='bar'))"
   ]
  },
  {
   "cell_type": "markdown",
   "id": "94299a76",
   "metadata": {},
   "source": [
    "### <font color='sky blue'>It is evident from the above graph that the number of defaulter have high proportion of males.</font>"
   ]
  },
  {
   "cell_type": "markdown",
   "id": "a2b171fa",
   "metadata": {},
   "source": [
    "## Education and Default_Payment"
   ]
  },
  {
   "cell_type": "code",
   "execution_count": 26,
   "id": "f8bdfa6f",
   "metadata": {},
   "outputs": [
    {
     "data": {
      "text/plain": [
       "<seaborn.axisgrid.FacetGrid at 0x15406cb32e0>"
      ]
     },
     "execution_count": 26,
     "metadata": {},
     "output_type": "execute_result"
    },
    {
     "data": {
      "image/png": "[encoded data removed]",
      "text/plain": [
       "<Figure size 453.25x360 with 1 Axes>"
      ]
     },
     "metadata": {
      "needs_background": "light"
     },
     "output_type": "display_data"
    }
   ],
   "source": [
    "#plotting the cat plot to vizualize the data distribution related to the Default_Payment\n",
    "x,y = 'EDUCATION', 'Default_Payment'\n",
    "\n",
    "(CreditCard\n",
    ".groupby(x)[y]\n",
    ".value_counts(normalize=True)\n",
    ".mul(100)\n",
    ".rename('percent')\n",
    ".reset_index()\n",
    ".pipe((sns.catplot,'data'), x=x,y='percent',hue=y,kind='bar'))"
   ]
  },
  {
   "cell_type": "markdown",
   "id": "235198fd",
   "metadata": {},
   "source": [
    "### <font color='sky blue'> From the above plot it is clear that those people who are other students have higher default payment wrt graduates and university people.</font>"
   ]
  },
  {
   "cell_type": "markdown",
   "id": "00ecad2c",
   "metadata": {},
   "source": [
    "## Marriage and Default_Payment"
   ]
  },
  {
   "cell_type": "code",
   "execution_count": 27,
   "id": "4c5de5c3",
   "metadata": {},
   "outputs": [
    {
     "data": {
      "text/plain": [
       "<seaborn.axisgrid.FacetGrid at 0x15406d15520>"
      ]
     },
     "execution_count": 27,
     "metadata": {},
     "output_type": "execute_result"
    },
    {
     "data": {
      "image/png": "[encoded data removed]",
      "text/plain": [
       "<Figure size 453.25x360 with 1 Axes>"
      ]
     },
     "metadata": {
      "needs_background": "light"
     },
     "output_type": "display_data"
    }
   ],
   "source": [
    "#plotting the cat plot to vizualize the data distribution related to the Default_Payment\n",
    "x,y = 'MARRIAGE', 'Default_Payment'\n",
    "\n",
    "(CreditCard\n",
    ".groupby(x)[y]\n",
    ".value_counts(normalize=True)\n",
    ".mul(100)\n",
    ".rename('percent')\n",
    ".reset_index()\n",
    ".pipe((sns.catplot,'data'), x=x,y='percent',hue=y,kind='bar'))"
   ]
  },
  {
   "cell_type": "markdown",
   "id": "9365fa28",
   "metadata": {},
   "source": [
    "### <font color='sky blue'> From the above plot it is clear that those people who are other have higher default payment.</font>"
   ]
  },
  {
   "cell_type": "markdown",
   "id": "a1cb4815",
   "metadata": {},
   "source": [
    "## Checking of Correlation between variables"
   ]
  },
  {
   "cell_type": "code",
   "execution_count": 28,
   "id": "3b7dea03",
   "metadata": {},
   "outputs": [
    {
     "data": {
      "image/png": "[encoded data removed]",
      "text/plain": [
       "<Figure size 1440x1080 with 2 Axes>"
      ]
     },
     "metadata": {
      "needs_background": "light"
     },
     "output_type": "display_data"
    }
   ],
   "source": [
    "#plotting the heatmap \n",
    "plt.figure(figsize=(20,15))\n",
    "sns.heatmap(CreditCard.corr(),annot=True,cmap=\"coolwarm\")\n",
    "plt.show()"
   ]
  },
  {
   "cell_type": "markdown",
   "id": "5fd582bd",
   "metadata": {},
   "source": [
    ">- <font color='blue'>It seems from the above graph is there are some negatively correlated feature like age but we cannot blindly remove this feature because it could be important feature for prediction.</font>\n",
    ">- <font color='red'>ID is unimportant and it has no role in prediction so we will remove it.</font>"
   ]
  },
  {
   "cell_type": "markdown",
   "id": "a62a8563",
   "metadata": {},
   "source": [
    "# Preprocessing"
   ]
  },
  {
   "cell_type": "markdown",
   "id": "64f41b30",
   "metadata": {},
   "source": [
    "### One Hot Encoding"
   ]
  },
  {
   "cell_type": "code",
   "execution_count": 29,
   "id": "4b46d80a",
   "metadata": {},
   "outputs": [],
   "source": [
    "def onehot_encode(df, column_dict):\n",
    "    df = df.copy()\n",
    "    for column, prefix in column_dict.items():\n",
    "        dummies = pd.get_dummies(df[column], prefix=prefix)\n",
    "        df = pd.concat([df, dummies], axis=1)\n",
    "        df = df.drop(column, axis=1)\n",
    "    return df"
   ]
  },
  {
   "cell_type": "code",
   "execution_count": 30,
   "id": "83053bc2",
   "metadata": {},
   "outputs": [],
   "source": [
    "def preprocess_inputs(df):\n",
    "    df = df.copy()\n",
    "    \n",
    "    # Drop ID\n",
    "    df = df.drop('ID', axis=1)\n",
    "    \n",
    "    df = onehot_encode(\n",
    "        df,\n",
    "        {\n",
    "            'EDUCATION': 'EDU',\n",
    "            'MARRIAGE': 'MAR'\n",
    "        }\n",
    "    )\n",
    "    \n",
    "    return df"
   ]
  },
  {
   "cell_type": "code",
   "execution_count": 31,
   "id": "9311c467",
   "metadata": {},
   "outputs": [],
   "source": [
    "new_df = preprocess_inputs(CreditCard)"
   ]
  },
  {
   "cell_type": "code",
   "execution_count": 32,
   "id": "68fd4b96",
   "metadata": {},
   "outputs": [
    {
     "data": {
      "text/html": [
       "<div>\n",
       "<style scoped>\n",
       "    .dataframe tbody tr th:only-of-type {\n",
       "        vertical-align: middle;\n",
       "    }\n",
       "\n",
       "    .dataframe tbody tr th {\n",
       "        vertical-align: top;\n",
       "    }\n",
       "\n",
       "    .dataframe thead th {\n",
       "        text-align: right;\n",
       "    }\n",
       "</style>\n",
       "<table border=\"1\" class=\"dataframe\">\n",
       "  <thead>\n",
       "    <tr style=\"text-align: right;\">\n",
       "      <th></th>\n",
       "      <th>LIMIT_BAL</th>\n",
       "      <th>SEX</th>\n",
       "      <th>AGE</th>\n",
       "      <th>PAY_0</th>\n",
       "      <th>PAY_2</th>\n",
       "      <th>PAY_3</th>\n",
       "      <th>PAY_4</th>\n",
       "      <th>PAY_5</th>\n",
       "      <th>PAY_6</th>\n",
       "      <th>BILL_AMT1</th>\n",
       "      <th>...</th>\n",
       "      <th>PAY_AMT5</th>\n",
       "      <th>PAY_AMT6</th>\n",
       "      <th>Default_Payment</th>\n",
       "      <th>EDU_0</th>\n",
       "      <th>EDU_1</th>\n",
       "      <th>EDU_2</th>\n",
       "      <th>EDU_3</th>\n",
       "      <th>MAR_1</th>\n",
       "      <th>MAR_2</th>\n",
       "      <th>MAR_3</th>\n",
       "    </tr>\n",
       "  </thead>\n",
       "  <tbody>\n",
       "    <tr>\n",
       "      <th>0</th>\n",
       "      <td>20000.0</td>\n",
       "      <td>2</td>\n",
       "      <td>24</td>\n",
       "      <td>2</td>\n",
       "      <td>2</td>\n",
       "      <td>-1</td>\n",
       "      <td>-1</td>\n",
       "      <td>-2</td>\n",
       "      <td>-2</td>\n",
       "      <td>3913.0</td>\n",
       "      <td>...</td>\n",
       "      <td>0.0</td>\n",
       "      <td>0.0</td>\n",
       "      <td>1</td>\n",
       "      <td>0</td>\n",
       "      <td>0</td>\n",
       "      <td>1</td>\n",
       "      <td>0</td>\n",
       "      <td>1</td>\n",
       "      <td>0</td>\n",
       "      <td>0</td>\n",
       "    </tr>\n",
       "    <tr>\n",
       "      <th>1</th>\n",
       "      <td>120000.0</td>\n",
       "      <td>2</td>\n",
       "      <td>26</td>\n",
       "      <td>-1</td>\n",
       "      <td>2</td>\n",
       "      <td>0</td>\n",
       "      <td>0</td>\n",
       "      <td>0</td>\n",
       "      <td>2</td>\n",
       "      <td>2682.0</td>\n",
       "      <td>...</td>\n",
       "      <td>0.0</td>\n",
       "      <td>2000.0</td>\n",
       "      <td>1</td>\n",
       "      <td>0</td>\n",
       "      <td>0</td>\n",
       "      <td>1</td>\n",
       "      <td>0</td>\n",
       "      <td>0</td>\n",
       "      <td>1</td>\n",
       "      <td>0</td>\n",
       "    </tr>\n",
       "    <tr>\n",
       "      <th>2</th>\n",
       "      <td>90000.0</td>\n",
       "      <td>2</td>\n",
       "      <td>34</td>\n",
       "      <td>0</td>\n",
       "      <td>0</td>\n",
       "      <td>0</td>\n",
       "      <td>0</td>\n",
       "      <td>0</td>\n",
       "      <td>0</td>\n",
       "      <td>29239.0</td>\n",
       "      <td>...</td>\n",
       "      <td>1000.0</td>\n",
       "      <td>5000.0</td>\n",
       "      <td>0</td>\n",
       "      <td>0</td>\n",
       "      <td>0</td>\n",
       "      <td>1</td>\n",
       "      <td>0</td>\n",
       "      <td>0</td>\n",
       "      <td>1</td>\n",
       "      <td>0</td>\n",
       "    </tr>\n",
       "    <tr>\n",
       "      <th>3</th>\n",
       "      <td>50000.0</td>\n",
       "      <td>2</td>\n",
       "      <td>37</td>\n",
       "      <td>0</td>\n",
       "      <td>0</td>\n",
       "      <td>0</td>\n",
       "      <td>0</td>\n",
       "      <td>0</td>\n",
       "      <td>0</td>\n",
       "      <td>46990.0</td>\n",
       "      <td>...</td>\n",
       "      <td>1069.0</td>\n",
       "      <td>1000.0</td>\n",
       "      <td>0</td>\n",
       "      <td>0</td>\n",
       "      <td>0</td>\n",
       "      <td>1</td>\n",
       "      <td>0</td>\n",
       "      <td>1</td>\n",
       "      <td>0</td>\n",
       "      <td>0</td>\n",
       "    </tr>\n",
       "    <tr>\n",
       "      <th>4</th>\n",
       "      <td>50000.0</td>\n",
       "      <td>1</td>\n",
       "      <td>57</td>\n",
       "      <td>-1</td>\n",
       "      <td>0</td>\n",
       "      <td>-1</td>\n",
       "      <td>0</td>\n",
       "      <td>0</td>\n",
       "      <td>0</td>\n",
       "      <td>8617.0</td>\n",
       "      <td>...</td>\n",
       "      <td>689.0</td>\n",
       "      <td>679.0</td>\n",
       "      <td>0</td>\n",
       "      <td>0</td>\n",
       "      <td>0</td>\n",
       "      <td>1</td>\n",
       "      <td>0</td>\n",
       "      <td>1</td>\n",
       "      <td>0</td>\n",
       "      <td>0</td>\n",
       "    </tr>\n",
       "  </tbody>\n",
       "</table>\n",
       "<p>5 rows × 29 columns</p>\n",
       "</div>"
      ],
      "text/plain": [
       "   LIMIT_BAL  SEX  AGE  PAY_0  PAY_2  PAY_3  PAY_4  PAY_5  PAY_6  BILL_AMT1  \\\n",
       "0    20000.0    2   24      2      2     -1     -1     -2     -2     3913.0   \n",
       "1   120000.0    2   26     -1      2      0      0      0      2     2682.0   \n",
       "2    90000.0    2   34      0      0      0      0      0      0    29239.0   \n",
       "3    50000.0    2   37      0      0      0      0      0      0    46990.0   \n",
       "4    50000.0    1   57     -1      0     -1      0      0      0     8617.0   \n",
       "\n",
       "   ...  PAY_AMT5  PAY_AMT6  Default_Payment  EDU_0  EDU_1  EDU_2  EDU_3  \\\n",
       "0  ...       0.0       0.0                1      0      0      1      0   \n",
       "1  ...       0.0    2000.0                1      0      0      1      0   \n",
       "2  ...    1000.0    5000.0                0      0      0      1      0   \n",
       "3  ...    1069.0    1000.0                0      0      0      1      0   \n",
       "4  ...     689.0     679.0                0      0      0      1      0   \n",
       "\n",
       "   MAR_1  MAR_2  MAR_3  \n",
       "0      1      0      0  \n",
       "1      0      1      0  \n",
       "2      0      1      0  \n",
       "3      1      0      0  \n",
       "4      1      0      0  \n",
       "\n",
       "[5 rows x 29 columns]"
      ]
     },
     "execution_count": 32,
     "metadata": {},
     "output_type": "execute_result"
    }
   ],
   "source": [
    "new_df.head()"
   ]
  },
  {
   "cell_type": "code",
   "execution_count": 33,
   "id": "c481e631",
   "metadata": {},
   "outputs": [
    {
     "name": "stdout",
     "output_type": "stream",
     "text": [
      "<class 'pandas.core.frame.DataFrame'>\n",
      "RangeIndex: 30000 entries, 0 to 29999\n",
      "Data columns (total 29 columns):\n",
      " #   Column           Non-Null Count  Dtype  \n",
      "---  ------           --------------  -----  \n",
      " 0   LIMIT_BAL        30000 non-null  float64\n",
      " 1   SEX              30000 non-null  int64  \n",
      " 2   AGE              30000 non-null  int64  \n",
      " 3   PAY_0            30000 non-null  int64  \n",
      " 4   PAY_2            30000 non-null  int64  \n",
      " 5   PAY_3            30000 non-null  int64  \n",
      " 6   PAY_4            30000 non-null  int64  \n",
      " 7   PAY_5            30000 non-null  int64  \n",
      " 8   PAY_6            30000 non-null  int64  \n",
      " 9   BILL_AMT1        30000 non-null  float64\n",
      " 10  BILL_AMT2        30000 non-null  float64\n",
      " 11  BILL_AMT3        30000 non-null  float64\n",
      " 12  BILL_AMT4        30000 non-null  float64\n",
      " 13  BILL_AMT5        30000 non-null  float64\n",
      " 14  BILL_AMT6        30000 non-null  float64\n",
      " 15  PAY_AMT1         30000 non-null  float64\n",
      " 16  PAY_AMT2         30000 non-null  float64\n",
      " 17  PAY_AMT3         30000 non-null  float64\n",
      " 18  PAY_AMT4         30000 non-null  float64\n",
      " 19  PAY_AMT5         30000 non-null  float64\n",
      " 20  PAY_AMT6         30000 non-null  float64\n",
      " 21  Default_Payment  30000 non-null  int64  \n",
      " 22  EDU_0            30000 non-null  uint8  \n",
      " 23  EDU_1            30000 non-null  uint8  \n",
      " 24  EDU_2            30000 non-null  uint8  \n",
      " 25  EDU_3            30000 non-null  uint8  \n",
      " 26  MAR_1            30000 non-null  uint8  \n",
      " 27  MAR_2            30000 non-null  uint8  \n",
      " 28  MAR_3            30000 non-null  uint8  \n",
      "dtypes: float64(13), int64(9), uint8(7)\n",
      "memory usage: 5.2 MB\n"
     ]
    }
   ],
   "source": [
    "new_df.info()"
   ]
  },
  {
   "cell_type": "markdown",
   "id": "2428389e",
   "metadata": {},
   "source": [
    "## finding Multicollinearity"
   ]
  },
  {
   "cell_type": "code",
   "execution_count": 34,
   "id": "c4d74afe",
   "metadata": {},
   "outputs": [
    {
     "data": {
      "image/png": "[encoded data removed]",
      "text/plain": [
       "<Figure size 2160x1440 with 2 Axes>"
      ]
     },
     "metadata": {
      "needs_background": "light"
     },
     "output_type": "display_data"
    }
   ],
   "source": [
    "## Computing the correlation coefficient with Default_Payment\n",
    "\n",
    "# set figure size\n",
    "plt.figure(figsize=(30,20))\n",
    "\n",
    "corr = new_df.drop('Default_Payment',axis=1).corr()\n",
    "\n",
    "# Getting the Upper Triangle of the co-relation matrix\n",
    "matrix = np.triu(corr)\n",
    "ax = sns.heatmap(corr, annot=True,vmax=1.0,vmin=-1.0,cmap='coolwarm', fmt='.2f', mask=matrix)\n",
    "for t in ax.texts:\n",
    "    if abs(float(t.get_text()))>=0.7:\n",
    "        t.set_text(t.get_text()) #if the value is greater than 0.7 or less than -0.7 then I set the text \n",
    "    else:\n",
    "        t.set_text(\"\") # if not it sets an empty text\n",
    "\n",
    "\n",
    "plt.show()"
   ]
  },
  {
   "cell_type": "markdown",
   "id": "f78fd7cb",
   "metadata": {},
   "source": [
    "These columns having strong relationships among 'PAY_2', 'PAY_3', 'PAY_4', 'PAY_5',\n",
    "       'PAY_6','BILL_AMT1', 'BILL_AMT2', 'BILL_AMT3', 'BILL_AMT4',\n",
    "       'BILL_AMT5', 'BILL_AMT6'."
   ]
  },
  {
   "cell_type": "markdown",
   "id": "23d1940f",
   "metadata": {},
   "source": [
    "## <font color='red'> Computing VIF </font>"
   ]
  },
  {
   "cell_type": "code",
   "execution_count": 35,
   "id": "227804c0",
   "metadata": {},
   "outputs": [],
   "source": [
    "# load statmodels functions\n",
    "from statsmodels.stats.outliers_influence import variance_inflation_factor\n",
    "from statsmodels.tools.tools import add_constant\n",
    "\n",
    "# compute the vif for all given features\n",
    "def compute_vif(considered_features):\n",
    "    \n",
    "    X = new_df[considered_features]\n",
    "    # the calculation of variance inflation requires a constant\n",
    "    X['intercept'] = 1\n",
    "    \n",
    "    # create dataframe to store vif values\n",
    "    vif = pd.DataFrame()\n",
    "    vif[\"Variable\"] = X.columns\n",
    "    vif[\"VIF\"] = [variance_inflation_factor(X.values, i) for i in range(X.shape[1])]\n",
    "    vif = vif[vif['Variable']!='intercept']\n",
    "    return vif"
   ]
  },
  {
   "cell_type": "code",
   "execution_count": 36,
   "id": "04eea1ee",
   "metadata": {},
   "outputs": [
    {
     "data": {
      "text/html": [
       "<div>\n",
       "<style scoped>\n",
       "    .dataframe tbody tr th:only-of-type {\n",
       "        vertical-align: middle;\n",
       "    }\n",
       "\n",
       "    .dataframe tbody tr th {\n",
       "        vertical-align: top;\n",
       "    }\n",
       "\n",
       "    .dataframe thead th {\n",
       "        text-align: right;\n",
       "    }\n",
       "</style>\n",
       "<table border=\"1\" class=\"dataframe\">\n",
       "  <thead>\n",
       "    <tr style=\"text-align: right;\">\n",
       "      <th></th>\n",
       "      <th>Variable</th>\n",
       "      <th>VIF</th>\n",
       "    </tr>\n",
       "  </thead>\n",
       "  <tbody>\n",
       "    <tr>\n",
       "      <th>6</th>\n",
       "      <td>BILL_AMT2</td>\n",
       "      <td>16.274695</td>\n",
       "    </tr>\n",
       "    <tr>\n",
       "      <th>9</th>\n",
       "      <td>BILL_AMT5</td>\n",
       "      <td>15.857439</td>\n",
       "    </tr>\n",
       "    <tr>\n",
       "      <th>8</th>\n",
       "      <td>BILL_AMT4</td>\n",
       "      <td>13.473144</td>\n",
       "    </tr>\n",
       "    <tr>\n",
       "      <th>5</th>\n",
       "      <td>BILL_AMT1</td>\n",
       "      <td>10.869111</td>\n",
       "    </tr>\n",
       "    <tr>\n",
       "      <th>7</th>\n",
       "      <td>BILL_AMT3</td>\n",
       "      <td>10.854848</td>\n",
       "    </tr>\n",
       "    <tr>\n",
       "      <th>10</th>\n",
       "      <td>BILL_AMT6</td>\n",
       "      <td>9.723889</td>\n",
       "    </tr>\n",
       "    <tr>\n",
       "      <th>3</th>\n",
       "      <td>PAY_5</td>\n",
       "      <td>4.659815</td>\n",
       "    </tr>\n",
       "    <tr>\n",
       "      <th>2</th>\n",
       "      <td>PAY_4</td>\n",
       "      <td>4.216010</td>\n",
       "    </tr>\n",
       "    <tr>\n",
       "      <th>1</th>\n",
       "      <td>PAY_3</td>\n",
       "      <td>3.617185</td>\n",
       "    </tr>\n",
       "    <tr>\n",
       "      <th>4</th>\n",
       "      <td>PAY_6</td>\n",
       "      <td>3.214427</td>\n",
       "    </tr>\n",
       "    <tr>\n",
       "      <th>0</th>\n",
       "      <td>PAY_2</td>\n",
       "      <td>2.602582</td>\n",
       "    </tr>\n",
       "  </tbody>\n",
       "</table>\n",
       "</div>"
      ],
      "text/plain": [
       "     Variable        VIF\n",
       "6   BILL_AMT2  16.274695\n",
       "9   BILL_AMT5  15.857439\n",
       "8   BILL_AMT4  13.473144\n",
       "5   BILL_AMT1  10.869111\n",
       "7   BILL_AMT3  10.854848\n",
       "10  BILL_AMT6   9.723889\n",
       "3       PAY_5   4.659815\n",
       "2       PAY_4   4.216010\n",
       "1       PAY_3   3.617185\n",
       "4       PAY_6   3.214427\n",
       "0       PAY_2   2.602582"
      ]
     },
     "execution_count": 36,
     "metadata": {},
     "output_type": "execute_result"
    }
   ],
   "source": [
    "# features to consider removing\n",
    "considered_features = ['PAY_2', 'PAY_3', 'PAY_4', 'PAY_5',\n",
    "       'PAY_6','BILL_AMT1', 'BILL_AMT2', 'BILL_AMT3', 'BILL_AMT4',\n",
    "       'BILL_AMT5', 'BILL_AMT6']\n",
    "\n",
    "# compute vif\n",
    "compute_vif(considered_features).sort_values('VIF', ascending=False)"
   ]
  },
  {
   "cell_type": "markdown",
   "id": "8d68716c",
   "metadata": {},
   "source": [
    ">- As shown in the table,‘BILL_AMT2’,‘BILL_AMT5’,‘BILL_AMT4’,‘BILL_AMT1’,‘BILL_AMT3’ and ‘BILL_AMT6’ all have VIF values exceeding 5.\n",
    "\n",
    ">- Again, the rookie mistake would be to remove all features at once. Feature selection is usually best performed by including or removing one feature at a time. This ensures that any information loss is minimized.\n",
    "\n",
    ">- After removing ‘‘BILL_AMT2’’ (i.e. the feature with the highest VIF), we calculate the VIF values again."
   ]
  },
  {
   "cell_type": "code",
   "execution_count": 37,
   "id": "0150ab2a",
   "metadata": {},
   "outputs": [
    {
     "data": {
      "text/html": [
       "<div>\n",
       "<style scoped>\n",
       "    .dataframe tbody tr th:only-of-type {\n",
       "        vertical-align: middle;\n",
       "    }\n",
       "\n",
       "    .dataframe tbody tr th {\n",
       "        vertical-align: top;\n",
       "    }\n",
       "\n",
       "    .dataframe thead th {\n",
       "        text-align: right;\n",
       "    }\n",
       "</style>\n",
       "<table border=\"1\" class=\"dataframe\">\n",
       "  <thead>\n",
       "    <tr style=\"text-align: right;\">\n",
       "      <th></th>\n",
       "      <th>Variable</th>\n",
       "      <th>VIF</th>\n",
       "    </tr>\n",
       "  </thead>\n",
       "  <tbody>\n",
       "    <tr>\n",
       "      <th>8</th>\n",
       "      <td>BILL_AMT5</td>\n",
       "      <td>15.851850</td>\n",
       "    </tr>\n",
       "    <tr>\n",
       "      <th>7</th>\n",
       "      <td>BILL_AMT4</td>\n",
       "      <td>13.399434</td>\n",
       "    </tr>\n",
       "    <tr>\n",
       "      <th>9</th>\n",
       "      <td>BILL_AMT6</td>\n",
       "      <td>9.719705</td>\n",
       "    </tr>\n",
       "    <tr>\n",
       "      <th>6</th>\n",
       "      <td>BILL_AMT3</td>\n",
       "      <td>9.272405</td>\n",
       "    </tr>\n",
       "    <tr>\n",
       "      <th>5</th>\n",
       "      <td>BILL_AMT1</td>\n",
       "      <td>5.285048</td>\n",
       "    </tr>\n",
       "    <tr>\n",
       "      <th>3</th>\n",
       "      <td>PAY_5</td>\n",
       "      <td>4.659039</td>\n",
       "    </tr>\n",
       "    <tr>\n",
       "      <th>2</th>\n",
       "      <td>PAY_4</td>\n",
       "      <td>4.211944</td>\n",
       "    </tr>\n",
       "    <tr>\n",
       "      <th>1</th>\n",
       "      <td>PAY_3</td>\n",
       "      <td>3.562662</td>\n",
       "    </tr>\n",
       "    <tr>\n",
       "      <th>4</th>\n",
       "      <td>PAY_6</td>\n",
       "      <td>3.214043</td>\n",
       "    </tr>\n",
       "    <tr>\n",
       "      <th>0</th>\n",
       "      <td>PAY_2</td>\n",
       "      <td>2.594985</td>\n",
       "    </tr>\n",
       "  </tbody>\n",
       "</table>\n",
       "</div>"
      ],
      "text/plain": [
       "    Variable        VIF\n",
       "8  BILL_AMT5  15.851850\n",
       "7  BILL_AMT4  13.399434\n",
       "9  BILL_AMT6   9.719705\n",
       "6  BILL_AMT3   9.272405\n",
       "5  BILL_AMT1   5.285048\n",
       "3      PAY_5   4.659039\n",
       "2      PAY_4   4.211944\n",
       "1      PAY_3   3.562662\n",
       "4      PAY_6   3.214043\n",
       "0      PAY_2   2.594985"
      ]
     },
     "execution_count": 37,
     "metadata": {},
     "output_type": "execute_result"
    }
   ],
   "source": [
    "# compute vif values after removing a feature\n",
    "considered_features.remove('BILL_AMT2')\n",
    "compute_vif(considered_features).sort_values('VIF', ascending=False)"
   ]
  },
  {
   "cell_type": "code",
   "execution_count": 38,
   "id": "5240770b",
   "metadata": {},
   "outputs": [
    {
     "data": {
      "text/html": [
       "<div>\n",
       "<style scoped>\n",
       "    .dataframe tbody tr th:only-of-type {\n",
       "        vertical-align: middle;\n",
       "    }\n",
       "\n",
       "    .dataframe tbody tr th {\n",
       "        vertical-align: top;\n",
       "    }\n",
       "\n",
       "    .dataframe thead th {\n",
       "        text-align: right;\n",
       "    }\n",
       "</style>\n",
       "<table border=\"1\" class=\"dataframe\">\n",
       "  <thead>\n",
       "    <tr style=\"text-align: right;\">\n",
       "      <th></th>\n",
       "      <th>Variable</th>\n",
       "      <th>VIF</th>\n",
       "    </tr>\n",
       "  </thead>\n",
       "  <tbody>\n",
       "    <tr>\n",
       "      <th>7</th>\n",
       "      <td>BILL_AMT4</td>\n",
       "      <td>10.366555</td>\n",
       "    </tr>\n",
       "    <tr>\n",
       "      <th>6</th>\n",
       "      <td>BILL_AMT3</td>\n",
       "      <td>9.266619</td>\n",
       "    </tr>\n",
       "    <tr>\n",
       "      <th>8</th>\n",
       "      <td>BILL_AMT6</td>\n",
       "      <td>5.525964</td>\n",
       "    </tr>\n",
       "    <tr>\n",
       "      <th>5</th>\n",
       "      <td>BILL_AMT1</td>\n",
       "      <td>5.277694</td>\n",
       "    </tr>\n",
       "    <tr>\n",
       "      <th>3</th>\n",
       "      <td>PAY_5</td>\n",
       "      <td>4.655057</td>\n",
       "    </tr>\n",
       "    <tr>\n",
       "      <th>2</th>\n",
       "      <td>PAY_4</td>\n",
       "      <td>4.210746</td>\n",
       "    </tr>\n",
       "    <tr>\n",
       "      <th>1</th>\n",
       "      <td>PAY_3</td>\n",
       "      <td>3.562484</td>\n",
       "    </tr>\n",
       "    <tr>\n",
       "      <th>4</th>\n",
       "      <td>PAY_6</td>\n",
       "      <td>3.185501</td>\n",
       "    </tr>\n",
       "    <tr>\n",
       "      <th>0</th>\n",
       "      <td>PAY_2</td>\n",
       "      <td>2.594695</td>\n",
       "    </tr>\n",
       "  </tbody>\n",
       "</table>\n",
       "</div>"
      ],
      "text/plain": [
       "    Variable        VIF\n",
       "7  BILL_AMT4  10.366555\n",
       "6  BILL_AMT3   9.266619\n",
       "8  BILL_AMT6   5.525964\n",
       "5  BILL_AMT1   5.277694\n",
       "3      PAY_5   4.655057\n",
       "2      PAY_4   4.210746\n",
       "1      PAY_3   3.562484\n",
       "4      PAY_6   3.185501\n",
       "0      PAY_2   2.594695"
      ]
     },
     "execution_count": 38,
     "metadata": {},
     "output_type": "execute_result"
    }
   ],
   "source": [
    "# compute vif values after removing a feature\n",
    "considered_features.remove('BILL_AMT5')\n",
    "compute_vif(considered_features).sort_values('VIF', ascending=False)"
   ]
  },
  {
   "cell_type": "code",
   "execution_count": 39,
   "id": "d3caaae2",
   "metadata": {},
   "outputs": [
    {
     "data": {
      "text/html": [
       "<div>\n",
       "<style scoped>\n",
       "    .dataframe tbody tr th:only-of-type {\n",
       "        vertical-align: middle;\n",
       "    }\n",
       "\n",
       "    .dataframe tbody tr th {\n",
       "        vertical-align: top;\n",
       "    }\n",
       "\n",
       "    .dataframe thead th {\n",
       "        text-align: right;\n",
       "    }\n",
       "</style>\n",
       "<table border=\"1\" class=\"dataframe\">\n",
       "  <thead>\n",
       "    <tr style=\"text-align: right;\">\n",
       "      <th></th>\n",
       "      <th>Variable</th>\n",
       "      <th>VIF</th>\n",
       "    </tr>\n",
       "  </thead>\n",
       "  <tbody>\n",
       "    <tr>\n",
       "      <th>6</th>\n",
       "      <td>BILL_AMT3</td>\n",
       "      <td>6.722692</td>\n",
       "    </tr>\n",
       "    <tr>\n",
       "      <th>5</th>\n",
       "      <td>BILL_AMT1</td>\n",
       "      <td>5.173807</td>\n",
       "    </tr>\n",
       "    <tr>\n",
       "      <th>3</th>\n",
       "      <td>PAY_5</td>\n",
       "      <td>4.596771</td>\n",
       "    </tr>\n",
       "    <tr>\n",
       "      <th>2</th>\n",
       "      <td>PAY_4</td>\n",
       "      <td>4.202954</td>\n",
       "    </tr>\n",
       "    <tr>\n",
       "      <th>7</th>\n",
       "      <td>BILL_AMT6</td>\n",
       "      <td>3.920209</td>\n",
       "    </tr>\n",
       "    <tr>\n",
       "      <th>1</th>\n",
       "      <td>PAY_3</td>\n",
       "      <td>3.562478</td>\n",
       "    </tr>\n",
       "    <tr>\n",
       "      <th>4</th>\n",
       "      <td>PAY_6</td>\n",
       "      <td>3.182068</td>\n",
       "    </tr>\n",
       "    <tr>\n",
       "      <th>0</th>\n",
       "      <td>PAY_2</td>\n",
       "      <td>2.591596</td>\n",
       "    </tr>\n",
       "  </tbody>\n",
       "</table>\n",
       "</div>"
      ],
      "text/plain": [
       "    Variable       VIF\n",
       "6  BILL_AMT3  6.722692\n",
       "5  BILL_AMT1  5.173807\n",
       "3      PAY_5  4.596771\n",
       "2      PAY_4  4.202954\n",
       "7  BILL_AMT6  3.920209\n",
       "1      PAY_3  3.562478\n",
       "4      PAY_6  3.182068\n",
       "0      PAY_2  2.591596"
      ]
     },
     "execution_count": 39,
     "metadata": {},
     "output_type": "execute_result"
    }
   ],
   "source": [
    "# compute vif values after removing a feature\n",
    "considered_features.remove('BILL_AMT4')\n",
    "compute_vif(considered_features).sort_values('VIF', ascending=False)"
   ]
  },
  {
   "cell_type": "code",
   "execution_count": 40,
   "id": "3aebd14f",
   "metadata": {},
   "outputs": [
    {
     "data": {
      "text/html": [
       "<div>\n",
       "<style scoped>\n",
       "    .dataframe tbody tr th:only-of-type {\n",
       "        vertical-align: middle;\n",
       "    }\n",
       "\n",
       "    .dataframe tbody tr th {\n",
       "        vertical-align: top;\n",
       "    }\n",
       "\n",
       "    .dataframe thead th {\n",
       "        text-align: right;\n",
       "    }\n",
       "</style>\n",
       "<table border=\"1\" class=\"dataframe\">\n",
       "  <thead>\n",
       "    <tr style=\"text-align: right;\">\n",
       "      <th></th>\n",
       "      <th>Variable</th>\n",
       "      <th>VIF</th>\n",
       "    </tr>\n",
       "  </thead>\n",
       "  <tbody>\n",
       "    <tr>\n",
       "      <th>3</th>\n",
       "      <td>PAY_5</td>\n",
       "      <td>4.596574</td>\n",
       "    </tr>\n",
       "    <tr>\n",
       "      <th>2</th>\n",
       "      <td>PAY_4</td>\n",
       "      <td>4.174719</td>\n",
       "    </tr>\n",
       "    <tr>\n",
       "      <th>1</th>\n",
       "      <td>PAY_3</td>\n",
       "      <td>3.561618</td>\n",
       "    </tr>\n",
       "    <tr>\n",
       "      <th>4</th>\n",
       "      <td>PAY_6</td>\n",
       "      <td>3.177853</td>\n",
       "    </tr>\n",
       "    <tr>\n",
       "      <th>6</th>\n",
       "      <td>BILL_AMT6</td>\n",
       "      <td>2.949918</td>\n",
       "    </tr>\n",
       "    <tr>\n",
       "      <th>5</th>\n",
       "      <td>BILL_AMT1</td>\n",
       "      <td>2.876098</td>\n",
       "    </tr>\n",
       "    <tr>\n",
       "      <th>0</th>\n",
       "      <td>PAY_2</td>\n",
       "      <td>2.582360</td>\n",
       "    </tr>\n",
       "  </tbody>\n",
       "</table>\n",
       "</div>"
      ],
      "text/plain": [
       "    Variable       VIF\n",
       "3      PAY_5  4.596574\n",
       "2      PAY_4  4.174719\n",
       "1      PAY_3  3.561618\n",
       "4      PAY_6  3.177853\n",
       "6  BILL_AMT6  2.949918\n",
       "5  BILL_AMT1  2.876098\n",
       "0      PAY_2  2.582360"
      ]
     },
     "execution_count": 40,
     "metadata": {},
     "output_type": "execute_result"
    }
   ],
   "source": [
    "# compute vif values after removing a feature\n",
    "considered_features.remove('BILL_AMT3')\n",
    "compute_vif(considered_features).sort_values('VIF', ascending=False)"
   ]
  },
  {
   "cell_type": "markdown",
   "id": "774d5694",
   "metadata": {},
   "source": [
    ">- As we saw after removing Bill_Amt2,Bill_Amt5, Bill_Amt4 and Bill_Amt3, Now we successed the vif value less than 5.\n",
    ">- So, we will remove these columns while building model."
   ]
  },
  {
   "cell_type": "markdown",
   "id": "0e58978f",
   "metadata": {},
   "source": [
    "# Modeling"
   ]
  },
  {
   "cell_type": "code",
   "execution_count": 41,
   "id": "38bd97eb",
   "metadata": {},
   "outputs": [],
   "source": [
    "# Import Packages for performing models\n",
    "\n",
    "from sklearn.preprocessing import StandardScaler\n",
    "from sklearn.model_selection import train_test_split\n",
    "from sklearn.linear_model import LogisticRegression\n",
    "from sklearn.ensemble import RandomForestClassifier\n",
    "from sklearn.model_selection import GridSearchCV\n",
    "\n",
    "import statsmodels.api as sm\n",
    "\n",
    "from sklearn import metrics\n",
    "from sklearn.metrics import accuracy_score, recall_score, precision_score, f1_score,roc_auc_score, roc_curve, auc\n",
    "from sklearn.metrics import roc_auc_score\n",
    "from sklearn.metrics import confusion_matrix\n",
    "from sklearn.metrics import plot_confusion_matrix\n",
    "from sklearn.metrics import classification_report\n",
    "from sklearn.metrics import plot_roc_curve\n",
    "from sklearn.metrics import precision_recall_curve\n",
    "from sklearn.metrics import plot_precision_recall_curve"
   ]
  },
  {
   "cell_type": "markdown",
   "id": "f67d06d5",
   "metadata": {},
   "source": [
    "Already we know that what are column having high multicollinearity so we will drop those columns with target column"
   ]
  },
  {
   "cell_type": "code",
   "execution_count": 42,
   "id": "b5eebd01",
   "metadata": {},
   "outputs": [],
   "source": [
    "# Split new_df into X and y\n",
    "\n",
    "X = new_df.drop(['Default_Payment','BILL_AMT2', 'BILL_AMT3', 'BILL_AMT4','BILL_AMT5'],axis=1)\n",
    "y = new_df['Default_Payment']"
   ]
  },
  {
   "cell_type": "code",
   "execution_count": 43,
   "id": "74e55183",
   "metadata": {
    "scrolled": true
   },
   "outputs": [
    {
     "data": {
      "text/html": [
       "<div>\n",
       "<style scoped>\n",
       "    .dataframe tbody tr th:only-of-type {\n",
       "        vertical-align: middle;\n",
       "    }\n",
       "\n",
       "    .dataframe tbody tr th {\n",
       "        vertical-align: top;\n",
       "    }\n",
       "\n",
       "    .dataframe thead th {\n",
       "        text-align: right;\n",
       "    }\n",
       "</style>\n",
       "<table border=\"1\" class=\"dataframe\">\n",
       "  <thead>\n",
       "    <tr style=\"text-align: right;\">\n",
       "      <th></th>\n",
       "      <th>LIMIT_BAL</th>\n",
       "      <th>SEX</th>\n",
       "      <th>AGE</th>\n",
       "      <th>PAY_0</th>\n",
       "      <th>PAY_2</th>\n",
       "      <th>PAY_3</th>\n",
       "      <th>PAY_4</th>\n",
       "      <th>PAY_5</th>\n",
       "      <th>PAY_6</th>\n",
       "      <th>BILL_AMT1</th>\n",
       "      <th>...</th>\n",
       "      <th>PAY_AMT4</th>\n",
       "      <th>PAY_AMT5</th>\n",
       "      <th>PAY_AMT6</th>\n",
       "      <th>EDU_0</th>\n",
       "      <th>EDU_1</th>\n",
       "      <th>EDU_2</th>\n",
       "      <th>EDU_3</th>\n",
       "      <th>MAR_1</th>\n",
       "      <th>MAR_2</th>\n",
       "      <th>MAR_3</th>\n",
       "    </tr>\n",
       "  </thead>\n",
       "  <tbody>\n",
       "    <tr>\n",
       "      <th>0</th>\n",
       "      <td>20000.0</td>\n",
       "      <td>2</td>\n",
       "      <td>24</td>\n",
       "      <td>2</td>\n",
       "      <td>2</td>\n",
       "      <td>-1</td>\n",
       "      <td>-1</td>\n",
       "      <td>-2</td>\n",
       "      <td>-2</td>\n",
       "      <td>3913.0</td>\n",
       "      <td>...</td>\n",
       "      <td>0.0</td>\n",
       "      <td>0.0</td>\n",
       "      <td>0.0</td>\n",
       "      <td>0</td>\n",
       "      <td>0</td>\n",
       "      <td>1</td>\n",
       "      <td>0</td>\n",
       "      <td>1</td>\n",
       "      <td>0</td>\n",
       "      <td>0</td>\n",
       "    </tr>\n",
       "    <tr>\n",
       "      <th>1</th>\n",
       "      <td>120000.0</td>\n",
       "      <td>2</td>\n",
       "      <td>26</td>\n",
       "      <td>-1</td>\n",
       "      <td>2</td>\n",
       "      <td>0</td>\n",
       "      <td>0</td>\n",
       "      <td>0</td>\n",
       "      <td>2</td>\n",
       "      <td>2682.0</td>\n",
       "      <td>...</td>\n",
       "      <td>1000.0</td>\n",
       "      <td>0.0</td>\n",
       "      <td>2000.0</td>\n",
       "      <td>0</td>\n",
       "      <td>0</td>\n",
       "      <td>1</td>\n",
       "      <td>0</td>\n",
       "      <td>0</td>\n",
       "      <td>1</td>\n",
       "      <td>0</td>\n",
       "    </tr>\n",
       "    <tr>\n",
       "      <th>2</th>\n",
       "      <td>90000.0</td>\n",
       "      <td>2</td>\n",
       "      <td>34</td>\n",
       "      <td>0</td>\n",
       "      <td>0</td>\n",
       "      <td>0</td>\n",
       "      <td>0</td>\n",
       "      <td>0</td>\n",
       "      <td>0</td>\n",
       "      <td>29239.0</td>\n",
       "      <td>...</td>\n",
       "      <td>1000.0</td>\n",
       "      <td>1000.0</td>\n",
       "      <td>5000.0</td>\n",
       "      <td>0</td>\n",
       "      <td>0</td>\n",
       "      <td>1</td>\n",
       "      <td>0</td>\n",
       "      <td>0</td>\n",
       "      <td>1</td>\n",
       "      <td>0</td>\n",
       "    </tr>\n",
       "    <tr>\n",
       "      <th>3</th>\n",
       "      <td>50000.0</td>\n",
       "      <td>2</td>\n",
       "      <td>37</td>\n",
       "      <td>0</td>\n",
       "      <td>0</td>\n",
       "      <td>0</td>\n",
       "      <td>0</td>\n",
       "      <td>0</td>\n",
       "      <td>0</td>\n",
       "      <td>46990.0</td>\n",
       "      <td>...</td>\n",
       "      <td>1100.0</td>\n",
       "      <td>1069.0</td>\n",
       "      <td>1000.0</td>\n",
       "      <td>0</td>\n",
       "      <td>0</td>\n",
       "      <td>1</td>\n",
       "      <td>0</td>\n",
       "      <td>1</td>\n",
       "      <td>0</td>\n",
       "      <td>0</td>\n",
       "    </tr>\n",
       "    <tr>\n",
       "      <th>4</th>\n",
       "      <td>50000.0</td>\n",
       "      <td>1</td>\n",
       "      <td>57</td>\n",
       "      <td>-1</td>\n",
       "      <td>0</td>\n",
       "      <td>-1</td>\n",
       "      <td>0</td>\n",
       "      <td>0</td>\n",
       "      <td>0</td>\n",
       "      <td>8617.0</td>\n",
       "      <td>...</td>\n",
       "      <td>9000.0</td>\n",
       "      <td>689.0</td>\n",
       "      <td>679.0</td>\n",
       "      <td>0</td>\n",
       "      <td>0</td>\n",
       "      <td>1</td>\n",
       "      <td>0</td>\n",
       "      <td>1</td>\n",
       "      <td>0</td>\n",
       "      <td>0</td>\n",
       "    </tr>\n",
       "  </tbody>\n",
       "</table>\n",
       "<p>5 rows × 24 columns</p>\n",
       "</div>"
      ],
      "text/plain": [
       "   LIMIT_BAL  SEX  AGE  PAY_0  PAY_2  PAY_3  PAY_4  PAY_5  PAY_6  BILL_AMT1  \\\n",
       "0    20000.0    2   24      2      2     -1     -1     -2     -2     3913.0   \n",
       "1   120000.0    2   26     -1      2      0      0      0      2     2682.0   \n",
       "2    90000.0    2   34      0      0      0      0      0      0    29239.0   \n",
       "3    50000.0    2   37      0      0      0      0      0      0    46990.0   \n",
       "4    50000.0    1   57     -1      0     -1      0      0      0     8617.0   \n",
       "\n",
       "   ...  PAY_AMT4  PAY_AMT5  PAY_AMT6  EDU_0  EDU_1  EDU_2  EDU_3  MAR_1  \\\n",
       "0  ...       0.0       0.0       0.0      0      0      1      0      1   \n",
       "1  ...    1000.0       0.0    2000.0      0      0      1      0      0   \n",
       "2  ...    1000.0    1000.0    5000.0      0      0      1      0      0   \n",
       "3  ...    1100.0    1069.0    1000.0      0      0      1      0      1   \n",
       "4  ...    9000.0     689.0     679.0      0      0      1      0      1   \n",
       "\n",
       "   MAR_2  MAR_3  \n",
       "0      0      0  \n",
       "1      1      0  \n",
       "2      1      0  \n",
       "3      0      0  \n",
       "4      0      0  \n",
       "\n",
       "[5 rows x 24 columns]"
      ]
     },
     "execution_count": 43,
     "metadata": {},
     "output_type": "execute_result"
    }
   ],
   "source": [
    "X.head()"
   ]
  },
  {
   "cell_type": "code",
   "execution_count": 44,
   "id": "10cefd02",
   "metadata": {
    "scrolled": true
   },
   "outputs": [
    {
     "data": {
      "text/plain": [
       "0    1\n",
       "1    1\n",
       "2    0\n",
       "3    0\n",
       "4    0\n",
       "Name: Default_Payment, dtype: int64"
      ]
     },
     "execution_count": 44,
     "metadata": {},
     "output_type": "execute_result"
    }
   ],
   "source": [
    "y.head()"
   ]
  },
  {
   "cell_type": "code",
   "execution_count": 45,
   "id": "637ea47e",
   "metadata": {},
   "outputs": [
    {
     "data": {
      "text/plain": [
       "((30000, 24), (30000,))"
      ]
     },
     "execution_count": 45,
     "metadata": {},
     "output_type": "execute_result"
    }
   ],
   "source": [
    "X.shape,y.shape"
   ]
  },
  {
   "cell_type": "code",
   "execution_count": 46,
   "id": "f6b61fbf",
   "metadata": {},
   "outputs": [],
   "source": [
    "# Scale X with a standard scaler\n",
    "scaler = StandardScaler()\n",
    "X = pd.DataFrame(scaler.fit_transform(X), columns=X.columns)"
   ]
  },
  {
   "cell_type": "code",
   "execution_count": 47,
   "id": "76059b07",
   "metadata": {},
   "outputs": [
    {
     "data": {
      "text/html": [
       "<div>\n",
       "<style scoped>\n",
       "    .dataframe tbody tr th:only-of-type {\n",
       "        vertical-align: middle;\n",
       "    }\n",
       "\n",
       "    .dataframe tbody tr th {\n",
       "        vertical-align: top;\n",
       "    }\n",
       "\n",
       "    .dataframe thead th {\n",
       "        text-align: right;\n",
       "    }\n",
       "</style>\n",
       "<table border=\"1\" class=\"dataframe\">\n",
       "  <thead>\n",
       "    <tr style=\"text-align: right;\">\n",
       "      <th></th>\n",
       "      <th>LIMIT_BAL</th>\n",
       "      <th>SEX</th>\n",
       "      <th>AGE</th>\n",
       "      <th>PAY_0</th>\n",
       "      <th>PAY_2</th>\n",
       "      <th>PAY_3</th>\n",
       "      <th>PAY_4</th>\n",
       "      <th>PAY_5</th>\n",
       "      <th>PAY_6</th>\n",
       "      <th>BILL_AMT1</th>\n",
       "      <th>...</th>\n",
       "      <th>PAY_AMT4</th>\n",
       "      <th>PAY_AMT5</th>\n",
       "      <th>PAY_AMT6</th>\n",
       "      <th>EDU_0</th>\n",
       "      <th>EDU_1</th>\n",
       "      <th>EDU_2</th>\n",
       "      <th>EDU_3</th>\n",
       "      <th>MAR_1</th>\n",
       "      <th>MAR_2</th>\n",
       "      <th>MAR_3</th>\n",
       "    </tr>\n",
       "  </thead>\n",
       "  <tbody>\n",
       "    <tr>\n",
       "      <th>0</th>\n",
       "      <td>-1.136720</td>\n",
       "      <td>0.810161</td>\n",
       "      <td>-1.246020</td>\n",
       "      <td>1.794564</td>\n",
       "      <td>1.782348</td>\n",
       "      <td>-0.696663</td>\n",
       "      <td>-0.666599</td>\n",
       "      <td>-1.530046</td>\n",
       "      <td>-1.486041</td>\n",
       "      <td>-0.642501</td>\n",
       "      <td>...</td>\n",
       "      <td>-0.308063</td>\n",
       "      <td>-0.314136</td>\n",
       "      <td>-0.293382</td>\n",
       "      <td>-0.125886</td>\n",
       "      <td>-0.738375</td>\n",
       "      <td>1.0669</td>\n",
       "      <td>-0.442752</td>\n",
       "      <td>1.093780</td>\n",
       "      <td>-1.066471</td>\n",
       "      <td>-0.112812</td>\n",
       "    </tr>\n",
       "    <tr>\n",
       "      <th>1</th>\n",
       "      <td>-0.365981</td>\n",
       "      <td>0.810161</td>\n",
       "      <td>-1.029047</td>\n",
       "      <td>-0.874991</td>\n",
       "      <td>1.782348</td>\n",
       "      <td>0.138865</td>\n",
       "      <td>0.188746</td>\n",
       "      <td>0.234917</td>\n",
       "      <td>1.992316</td>\n",
       "      <td>-0.659219</td>\n",
       "      <td>...</td>\n",
       "      <td>-0.244230</td>\n",
       "      <td>-0.314136</td>\n",
       "      <td>-0.180878</td>\n",
       "      <td>-0.125886</td>\n",
       "      <td>-0.738375</td>\n",
       "      <td>1.0669</td>\n",
       "      <td>-0.442752</td>\n",
       "      <td>-0.914261</td>\n",
       "      <td>0.937672</td>\n",
       "      <td>-0.112812</td>\n",
       "    </tr>\n",
       "    <tr>\n",
       "      <th>2</th>\n",
       "      <td>-0.597202</td>\n",
       "      <td>0.810161</td>\n",
       "      <td>-0.161156</td>\n",
       "      <td>0.014861</td>\n",
       "      <td>0.111736</td>\n",
       "      <td>0.138865</td>\n",
       "      <td>0.188746</td>\n",
       "      <td>0.234917</td>\n",
       "      <td>0.253137</td>\n",
       "      <td>-0.298560</td>\n",
       "      <td>...</td>\n",
       "      <td>-0.244230</td>\n",
       "      <td>-0.248683</td>\n",
       "      <td>-0.012122</td>\n",
       "      <td>-0.125886</td>\n",
       "      <td>-0.738375</td>\n",
       "      <td>1.0669</td>\n",
       "      <td>-0.442752</td>\n",
       "      <td>-0.914261</td>\n",
       "      <td>0.937672</td>\n",
       "      <td>-0.112812</td>\n",
       "    </tr>\n",
       "    <tr>\n",
       "      <th>3</th>\n",
       "      <td>-0.905498</td>\n",
       "      <td>0.810161</td>\n",
       "      <td>0.164303</td>\n",
       "      <td>0.014861</td>\n",
       "      <td>0.111736</td>\n",
       "      <td>0.138865</td>\n",
       "      <td>0.188746</td>\n",
       "      <td>0.234917</td>\n",
       "      <td>0.253137</td>\n",
       "      <td>-0.057491</td>\n",
       "      <td>...</td>\n",
       "      <td>-0.237846</td>\n",
       "      <td>-0.244166</td>\n",
       "      <td>-0.237130</td>\n",
       "      <td>-0.125886</td>\n",
       "      <td>-0.738375</td>\n",
       "      <td>1.0669</td>\n",
       "      <td>-0.442752</td>\n",
       "      <td>1.093780</td>\n",
       "      <td>-1.066471</td>\n",
       "      <td>-0.112812</td>\n",
       "    </tr>\n",
       "    <tr>\n",
       "      <th>4</th>\n",
       "      <td>-0.905498</td>\n",
       "      <td>-1.234323</td>\n",
       "      <td>2.334029</td>\n",
       "      <td>-0.874991</td>\n",
       "      <td>0.111736</td>\n",
       "      <td>-0.696663</td>\n",
       "      <td>0.188746</td>\n",
       "      <td>0.234917</td>\n",
       "      <td>0.253137</td>\n",
       "      <td>-0.578618</td>\n",
       "      <td>...</td>\n",
       "      <td>0.266434</td>\n",
       "      <td>-0.269039</td>\n",
       "      <td>-0.255187</td>\n",
       "      <td>-0.125886</td>\n",
       "      <td>-0.738375</td>\n",
       "      <td>1.0669</td>\n",
       "      <td>-0.442752</td>\n",
       "      <td>1.093780</td>\n",
       "      <td>-1.066471</td>\n",
       "      <td>-0.112812</td>\n",
       "    </tr>\n",
       "  </tbody>\n",
       "</table>\n",
       "<p>5 rows × 24 columns</p>\n",
       "</div>"
      ],
      "text/plain": [
       "   LIMIT_BAL       SEX       AGE     PAY_0     PAY_2     PAY_3     PAY_4  \\\n",
       "0  -1.136720  0.810161 -1.246020  1.794564  1.782348 -0.696663 -0.666599   \n",
       "1  -0.365981  0.810161 -1.029047 -0.874991  1.782348  0.138865  0.188746   \n",
       "2  -0.597202  0.810161 -0.161156  0.014861  0.111736  0.138865  0.188746   \n",
       "3  -0.905498  0.810161  0.164303  0.014861  0.111736  0.138865  0.188746   \n",
       "4  -0.905498 -1.234323  2.334029 -0.874991  0.111736 -0.696663  0.188746   \n",
       "\n",
       "      PAY_5     PAY_6  BILL_AMT1  ...  PAY_AMT4  PAY_AMT5  PAY_AMT6     EDU_0  \\\n",
       "0 -1.530046 -1.486041  -0.642501  ... -0.308063 -0.314136 -0.293382 -0.125886   \n",
       "1  0.234917  1.992316  -0.659219  ... -0.244230 -0.314136 -0.180878 -0.125886   \n",
       "2  0.234917  0.253137  -0.298560  ... -0.244230 -0.248683 -0.012122 -0.125886   \n",
       "3  0.234917  0.253137  -0.057491  ... -0.237846 -0.244166 -0.237130 -0.125886   \n",
       "4  0.234917  0.253137  -0.578618  ...  0.266434 -0.269039 -0.255187 -0.125886   \n",
       "\n",
       "      EDU_1   EDU_2     EDU_3     MAR_1     MAR_2     MAR_3  \n",
       "0 -0.738375  1.0669 -0.442752  1.093780 -1.066471 -0.112812  \n",
       "1 -0.738375  1.0669 -0.442752 -0.914261  0.937672 -0.112812  \n",
       "2 -0.738375  1.0669 -0.442752 -0.914261  0.937672 -0.112812  \n",
       "3 -0.738375  1.0669 -0.442752  1.093780 -1.066471 -0.112812  \n",
       "4 -0.738375  1.0669 -0.442752  1.093780 -1.066471 -0.112812  \n",
       "\n",
       "[5 rows x 24 columns]"
      ]
     },
     "execution_count": 47,
     "metadata": {},
     "output_type": "execute_result"
    }
   ],
   "source": [
    "X.head()"
   ]
  },
  {
   "cell_type": "code",
   "execution_count": 48,
   "id": "76a6edfe",
   "metadata": {},
   "outputs": [],
   "source": [
    "#split the data set\n",
    "X_train, X_test, y_train, y_test = train_test_split(X, y, test_size=0.30, random_state=42)"
   ]
  },
  {
   "cell_type": "code",
   "execution_count": 49,
   "id": "a6b494db",
   "metadata": {},
   "outputs": [
    {
     "data": {
      "text/plain": [
       "((21000, 24), (21000,))"
      ]
     },
     "execution_count": 49,
     "metadata": {},
     "output_type": "execute_result"
    }
   ],
   "source": [
    "X_train.shape,y_train.shape"
   ]
  },
  {
   "cell_type": "markdown",
   "id": "02be53dd",
   "metadata": {},
   "source": [
    "## <font color='red'> Logistic Regression after removing multicollinearity </font>"
   ]
  },
  {
   "cell_type": "code",
   "execution_count": 50,
   "id": "c821d9e4",
   "metadata": {},
   "outputs": [
    {
     "name": "stdout",
     "output_type": "stream",
     "text": [
      "Warning: Maximum number of iterations has been exceeded.\n",
      "         Current function value: 0.645824\n",
      "         Iterations: 35\n",
      "                           Logit Regression Results                           \n",
      "==============================================================================\n",
      "Dep. Variable:        Default_Payment   No. Observations:                21000\n",
      "Model:                          Logit   Df Residuals:                    20978\n",
      "Method:                           MLE   Df Model:                           21\n",
      "Date:                Wed, 27 Jul 2022   Pseudo R-squ.:                 -0.2179\n",
      "Time:                        14:57:25   Log-Likelihood:                -13562.\n",
      "converged:                      False   LL-Null:                       -11136.\n",
      "Covariance Type:            nonrobust   LLR p-value:                     1.000\n",
      "==============================================================================\n",
      "                 coef    std err          z      P>|z|      [0.025      0.975]\n",
      "------------------------------------------------------------------------------\n",
      "LIMIT_BAL     -0.0296      0.018     -1.611      0.107      -0.065       0.006\n",
      "SEX           -0.0388      0.015     -2.646      0.008      -0.068      -0.010\n",
      "AGE            0.0573      0.017      3.358      0.001       0.024       0.091\n",
      "PAY_0          0.4941      0.021     23.678      0.000       0.453       0.535\n",
      "PAY_2          0.1111      0.026      4.257      0.000       0.060       0.162\n",
      "PAY_3          0.0902      0.028      3.203      0.001       0.035       0.145\n",
      "PAY_4          0.0236      0.030      0.780      0.435      -0.036       0.083\n",
      "PAY_5          0.0187      0.032      0.590      0.555      -0.043       0.081\n",
      "PAY_6          0.0072      0.026      0.276      0.783      -0.044       0.059\n",
      "BILL_AMT1     -0.1557      0.026     -5.972      0.000      -0.207      -0.105\n",
      "BILL_AMT6     -0.0003      0.028     -0.010      0.992      -0.055       0.055\n",
      "PAY_AMT1      -0.0412      0.018     -2.352      0.019      -0.076      -0.007\n",
      "PAY_AMT2      -0.0395      0.021     -1.920      0.055      -0.080       0.001\n",
      "PAY_AMT3      -0.0094      0.017     -0.546      0.585      -0.043       0.024\n",
      "PAY_AMT4      -0.0163      0.016     -1.001      0.317      -0.048       0.016\n",
      "PAY_AMT5      -0.0201      0.016     -1.246      0.213      -0.052       0.012\n",
      "PAY_AMT6      -0.0146      0.016     -0.898      0.369      -0.047       0.017\n",
      "EDU_0         -0.0521   1.43e+05  -3.65e-07      1.000    -2.8e+05     2.8e+05\n",
      "EDU_1          0.0207   5.51e+05   3.77e-08      1.000   -1.08e+06    1.08e+06\n",
      "EDU_2          0.0014   5.75e+05   2.36e-09      1.000   -1.13e+06    1.13e+06\n",
      "EDU_3         -0.0112   4.27e+05  -2.62e-08      1.000   -8.36e+05    8.36e+05\n",
      "MAR_1          0.0277        nan        nan        nan         nan         nan\n",
      "MAR_2         -0.0252        nan        nan        nan         nan         nan\n",
      "MAR_3         -0.0108        nan        nan        nan         nan         nan\n",
      "==============================================================================\n"
     ]
    },
    {
     "name": "stderr",
     "output_type": "stream",
     "text": [
      "C:\\Users\\ankit\\anaconda3\\lib\\site-packages\\statsmodels\\base\\model.py:566: ConvergenceWarning: Maximum Likelihood optimization failed to converge. Check mle_retvals\n",
      "  warnings.warn(\"Maximum Likelihood optimization failed to \"\n"
     ]
    }
   ],
   "source": [
    "logit_model=sm.Logit(y_train,X_train)\n",
    "result=logit_model.fit()\n",
    "print(result.summary())"
   ]
  },
  {
   "cell_type": "markdown",
   "id": "ad3193c9",
   "metadata": {},
   "source": [
    "## <font color='red'>Logistic Regression Model Fitting</font>"
   ]
  },
  {
   "cell_type": "code",
   "execution_count": 51,
   "id": "70c546ee",
   "metadata": {},
   "outputs": [
    {
     "data": {
      "text/plain": [
       "LogisticRegression()"
      ]
     },
     "execution_count": 51,
     "metadata": {},
     "output_type": "execute_result"
    }
   ],
   "source": [
    "# build the model\n",
    "logreg = LogisticRegression()\n",
    "# fit the model\n",
    "logreg.fit(X_train, y_train)"
   ]
  },
  {
   "cell_type": "code",
   "execution_count": 52,
   "id": "72a2120c",
   "metadata": {},
   "outputs": [],
   "source": [
    "# predict the model\n",
    "y_pred = logreg.predict(X_test)"
   ]
  },
  {
   "cell_type": "code",
   "execution_count": 53,
   "id": "b0d89153",
   "metadata": {},
   "outputs": [
    {
     "name": "stdout",
     "output_type": "stream",
     "text": [
      "[[6827  213]\n",
      " [1497  463]]\n"
     ]
    },
    {
     "data": {
      "image/png": "[encoded data removed]",
      "text/plain": [
       "<Figure size 360x360 with 1 Axes>"
      ]
     },
     "metadata": {
      "needs_background": "light"
     },
     "output_type": "display_data"
    },
    {
     "name": "stdout",
     "output_type": "stream",
     "text": [
      "Accuracy of logistic regression classifier: 0.81\n"
     ]
    }
   ],
   "source": [
    "# Build the confusion matrix\n",
    "cm_lr= confusion_matrix(y_test, y_pred)\n",
    "print(cm_lr)\n",
    "\n",
    "fig, ax = plt.subplots(figsize=(5, 5))\n",
    "ax.matshow(cm_lr, cmap=plt.cm.Oranges, alpha=0.3)\n",
    "for i in range(cm_lr.shape[0]):\n",
    "    for j in range(cm_lr.shape[1]):\n",
    "        ax.text(x=j, y=i,s=cm_lr[i, j], va='center', ha='center', size='xx-large')\n",
    " \n",
    "plt.xlabel('Predictions', fontsize=18)\n",
    "plt.ylabel('Actuals', fontsize=18)\n",
    "plt.title('Confusion Matrix', fontsize=18)\n",
    "plt.show()\n",
    "\n",
    "# Let's check the overall accuracy.\n",
    "accuracy_lr = accuracy_score(y_pred,y_test)\n",
    "print('Accuracy of logistic regression classifier: {:.2f}'.format(accuracy_lr))"
   ]
  },
  {
   "cell_type": "code",
   "execution_count": 54,
   "id": "64de104d",
   "metadata": {},
   "outputs": [
    {
     "name": "stdout",
     "output_type": "stream",
     "text": [
      "Precision: 0.68\n",
      "Recall: 0.24\n",
      "F1 Score: 0.35\n",
      "Sensitivity : 0.97\n",
      "Specificity : 0.24\n"
     ]
    }
   ],
   "source": [
    "# Let's calculate Sensitivity, Specificity, Recall, Precision and F1-Score\n",
    "\n",
    "print('Precision: %.2f' % precision_score(y_test, y_pred))\n",
    "print('Recall: %.2f' % recall_score(y_test, y_pred))\n",
    "\n",
    "print('F1 Score: %.2f' % f1_score(y_test, y_pred))\n",
    "\n",
    "sensitivity = cm_lr[0,0]/(cm_lr[0,0]+cm_lr[0,1])\n",
    "print('Sensitivity : {:.2f}'.format(sensitivity))\n",
    "\n",
    "specificity = cm_lr[1,1]/(cm_lr[1,0]+cm_lr[1,1])\n",
    "print('Specificity : {:.2f}'.format(specificity))"
   ]
  },
  {
   "cell_type": "code",
   "execution_count": 55,
   "id": "6a5954d7",
   "metadata": {},
   "outputs": [
    {
     "name": "stdout",
     "output_type": "stream",
     "text": [
      "              precision    recall  f1-score   support\n",
      "\n",
      "           0       0.97      0.82      0.89      8324\n",
      "           1       0.24      0.68      0.35       676\n",
      "\n",
      "    accuracy                           0.81      9000\n",
      "   macro avg       0.60      0.75      0.62      9000\n",
      "weighted avg       0.91      0.81      0.85      9000\n",
      "\n"
     ]
    }
   ],
   "source": [
    "clf_report_lr = classification_report(y_pred,y_test)\n",
    "print(clf_report_lr)"
   ]
  },
  {
   "cell_type": "code",
   "execution_count": 56,
   "id": "b9ee2ed1",
   "metadata": {},
   "outputs": [
    {
     "name": "stdout",
     "output_type": "stream",
     "text": [
      "     Features  Importance\n",
      "3       PAY_0    0.649630\n",
      "12   PAY_AMT2    0.224256\n",
      "9   BILL_AMT1    0.188629\n",
      "11   PAY_AMT1    0.123682\n",
      "17      EDU_0    0.117682\n",
      "4       PAY_2    0.109485\n",
      "0   LIMIT_BAL    0.103308\n",
      "5       PAY_3    0.094162\n",
      "2         AGE    0.066223\n",
      "10  BILL_AMT6    0.065395\n"
     ]
    },
    {
     "data": {
      "image/png": "[encoded data removed]",
      "text/plain": [
       "<Figure size 504x504 with 1 Axes>"
      ]
     },
     "metadata": {
      "needs_background": "light"
     },
     "output_type": "display_data"
    }
   ],
   "source": [
    "# Summarize feature importance scores\n",
    "feature_imp = pd.DataFrame({'Features':X.columns, 'Importance':np.abs(logreg.coef_).ravel() })\n",
    "\n",
    "feature_imp = feature_imp.sort_values(by = 'Importance', ascending=False)\n",
    "\n",
    "# list top 10 important features\n",
    "feature_imp = feature_imp[:10]\n",
    "\n",
    "# display the scores of top 10\n",
    "print(feature_imp)\n",
    "\n",
    "# plot feature importance\n",
    "plt.figure(figsize = (7, 7))\n",
    "sns.barplot(y='Features',x='Importance',data=feature_imp)\n",
    "\n",
    "# Add labels to your graph\n",
    "plt.xlabel('Feature Importance Score')\n",
    "plt.ylabel('Features')\n",
    "plt.title(\"Visualizing Top 10 Important Features\")\n",
    "plt.show()"
   ]
  },
  {
   "cell_type": "markdown",
   "id": "a1c1cfc9",
   "metadata": {},
   "source": [
    ">- from the above feature importance graph we can say that the most important feature that make an impact on dependt variable are PAY_0, PAY_AMT2 and BILL_AMT1."
   ]
  },
  {
   "cell_type": "markdown",
   "id": "51a916f2",
   "metadata": {},
   "source": [
    "## <font color='red'>RandomForest Model </font>"
   ]
  },
  {
   "cell_type": "code",
   "execution_count": 57,
   "id": "86550af1",
   "metadata": {},
   "outputs": [
    {
     "data": {
      "text/plain": [
       "RandomForestClassifier()"
      ]
     },
     "execution_count": 57,
     "metadata": {},
     "output_type": "execute_result"
    }
   ],
   "source": [
    "# build model\n",
    "rf_clf = RandomForestClassifier()\n",
    "\n",
    "# fit the model\n",
    "rf_clf.fit(X_train,y_train)"
   ]
  },
  {
   "cell_type": "code",
   "execution_count": 58,
   "id": "5c3a2d2e",
   "metadata": {},
   "outputs": [],
   "source": [
    "# Get the predicted class\n",
    "y_pred = rf_clf.predict(X_test)"
   ]
  },
  {
   "cell_type": "code",
   "execution_count": 59,
   "id": "f00e3c3e",
   "metadata": {},
   "outputs": [
    {
     "data": {
      "image/png": "[encoded data removed]",
      "text/plain": [
       "<Figure size 360x360 with 1 Axes>"
      ]
     },
     "metadata": {
      "needs_background": "light"
     },
     "output_type": "display_data"
    },
    {
     "name": "stdout",
     "output_type": "stream",
     "text": [
      "Accuracy of logistic regression classifier: 0.82\n"
     ]
    }
   ],
   "source": [
    "# Create a confusion matrix\n",
    "cm_rf= confusion_matrix(y_test, y_pred)\n",
    "\n",
    "fig, ax = plt.subplots(figsize=(5, 5))\n",
    "ax.matshow(cm_rf, cmap=plt.cm.Oranges, alpha=0.3)\n",
    "for i in range(cm_rf.shape[0]):\n",
    "    for j in range(cm_rf.shape[1]):\n",
    "        ax.text(x=j, y=i,s=cm_rf[i, j], va='center', ha='center', size='xx-large')\n",
    " \n",
    "plt.xlabel('Predictions', fontsize=18)\n",
    "plt.ylabel('Actuals', fontsize=18)\n",
    "plt.title('Confusion Matrix', fontsize=18)\n",
    "plt.show()\n",
    "\n",
    "# Let's check the overall accuracy.\n",
    "accuracy_rf = accuracy_score(y_pred,y_test)\n",
    "print('Accuracy of logistic regression classifier: {:.2f}'.format(accuracy_rf))"
   ]
  },
  {
   "cell_type": "code",
   "execution_count": 60,
   "id": "bd9b1897",
   "metadata": {},
   "outputs": [
    {
     "name": "stdout",
     "output_type": "stream",
     "text": [
      "Precision: 0.63\n",
      "Recall: 0.37\n",
      "F1 Score: 0.46\n",
      "Sensitivity : 0.94\n",
      "Specificity : 0.37\n"
     ]
    }
   ],
   "source": [
    "# Let's calculate Sensitivity, Specificity, Recall, Precision and F1-Score\n",
    "\n",
    "print('Precision: %.2f' % precision_score(y_test, y_pred))\n",
    "print('Recall: %.2f' % recall_score(y_test, y_pred))\n",
    "\n",
    "print('F1 Score: %.2f' % f1_score(y_test, y_pred))\n",
    "\n",
    "sensitivity = cm_rf[0,0]/(cm_rf[0,0]+cm_rf[0,1])\n",
    "print('Sensitivity : {:.2f}'.format(sensitivity))\n",
    "\n",
    "specificity = cm_rf[1,1]/(cm_rf[1,0]+cm_rf[1,1])\n",
    "print('Specificity : {:.2f}'.format(specificity))"
   ]
  },
  {
   "cell_type": "code",
   "execution_count": 61,
   "id": "078db15a",
   "metadata": {},
   "outputs": [
    {
     "name": "stdout",
     "output_type": "stream",
     "text": [
      "              precision    recall  f1-score   support\n",
      "\n",
      "           0       0.94      0.84      0.89      7865\n",
      "           1       0.37      0.63      0.46      1135\n",
      "\n",
      "    accuracy                           0.82      9000\n",
      "   macro avg       0.65      0.74      0.68      9000\n",
      "weighted avg       0.87      0.82      0.84      9000\n",
      "\n"
     ]
    }
   ],
   "source": [
    "clf_report_rf = classification_report(y_pred,y_test)\n",
    "print(clf_report_rf)"
   ]
  },
  {
   "cell_type": "code",
   "execution_count": 62,
   "id": "72044805",
   "metadata": {},
   "outputs": [
    {
     "name": "stdout",
     "output_type": "stream",
     "text": [
      "     Features  Importance\n",
      "3       PAY_0    0.099032\n",
      "9   BILL_AMT1    0.081972\n",
      "2         AGE    0.079211\n",
      "0   LIMIT_BAL    0.071295\n",
      "10  BILL_AMT6    0.070432\n",
      "11   PAY_AMT1    0.066796\n",
      "12   PAY_AMT2    0.063576\n",
      "13   PAY_AMT3    0.060648\n",
      "16   PAY_AMT6    0.059828\n",
      "14   PAY_AMT4    0.057376\n"
     ]
    },
    {
     "data": {
      "image/png": "[encoded data removed]",
      "text/plain": [
       "<Figure size 504x504 with 1 Axes>"
      ]
     },
     "metadata": {
      "needs_background": "light"
     },
     "output_type": "display_data"
    }
   ],
   "source": [
    "# Summarize feature importance scores\n",
    "feature_imp = pd.DataFrame({'Features':X.columns, 'Importance':np.abs(rf_clf.feature_importances_).ravel() })\n",
    "\n",
    "feature_imp = feature_imp.sort_values(by = 'Importance', ascending=False)\n",
    "\n",
    "# list top 10 important features\n",
    "feature_imp = feature_imp[:10]\n",
    "\n",
    "# display the scores of top 10\n",
    "print(feature_imp)\n",
    "\n",
    "# plot feature importance\n",
    "plt.figure(figsize = (7, 7))\n",
    "sns.barplot(y='Features',x='Importance',data=feature_imp)\n",
    "\n",
    "# Add labels to your graph\n",
    "plt.xlabel('Feature Importance Score')\n",
    "plt.ylabel('Features')\n",
    "plt.title(\"Visualizing Top 10 Important Features\")\n",
    "plt.show()"
   ]
  },
  {
   "cell_type": "markdown",
   "id": "b528acc4",
   "metadata": {},
   "source": [
    ">- from the above feature importance graph we can say that the most important feature that make an impact on dependt variable are PAY_0, BILL_AMT1 and AGE."
   ]
  },
  {
   "cell_type": "markdown",
   "id": "79a66fef",
   "metadata": {},
   "source": [
    "### Now let’s check the accuracy with GridSearchCV and RandomSearchCV."
   ]
  },
  {
   "cell_type": "markdown",
   "id": "c26755a0",
   "metadata": {},
   "source": [
    "## <font color='blue'> With GridSearchCV </font>"
   ]
  },
  {
   "cell_type": "code",
   "execution_count": 63,
   "id": "f58a2e01",
   "metadata": {},
   "outputs": [],
   "source": [
    "#set the parmeter\n",
    "param_grid = [{'max_depth': list(range(10, 15)), 'max_features': list(range(0,14))}]"
   ]
  },
  {
   "cell_type": "code",
   "execution_count": 64,
   "id": "1e2899ac",
   "metadata": {},
   "outputs": [
    {
     "name": "stdout",
     "output_type": "stream",
     "text": [
      "Fitting 3 folds for each of 70 candidates, totalling 210 fits\n"
     ]
    },
    {
     "data": {
      "text/plain": [
       "GridSearchCV(cv=3, estimator=RandomForestClassifier(), n_jobs=-1,\n",
       "             param_grid=[{'max_depth': [10, 11, 12, 13, 14],\n",
       "                          'max_features': [0, 1, 2, 3, 4, 5, 6, 7, 8, 9, 10, 11,\n",
       "                                           12, 13]}],\n",
       "             scoring='accuracy', verbose=3)"
      ]
     },
     "execution_count": 64,
     "metadata": {},
     "output_type": "execute_result"
    }
   ],
   "source": [
    "# fit the parameter\n",
    "grid_rf_clf = GridSearchCV(RandomForestClassifier(), param_grid, scoring = 'accuracy', n_jobs = -1, verbose = 3, cv = 3)\n",
    "grid_rf_clf.fit(X_train, y_train)"
   ]
  },
  {
   "cell_type": "code",
   "execution_count": 65,
   "id": "bcc593d6",
   "metadata": {},
   "outputs": [
    {
     "data": {
      "text/plain": [
       "RandomForestClassifier(max_depth=12, max_features=9)"
      ]
     },
     "execution_count": 65,
     "metadata": {},
     "output_type": "execute_result"
    }
   ],
   "source": [
    "# Finding the best parameters\n",
    "rf_df = grid_rf_clf.best_estimator_\n",
    "rf_df"
   ]
  },
  {
   "cell_type": "code",
   "execution_count": 66,
   "id": "dff1836f",
   "metadata": {},
   "outputs": [],
   "source": [
    "# Get the predicted class\n",
    "y_pred = rf_df.predict(X_test)"
   ]
  },
  {
   "cell_type": "code",
   "execution_count": 67,
   "id": "afc5a388",
   "metadata": {},
   "outputs": [
    {
     "data": {
      "image/png": "[encoded data removed]",
      "text/plain": [
       "<Figure size 360x360 with 1 Axes>"
      ]
     },
     "metadata": {
      "needs_background": "light"
     },
     "output_type": "display_data"
    },
    {
     "name": "stdout",
     "output_type": "stream",
     "text": [
      "Accuracy of logistic regression classifier on test set: 0.82\n"
     ]
    }
   ],
   "source": [
    "conf_rf= confusion_matrix(y_test, y_pred)\n",
    "fig, ax = plt.subplots(figsize=(5, 5))\n",
    "ax.matshow(conf_rf, cmap=plt.cm.Oranges, alpha=0.3)\n",
    "for i in range(conf_rf.shape[0]):\n",
    "    for j in range(conf_rf.shape[1]):\n",
    "        ax.text(x=j, y=i,s=conf_rf[i, j], va='center', ha='center', size='xx-large')\n",
    " \n",
    "plt.xlabel('Predictions', fontsize=18)\n",
    "plt.ylabel('Actuals', fontsize=18)\n",
    "plt.title('Confusion Matrix', fontsize=18)\n",
    "plt.show()\n",
    "\n",
    "accuracy_rf = accuracy_score(y_pred,y_test)\n",
    "print('Accuracy of logistic regression classifier on test set: {:.2f}'.format(accuracy_rf))"
   ]
  },
  {
   "cell_type": "code",
   "execution_count": 68,
   "id": "3869c181",
   "metadata": {},
   "outputs": [
    {
     "name": "stdout",
     "output_type": "stream",
     "text": [
      "Precision: 0.66\n",
      "Recall: 0.36\n",
      "F1 Score: 0.47\n",
      "Sensitivity : 0.95\n",
      "Specificity : 0.36\n"
     ]
    }
   ],
   "source": [
    "# Let's calculate Sensitivity, Specificity, Recall, Precision and F1-Score\n",
    "\n",
    "print('Precision: %.2f' % precision_score(y_test, y_pred))\n",
    "print('Recall: %.2f' % recall_score(y_test, y_pred))\n",
    "\n",
    "print('F1 Score: %.2f' % f1_score(y_test, y_pred))\n",
    "\n",
    "sensitivity = conf_rf[0,0]/(conf_rf[0,0]+conf_rf[0,1])\n",
    "print('Sensitivity : {:.2f}'.format(sensitivity))\n",
    "\n",
    "specificity = conf_rf[1,1]/(conf_rf[1,0]+conf_rf[1,1])\n",
    "print('Specificity : {:.2f}'.format(specificity))"
   ]
  },
  {
   "cell_type": "code",
   "execution_count": 69,
   "id": "3e611154",
   "metadata": {},
   "outputs": [
    {
     "name": "stdout",
     "output_type": "stream",
     "text": [
      "              precision    recall  f1-score   support\n",
      "\n",
      "           0       0.95      0.84      0.89      7932\n",
      "           1       0.36      0.66      0.47      1068\n",
      "\n",
      "    accuracy                           0.82      9000\n",
      "   macro avg       0.65      0.75      0.68      9000\n",
      "weighted avg       0.88      0.82      0.84      9000\n",
      "\n"
     ]
    }
   ],
   "source": [
    "clf_report_rf = classification_report(y_pred,y_test)\n",
    "print(clf_report_rf)"
   ]
  },
  {
   "cell_type": "code",
   "execution_count": 70,
   "id": "9e2f6bdf",
   "metadata": {},
   "outputs": [
    {
     "name": "stdout",
     "output_type": "stream",
     "text": [
      "     Features  Importance\n",
      "3       PAY_0    0.230180\n",
      "4       PAY_2    0.081711\n",
      "9   BILL_AMT1    0.069633\n",
      "5       PAY_3    0.057331\n",
      "11   PAY_AMT1    0.053430\n",
      "10  BILL_AMT6    0.052886\n",
      "0   LIMIT_BAL    0.050520\n",
      "2         AGE    0.050315\n",
      "13   PAY_AMT3    0.046705\n",
      "12   PAY_AMT2    0.046278\n"
     ]
    },
    {
     "data": {
      "image/png": "[encoded data removed]",
      "text/plain": [
       "<Figure size 504x504 with 1 Axes>"
      ]
     },
     "metadata": {
      "needs_background": "light"
     },
     "output_type": "display_data"
    }
   ],
   "source": [
    "# Summarize feature importance scores\n",
    "feature_imp = pd.DataFrame({'Features':X.columns, 'Importance':np.abs(rf_df.feature_importances_).ravel() })\n",
    "\n",
    "feature_imp = feature_imp.sort_values(by = 'Importance', ascending=False)\n",
    "\n",
    "# list top 10 important features\n",
    "feature_imp = feature_imp[:10]\n",
    "\n",
    "# display the scores of top 10\n",
    "print(feature_imp)\n",
    "\n",
    "# plot feature importance\n",
    "plt.figure(figsize = (7, 7))\n",
    "sns.barplot(y='Features',x='Importance',data=feature_imp)\n",
    "\n",
    "# Add labels to your graph\n",
    "plt.xlabel('Feature Importance Score')\n",
    "plt.ylabel('Features')\n",
    "plt.title(\"Visualizing Top 10 Important Features\")\n",
    "plt.show()"
   ]
  },
  {
   "cell_type": "markdown",
   "id": "6d95b28d",
   "metadata": {},
   "source": [
    ">- from the above feature importance graph we can say that the most important feature that make an impact on dependt variable are PAY_0,PAY_2."
   ]
  },
  {
   "cell_type": "markdown",
   "id": "2356f74a",
   "metadata": {},
   "source": [
    "## <font color='blue'> With RandomizedSearchCV </font>"
   ]
  },
  {
   "cell_type": "code",
   "execution_count": 71,
   "id": "417e3a35",
   "metadata": {},
   "outputs": [],
   "source": [
    "from sklearn.model_selection import RandomizedSearchCV\n",
    "\n",
    "# set the parameter\n",
    "forest_params = [{'max_depth': list(range(10, 25)), 'max_features': list(range(0,15))}]"
   ]
  },
  {
   "cell_type": "code",
   "execution_count": 72,
   "id": "4132146c",
   "metadata": {},
   "outputs": [
    {
     "data": {
      "text/plain": [
       "RandomizedSearchCV(cv=10, estimator=RandomForestClassifier(),\n",
       "                   param_distributions=[{'max_depth': [10, 11, 12, 13, 14, 15,\n",
       "                                                       16, 17, 18, 19, 20, 21,\n",
       "                                                       22, 23, 24],\n",
       "                                         'max_features': [0, 1, 2, 3, 4, 5, 6,\n",
       "                                                          7, 8, 9, 10, 11, 12,\n",
       "                                                          13, 14]}],\n",
       "                   scoring='accuracy')"
      ]
     },
     "execution_count": 72,
     "metadata": {},
     "output_type": "execute_result"
    }
   ],
   "source": [
    "rf_RandomGrid = RandomizedSearchCV(RandomForestClassifier(), forest_params, cv = 10, scoring='accuracy')\n",
    "rf_RandomGrid.fit(X_train,y_train)"
   ]
  },
  {
   "cell_type": "code",
   "execution_count": 73,
   "id": "0e083cf0",
   "metadata": {},
   "outputs": [
    {
     "data": {
      "text/plain": [
       "RandomForestClassifier(max_depth=24, max_features=5)"
      ]
     },
     "execution_count": 73,
     "metadata": {},
     "output_type": "execute_result"
    }
   ],
   "source": [
    "# Finding the best parameters\n",
    "rf_random = rf_RandomGrid.best_estimator_\n",
    "rf_random"
   ]
  },
  {
   "cell_type": "code",
   "execution_count": 74,
   "id": "40fc9534",
   "metadata": {},
   "outputs": [],
   "source": [
    "# Get the predicted class\n",
    "y_pred = rf_random.predict(X_test)"
   ]
  },
  {
   "cell_type": "code",
   "execution_count": 75,
   "id": "2fc5de6a",
   "metadata": {},
   "outputs": [
    {
     "data": {
      "image/png": "[encoded data removed]",
      "text/plain": [
       "<Figure size 360x360 with 1 Axes>"
      ]
     },
     "metadata": {
      "needs_background": "light"
     },
     "output_type": "display_data"
    },
    {
     "name": "stdout",
     "output_type": "stream",
     "text": [
      "Accuracy of logistic regression classifier on test set: 0.81\n"
     ]
    }
   ],
   "source": [
    "# build the confusion matrix\n",
    "conf_rf= confusion_matrix(y_test, y_pred)\n",
    "fig, ax = plt.subplots(figsize=(5, 5))\n",
    "ax.matshow(conf_rf, cmap=plt.cm.Oranges, alpha=0.3)\n",
    "for i in range(conf_rf.shape[0]):\n",
    "    for j in range(conf_rf.shape[1]):\n",
    "        ax.text(x=j, y=i,s=conf_rf[i, j], va='center', ha='center', size='xx-large')\n",
    " \n",
    "plt.xlabel('Predictions', fontsize=18)\n",
    "plt.ylabel('Actuals', fontsize=18)\n",
    "plt.title('Confusion Matrix', fontsize=18)\n",
    "plt.show()\n",
    "\n",
    "accuracy_rf = accuracy_score(y_pred,y_test)\n",
    "print('Accuracy of logistic regression classifier on test set: {:.2f}'.format(accuracy_rf))"
   ]
  },
  {
   "cell_type": "code",
   "execution_count": 76,
   "id": "eb9ba92c",
   "metadata": {},
   "outputs": [
    {
     "name": "stdout",
     "output_type": "stream",
     "text": [
      "Precision: 0.63\n",
      "Recall: 0.36\n",
      "F1 Score: 0.46\n",
      "Sensitivity : 0.94\n",
      "Specificity : 0.36\n"
     ]
    }
   ],
   "source": [
    "# Let's calculate Sensitivity, Specificity, Recall, Precision and F1-Score\n",
    "\n",
    "print('Precision: %.2f' % precision_score(y_test, y_pred))\n",
    "print('Recall: %.2f' % recall_score(y_test, y_pred))\n",
    "\n",
    "print('F1 Score: %.2f' % f1_score(y_test, y_pred))\n",
    "\n",
    "sensitivity = conf_rf[0,0]/(conf_rf[0,0]+conf_rf[0,1])\n",
    "print('Sensitivity : {:.2f}'.format(sensitivity))\n",
    "\n",
    "specificity = conf_rf[1,1]/(conf_rf[1,0]+conf_rf[1,1])\n",
    "print('Specificity : {:.2f}'.format(specificity))"
   ]
  },
  {
   "cell_type": "code",
   "execution_count": 77,
   "id": "9e76de03",
   "metadata": {},
   "outputs": [
    {
     "name": "stdout",
     "output_type": "stream",
     "text": [
      "              precision    recall  f1-score   support\n",
      "\n",
      "           0       0.94      0.84      0.89      7888\n",
      "           1       0.36      0.63      0.46      1112\n",
      "\n",
      "    accuracy                           0.81      9000\n",
      "   macro avg       0.65      0.74      0.67      9000\n",
      "weighted avg       0.87      0.81      0.83      9000\n",
      "\n"
     ]
    }
   ],
   "source": [
    "clf_report_rf = classification_report(y_pred,y_test)\n",
    "print(clf_report_rf)"
   ]
  },
  {
   "cell_type": "code",
   "execution_count": 78,
   "id": "ba51a217",
   "metadata": {},
   "outputs": [
    {
     "name": "stdout",
     "output_type": "stream",
     "text": [
      "     Features  Importance\n",
      "3       PAY_0    0.114525\n",
      "9   BILL_AMT1    0.083682\n",
      "2         AGE    0.073892\n",
      "10  BILL_AMT6    0.070713\n",
      "11   PAY_AMT1    0.067180\n",
      "0   LIMIT_BAL    0.065328\n",
      "12   PAY_AMT2    0.062224\n",
      "13   PAY_AMT3    0.060322\n",
      "16   PAY_AMT6    0.058735\n",
      "14   PAY_AMT4    0.057578\n"
     ]
    },
    {
     "data": {
      "image/png": "[encoded data removed]",
      "text/plain": [
       "<Figure size 504x504 with 1 Axes>"
      ]
     },
     "metadata": {
      "needs_background": "light"
     },
     "output_type": "display_data"
    }
   ],
   "source": [
    "# Summarize feature importance scores\n",
    "feature_imp = pd.DataFrame({'Features':X.columns, 'Importance':np.abs(rf_random.feature_importances_).ravel() })\n",
    "\n",
    "feature_imp = feature_imp.sort_values(by = 'Importance', ascending=False)\n",
    "\n",
    "# list top 10 important features\n",
    "feature_imp = feature_imp[:10]\n",
    "\n",
    "# display the scores of top 10\n",
    "print(feature_imp)\n",
    "\n",
    "# plot feature importance\n",
    "plt.figure(figsize = (7, 7))\n",
    "sns.barplot(y='Features',x='Importance',data=feature_imp)\n",
    "\n",
    "# Add labels to your graph\n",
    "plt.xlabel('Feature Importance Score')\n",
    "plt.ylabel('Features')\n",
    "plt.title(\"Visualizing Top 10 Important Features\")\n",
    "plt.show()"
   ]
  },
  {
   "cell_type": "markdown",
   "id": "cf7bad78",
   "metadata": {},
   "source": [
    "###  We implemented the Random Forest algorithm without hyperparameter tuning and got the lowest accuracy of 82 %. \n",
    "### And then we implemented GridSearchCV and RandomSearchCV and checked the accuracy score with both techniques. The accuracy is almost the same in both cases."
   ]
  },
  {
   "cell_type": "markdown",
   "id": "1b1832d3",
   "metadata": {},
   "source": [
    "# **Implementing XGBoost** "
   ]
  },
  {
   "cell_type": "code",
   "execution_count": 79,
   "id": "22a6709d",
   "metadata": {},
   "outputs": [],
   "source": [
    "from xgboost import XGBClassifier"
   ]
  },
  {
   "cell_type": "code",
   "execution_count": 80,
   "id": "bb2d12a1",
   "metadata": {},
   "outputs": [
    {
     "data": {
      "text/plain": [
       "XGBClassifier(base_score=0.5, booster='gbtree', callbacks=None,\n",
       "              colsample_bylevel=1, colsample_bynode=1, colsample_bytree=1,\n",
       "              early_stopping_rounds=None, enable_categorical=False,\n",
       "              eval_metric='mlogloss', gamma=0, gpu_id=-1,\n",
       "              grow_policy='depthwise', importance_type=None,\n",
       "              interaction_constraints='', learning_rate=0.300000012,\n",
       "              max_bin=256, max_cat_to_onehot=4, max_delta_step=0, max_depth=6,\n",
       "              max_leaves=0, min_child_weight=1, missing=nan,\n",
       "              monotone_constraints='()', n_estimators=100, n_jobs=0,\n",
       "              num_parallel_tree=1, predictor='auto', random_state=0,\n",
       "              reg_alpha=0, reg_lambda=1, ...)"
      ]
     },
     "execution_count": 80,
     "metadata": {},
     "output_type": "execute_result"
    }
   ],
   "source": [
    "# build the model\n",
    "model = XGBClassifier(use_label_encoder=False, eval_metric='mlogloss')\n",
    "\n",
    "# fit the model\n",
    "model.fit(X_train, y_train)"
   ]
  },
  {
   "cell_type": "code",
   "execution_count": 81,
   "id": "b7b2c786",
   "metadata": {},
   "outputs": [],
   "source": [
    "# predict the model\n",
    "y_pred = model.predict(X_test)"
   ]
  },
  {
   "cell_type": "code",
   "execution_count": 82,
   "id": "178f9bac",
   "metadata": {},
   "outputs": [
    {
     "data": {
      "image/png": "[encoded data removed]",
      "text/plain": [
       "<Figure size 360x360 with 1 Axes>"
      ]
     },
     "metadata": {
      "needs_background": "light"
     },
     "output_type": "display_data"
    },
    {
     "name": "stdout",
     "output_type": "stream",
     "text": [
      "Accuracy of logistic regression classifier on test set: 0.81\n"
     ]
    }
   ],
   "source": [
    "# build the confusion matrix\n",
    "conf_xgb= confusion_matrix(y_test, y_pred)\n",
    "fig, ax = plt.subplots(figsize=(5, 5))\n",
    "ax.matshow(conf_xgb, cmap=plt.cm.Oranges, alpha=0.3)\n",
    "for i in range(conf_xgb.shape[0]):\n",
    "    for j in range(conf_xgb.shape[1]):\n",
    "        ax.text(x=j, y=i,s=conf_xgb[i, j], va='center', ha='center', size='xx-large')\n",
    " \n",
    "plt.xlabel('Predictions', fontsize=18)\n",
    "plt.ylabel('Actuals', fontsize=18)\n",
    "plt.title('Confusion Matrix', fontsize=18)\n",
    "plt.show()\n",
    "\n",
    "accuracy_xgb = accuracy_score(y_pred,y_test)\n",
    "print('Accuracy of logistic regression classifier on test set: {:.2f}'.format(accuracy_xgb))"
   ]
  },
  {
   "cell_type": "code",
   "execution_count": 83,
   "id": "fad0aade",
   "metadata": {},
   "outputs": [
    {
     "name": "stdout",
     "output_type": "stream",
     "text": [
      "Precision: 0.62\n",
      "Recall: 0.36\n",
      "F1 Score: 0.45\n",
      "Sensitivity : 0.94\n",
      "Specificity : 0.36\n"
     ]
    }
   ],
   "source": [
    "# Let's calculate Sensitivity, Specificity, Recall, Precision and F1-Score\n",
    "\n",
    "print('Precision: %.2f' % precision_score(y_test, y_pred))\n",
    "print('Recall: %.2f' % recall_score(y_test, y_pred))\n",
    "\n",
    "print('F1 Score: %.2f' % f1_score(y_test, y_pred))\n",
    "\n",
    "sensitivity = conf_xgb[0,0]/(conf_xgb[0,0]+conf_xgb[0,1])\n",
    "print('Sensitivity : {:.2f}'.format(sensitivity))\n",
    "\n",
    "specificity = conf_xgb[1,1]/(conf_xgb[1,0]+conf_xgb[1,1])\n",
    "print('Specificity : {:.2f}'.format(specificity))"
   ]
  },
  {
   "cell_type": "code",
   "execution_count": 84,
   "id": "b4d5181d",
   "metadata": {},
   "outputs": [
    {
     "name": "stdout",
     "output_type": "stream",
     "text": [
      "              precision    recall  f1-score   support\n",
      "\n",
      "           0       0.94      0.84      0.89      7864\n",
      "           1       0.36      0.62      0.45      1136\n",
      "\n",
      "    accuracy                           0.81      9000\n",
      "   macro avg       0.65      0.73      0.67      9000\n",
      "weighted avg       0.86      0.81      0.83      9000\n",
      "\n"
     ]
    }
   ],
   "source": [
    "clf_report_xgb = classification_report(y_pred,y_test)\n",
    "print(clf_report_xgb)"
   ]
  },
  {
   "cell_type": "code",
   "execution_count": 85,
   "id": "dda61de5",
   "metadata": {},
   "outputs": [
    {
     "name": "stdout",
     "output_type": "stream",
     "text": [
      "PAY_0        0.341125\n",
      "PAY_2        0.124462\n",
      "PAY_3        0.047448\n",
      "PAY_4        0.046629\n",
      "EDU_0        0.033148\n",
      "PAY_6        0.030779\n",
      "MAR_2        0.030584\n",
      "PAY_5        0.026712\n",
      "PAY_AMT3     0.024029\n",
      "BILL_AMT1    0.022353\n",
      "dtype: float32\n"
     ]
    },
    {
     "data": {
      "image/png": "[encoded data removed]",
      "text/plain": [
       "<Figure size 504x504 with 1 Axes>"
      ]
     },
     "metadata": {
      "needs_background": "light"
     },
     "output_type": "display_data"
    }
   ],
   "source": [
    "# Feature Importance\n",
    "feature_importances_xgb = pd.Series(model.feature_importances_,\n",
    "                                    index = list(X.columns)).sort_values(ascending=False)\n",
    "\n",
    "# list top 10 important features\n",
    "feature_importances_xgb = feature_importances_xgb[:10]\n",
    "\n",
    "# display the scores of top 10\n",
    "print(feature_importances_xgb)\n",
    "\n",
    "# plot feature importance\n",
    "plt.figure(figsize = (7, 7))\n",
    "sns.barplot(x=feature_importances_xgb[:10], y=feature_importances_xgb.index[:10])\n",
    "\n",
    "# Add labels to your graph\n",
    "plt.xlabel('Feature Importance Score')\n",
    "plt.ylabel('Features')\n",
    "plt.title(\"Visualizing Top 10 Important Features\")\n",
    "plt.show()"
   ]
  },
  {
   "cell_type": "markdown",
   "id": "fe6f3d28",
   "metadata": {},
   "source": [
    ">- from the above feature importance graph we can say that the most important feature that make an impact on dependt variable are PAY_0 and PAY_2."
   ]
  },
  {
   "cell_type": "markdown",
   "id": "d0eaaf6d",
   "metadata": {},
   "source": [
    "# SMOTE for Balancing Data"
   ]
  },
  {
   "cell_type": "code",
   "execution_count": 86,
   "id": "fa800cee",
   "metadata": {},
   "outputs": [],
   "source": [
    "#!pip install imblearn"
   ]
  },
  {
   "cell_type": "code",
   "execution_count": 87,
   "id": "145653d7",
   "metadata": {},
   "outputs": [
    {
     "name": "stdout",
     "output_type": "stream",
     "text": [
      "Before Counter({0: 16324, 1: 4676})\n",
      "After Counter({1: 16324, 0: 16324})\n"
     ]
    }
   ],
   "source": [
    "#import the module \n",
    "from imblearn.over_sampling import SMOTE\n",
    "from collections import Counter\n",
    "\n",
    "counter  = Counter(y_train)\n",
    "print('Before',counter)\n",
    "\n",
    "# oversampling the train dataset using SMOTE\n",
    "smt = SMOTE()\n",
    "\n",
    "# fit with resample for Xtrain and ytrain \n",
    "X_train_sm, y_train_sm = smt.fit_resample(X_train,y_train)\n",
    "\n",
    "counter = Counter(y_train_sm)\n",
    "print('After',counter)"
   ]
  },
  {
   "cell_type": "markdown",
   "id": "8da133c1",
   "metadata": {},
   "source": [
    "## <font color='red'>Logistic Regression Model after SMOTE</font>"
   ]
  },
  {
   "cell_type": "code",
   "execution_count": 88,
   "id": "0f796e5a",
   "metadata": {},
   "outputs": [
    {
     "data": {
      "text/plain": [
       "LogisticRegression()"
      ]
     },
     "execution_count": 88,
     "metadata": {},
     "output_type": "execute_result"
    }
   ],
   "source": [
    "# build the model\n",
    "logreg = LogisticRegression()\n",
    "# fit the model\n",
    "logreg.fit(X_train_sm,y_train_sm)"
   ]
  },
  {
   "cell_type": "code",
   "execution_count": 89,
   "id": "d22f39d4",
   "metadata": {},
   "outputs": [],
   "source": [
    "#predict the model\n",
    "y_pred = logreg.predict(X_test)"
   ]
  },
  {
   "cell_type": "code",
   "execution_count": 90,
   "id": "7eb1719f",
   "metadata": {},
   "outputs": [
    {
     "data": {
      "image/png": "[encoded data removed]",
      "text/plain": [
       "<Figure size 360x360 with 1 Axes>"
      ]
     },
     "metadata": {
      "needs_background": "light"
     },
     "output_type": "display_data"
    },
    {
     "name": "stdout",
     "output_type": "stream",
     "text": [
      "Accuracy of logistic regression classifier on test set: 0.68\n"
     ]
    }
   ],
   "source": [
    "# Create cinnfusion matrix\n",
    "cm = confusion_matrix(y_pred,y_test)\n",
    "fig, ax = plt.subplots(figsize=(5, 5))\n",
    "ax.matshow(cm, cmap=plt.cm.Oranges, alpha=0.3)\n",
    "for i in range(cm.shape[0]):\n",
    "    for j in range(cm.shape[1]):\n",
    "        ax.text(x=j, y=i,s=cm[i, j], va='center', ha='center', size='xx-large')\n",
    " \n",
    "plt.xlabel('Predictions', fontsize=18)\n",
    "plt.ylabel('Actuals', fontsize=18)\n",
    "plt.title('Confusion Matrix', fontsize=18)\n",
    "plt.show()\n",
    "\n",
    "accuracy_lr_sm= accuracy_score(y_pred,y_test)\n",
    "print('Accuracy of logistic regression classifier on test set: {:.2f}'.format(accuracy_lr_sm))\n"
   ]
  },
  {
   "cell_type": "code",
   "execution_count": 91,
   "id": "36de0e89",
   "metadata": {},
   "outputs": [
    {
     "name": "stdout",
     "output_type": "stream",
     "text": [
      "Precision: 0.37\n",
      "Recall: 0.66\n",
      "F1 Score: 0.47\n",
      "Sensitivity : 0.88\n",
      "Specificity : 0.37\n"
     ]
    }
   ],
   "source": [
    "# Let's calculate Sensitivity, Specificity, Recall, Precision and F1-Score\n",
    "\n",
    "print('Precision: %.2f' % precision_score(y_test, y_pred))\n",
    "print('Recall: %.2f' % recall_score(y_test, y_pred))\n",
    "\n",
    "print('F1 Score: %.2f' % f1_score(y_test, y_pred))\n",
    "\n",
    "sensitivity = cm[0,0]/(cm[0,0]+cm[0,1])\n",
    "print('Sensitivity : {:.2f}'.format(sensitivity))\n",
    "\n",
    "specificity = cm[1,1]/(cm[1,0]+cm[1,1])\n",
    "print('Specificity : {:.2f}'.format(specificity))"
   ]
  },
  {
   "cell_type": "code",
   "execution_count": 92,
   "id": "ced1f298",
   "metadata": {},
   "outputs": [
    {
     "name": "stdout",
     "output_type": "stream",
     "text": [
      "     Features  Importance\n",
      "3       PAY_0    0.573956\n",
      "12   PAY_AMT2    0.344924\n",
      "9   BILL_AMT1    0.240791\n",
      "11   PAY_AMT1    0.171896\n",
      "0   LIMIT_BAL    0.156956\n",
      "10  BILL_AMT6    0.145841\n",
      "4       PAY_2    0.127121\n",
      "17      EDU_0    0.118282\n",
      "13   PAY_AMT3    0.116863\n",
      "15   PAY_AMT5    0.083227\n"
     ]
    },
    {
     "data": {
      "image/png": "[encoded data removed]",
      "text/plain": [
       "<Figure size 504x504 with 1 Axes>"
      ]
     },
     "metadata": {
      "needs_background": "light"
     },
     "output_type": "display_data"
    }
   ],
   "source": [
    "# Summarize feature importance scores\n",
    "feature_imp = pd.DataFrame({'Features':X.columns, 'Importance':np.abs(logreg.coef_).ravel() })\n",
    "\n",
    "feature_imp = feature_imp.sort_values(by = 'Importance', ascending=False)\n",
    "\n",
    "# list top 10 important features\n",
    "feature_imp = feature_imp[:10]\n",
    "\n",
    "# display the scores of top 10\n",
    "print(feature_imp)\n",
    "\n",
    "# plot feature importance\n",
    "plt.figure(figsize = (7, 7))\n",
    "sns.barplot(y='Features',x='Importance',data=feature_imp)\n",
    "\n",
    "# Add labels to your graph\n",
    "plt.xlabel('Feature Importance Score')\n",
    "plt.ylabel('Features')\n",
    "plt.title(\"Visualizing Top 10 Important Features\")\n",
    "plt.show()"
   ]
  },
  {
   "cell_type": "markdown",
   "id": "219181f9",
   "metadata": {},
   "source": [
    ">- from the above feature importance graph we can say that the most important feature that make an impact on dependt variable are PAY_0, PAY_AMT2 and BILL_AMT1."
   ]
  },
  {
   "cell_type": "markdown",
   "id": "99c09159",
   "metadata": {},
   "source": [
    "## <font color='blue'> With GridSearchCV </font>"
   ]
  },
  {
   "cell_type": "code",
   "execution_count": 93,
   "id": "9065d5da",
   "metadata": {},
   "outputs": [],
   "source": [
    "#set the parmeter\n",
    "param_grid = {'penalty':['l1','l2'], 'C' : [0.001, 0.01, 0.1, 1, 10, 100, 1000] }"
   ]
  },
  {
   "cell_type": "code",
   "execution_count": 94,
   "id": "4a1c82ee",
   "metadata": {},
   "outputs": [
    {
     "name": "stdout",
     "output_type": "stream",
     "text": [
      "Fitting 3 folds for each of 14 candidates, totalling 42 fits\n"
     ]
    },
    {
     "data": {
      "text/plain": [
       "GridSearchCV(cv=3, estimator=LogisticRegression(), n_jobs=-1,\n",
       "             param_grid={'C': [0.001, 0.01, 0.1, 1, 10, 100, 1000],\n",
       "                         'penalty': ['l1', 'l2']},\n",
       "             scoring='accuracy', verbose=3)"
      ]
     },
     "execution_count": 94,
     "metadata": {},
     "output_type": "execute_result"
    }
   ],
   "source": [
    "#fit the parameter \n",
    "grid_lr_clf = GridSearchCV(LogisticRegression(), param_grid, scoring = 'accuracy', n_jobs = -1, verbose = 3, cv = 3)\n",
    "grid_lr_clf.fit(X_train_sm, y_train_sm)"
   ]
  },
  {
   "cell_type": "code",
   "execution_count": 95,
   "id": "e87d3b15",
   "metadata": {},
   "outputs": [
    {
     "data": {
      "text/plain": [
       "LogisticRegression(C=0.01)"
      ]
     },
     "execution_count": 95,
     "metadata": {},
     "output_type": "execute_result"
    }
   ],
   "source": [
    "# find the best parameter\n",
    "optimized_clf = grid_lr_clf.best_estimator_\n",
    "optimized_clf"
   ]
  },
  {
   "cell_type": "code",
   "execution_count": 96,
   "id": "bd708eec",
   "metadata": {},
   "outputs": [],
   "source": [
    "# Get the predicted class\n",
    "y_pred  = optimized_clf.predict(X_test)"
   ]
  },
  {
   "cell_type": "code",
   "execution_count": 97,
   "id": "f6ba7445",
   "metadata": {},
   "outputs": [
    {
     "data": {
      "image/png": "[encoded data removed]",
      "text/plain": [
       "<Figure size 360x360 with 1 Axes>"
      ]
     },
     "metadata": {
      "needs_background": "light"
     },
     "output_type": "display_data"
    },
    {
     "name": "stdout",
     "output_type": "stream",
     "text": [
      "Accuracy of logistic regression classifier on test set: 0.68\n"
     ]
    }
   ],
   "source": [
    "# Get the confusion matrix\n",
    "cm_lr_sm= confusion_matrix(y_test, y_pred)\n",
    "fig, ax = plt.subplots(figsize=(5, 5))\n",
    "ax.matshow(cm_lr_sm, cmap=plt.cm.Oranges, alpha=0.3)\n",
    "for i in range(cm_lr_sm.shape[0]):\n",
    "    for j in range(cm_lr_sm.shape[1]):\n",
    "        ax.text(x=j, y=i,s=cm_lr_sm[i, j], va='center', ha='center', size='xx-large')\n",
    " \n",
    "plt.xlabel('Predictions', fontsize=18)\n",
    "plt.ylabel('Actuals', fontsize=18)\n",
    "plt.title('Confusion Matrix', fontsize=18)\n",
    "plt.show()\n",
    "\n",
    "accuracy_lr_sm = accuracy_score(y_pred,y_test)\n",
    "print('Accuracy of logistic regression classifier on test set: {:.2f}'.format(accuracy_lr_sm))"
   ]
  },
  {
   "cell_type": "code",
   "execution_count": 98,
   "id": "e8aab311",
   "metadata": {},
   "outputs": [
    {
     "name": "stdout",
     "output_type": "stream",
     "text": [
      "Precision: 0.37\n",
      "Recall: 0.66\n",
      "F1 Score: 0.47\n",
      "Sensitivity : 0.69\n",
      "Specificity : 0.66\n"
     ]
    }
   ],
   "source": [
    "# Let's calculate Sensitivity, Specificity, Recall, Precision and F1-Score\n",
    "\n",
    "print('Precision: %.2f' % precision_score(y_test, y_pred))\n",
    "print('Recall: %.2f' % recall_score(y_test, y_pred))\n",
    "\n",
    "print('F1 Score: %.2f' % f1_score(y_test, y_pred))\n",
    "\n",
    "sensitivity = cm_lr_sm[0,0]/(cm_lr_sm[0,0]+cm_lr_sm[0,1])\n",
    "print('Sensitivity : {:.2f}'.format(sensitivity))\n",
    "\n",
    "specificity = cm_lr_sm[1,1]/(cm_lr_sm[1,0]+cm_lr_sm[1,1])\n",
    "print('Specificity : {:.2f}'.format(specificity))"
   ]
  },
  {
   "cell_type": "markdown",
   "id": "817c37f6",
   "metadata": {},
   "source": [
    "## <font color='blue'> With RandomizedSearchCV </font>"
   ]
  },
  {
   "cell_type": "code",
   "execution_count": 99,
   "id": "30041a90",
   "metadata": {},
   "outputs": [
    {
     "name": "stdout",
     "output_type": "stream",
     "text": [
      "Fitting 3 folds for each of 10 candidates, totalling 30 fits\n"
     ]
    },
    {
     "data": {
      "text/plain": [
       "RandomizedSearchCV(cv=3, estimator=LogisticRegression(), n_jobs=-1,\n",
       "                   param_distributions={'C': [0.001, 0.01, 0.1, 1, 10, 100,\n",
       "                                              1000],\n",
       "                                        'penalty': ['l1', 'l2']},\n",
       "                   scoring='accuracy', verbose=3)"
      ]
     },
     "execution_count": 99,
     "metadata": {},
     "output_type": "execute_result"
    }
   ],
   "source": [
    "#fit the parameter \n",
    "random_lr_clf = RandomizedSearchCV(LogisticRegression(), param_grid, scoring = 'accuracy', n_jobs = -1, verbose = 3, cv = 3)\n",
    "random_lr_clf.fit(X_train_sm, y_train_sm)"
   ]
  },
  {
   "cell_type": "code",
   "execution_count": 100,
   "id": "0d3f0f23",
   "metadata": {},
   "outputs": [
    {
     "data": {
      "text/plain": [
       "LogisticRegression(C=0.01)"
      ]
     },
     "execution_count": 100,
     "metadata": {},
     "output_type": "execute_result"
    }
   ],
   "source": [
    "# find the best parameter\n",
    "optimized_clf = random_lr_clf.best_estimator_\n",
    "optimized_clf"
   ]
  },
  {
   "cell_type": "code",
   "execution_count": 101,
   "id": "3060325b",
   "metadata": {},
   "outputs": [],
   "source": [
    "# Get the predicted class\n",
    "y_pred  = optimized_clf.predict(X_test)"
   ]
  },
  {
   "cell_type": "code",
   "execution_count": 102,
   "id": "66d2b131",
   "metadata": {},
   "outputs": [
    {
     "data": {
      "image/png": "[encoded data removed]",
      "text/plain": [
       "<Figure size 360x360 with 1 Axes>"
      ]
     },
     "metadata": {
      "needs_background": "light"
     },
     "output_type": "display_data"
    },
    {
     "name": "stdout",
     "output_type": "stream",
     "text": [
      "Accuracy of logistic regression classifier on test set: 0.68\n"
     ]
    }
   ],
   "source": [
    "# Get the confusion matrix\n",
    "cm_lr_sm= confusion_matrix(y_test, y_pred)\n",
    "fig, ax = plt.subplots(figsize=(5, 5))\n",
    "ax.matshow(cm_lr_sm, cmap=plt.cm.Oranges, alpha=0.3)\n",
    "for i in range(cm_lr_sm.shape[0]):\n",
    "    for j in range(cm_lr_sm.shape[1]):\n",
    "        ax.text(x=j, y=i,s=cm_lr_sm[i, j], va='center', ha='center', size='xx-large')\n",
    " \n",
    "plt.xlabel('Predictions', fontsize=18)\n",
    "plt.ylabel('Actuals', fontsize=18)\n",
    "plt.title('Confusion Matrix', fontsize=18)\n",
    "plt.show()\n",
    "\n",
    "accuracy_lr_sm = accuracy_score(y_pred,y_test)\n",
    "print('Accuracy of logistic regression classifier on test set: {:.2f}'.format(accuracy_lr_sm))"
   ]
  },
  {
   "cell_type": "code",
   "execution_count": 103,
   "id": "2d9b920f",
   "metadata": {},
   "outputs": [
    {
     "name": "stdout",
     "output_type": "stream",
     "text": [
      "Precision: 0.37\n",
      "Recall: 0.66\n",
      "F1 Score: 0.47\n",
      "Sensitivity : 0.69\n",
      "Specificity : 0.66\n"
     ]
    }
   ],
   "source": [
    "# Let's calculate Sensitivity, Specificity, Recall, Precision and F1-Score\n",
    "\n",
    "print('Precision: %.2f' % precision_score(y_test, y_pred))\n",
    "print('Recall: %.2f' % recall_score(y_test, y_pred))\n",
    "\n",
    "print('F1 Score: %.2f' % f1_score(y_test, y_pred))\n",
    "\n",
    "sensitivity = cm_lr_sm[0,0]/(cm_lr_sm[0,0]+cm_lr_sm[0,1])\n",
    "print('Sensitivity : {:.2f}'.format(sensitivity))\n",
    "\n",
    "specificity = cm_lr_sm[1,1]/(cm_lr_sm[1,0]+cm_lr_sm[1,1])\n",
    "print('Specificity : {:.2f}'.format(specificity))"
   ]
  },
  {
   "cell_type": "markdown",
   "id": "4fd5fc33",
   "metadata": {},
   "source": [
    "## <font color='red'>Random forest Model after SMOTE</font>"
   ]
  },
  {
   "cell_type": "code",
   "execution_count": 104,
   "id": "f65d36bb",
   "metadata": {},
   "outputs": [
    {
     "data": {
      "text/plain": [
       "RandomForestClassifier()"
      ]
     },
     "execution_count": 104,
     "metadata": {},
     "output_type": "execute_result"
    }
   ],
   "source": [
    "# build the model\n",
    "rfm = RandomForestClassifier()\n",
    "# fit the model\n",
    "rfm.fit(X_train_sm,y_train_sm)"
   ]
  },
  {
   "cell_type": "code",
   "execution_count": 105,
   "id": "48ae576c",
   "metadata": {},
   "outputs": [],
   "source": [
    "# get the predict class\n",
    "y_pred_rfm = rfm.predict(X_test)"
   ]
  },
  {
   "cell_type": "code",
   "execution_count": 106,
   "id": "214c7584",
   "metadata": {},
   "outputs": [
    {
     "data": {
      "image/png": "[encoded data removed]",
      "text/plain": [
       "<Figure size 360x360 with 1 Axes>"
      ]
     },
     "metadata": {
      "needs_background": "light"
     },
     "output_type": "display_data"
    },
    {
     "name": "stdout",
     "output_type": "stream",
     "text": [
      "Accuracy of logistic regression classifier on test set: 0.79\n"
     ]
    }
   ],
   "source": [
    "# get the confusion matrix\n",
    "rfm_cm = confusion_matrix(y_pred_rfm,y_test)\n",
    "fig, ax = plt.subplots(figsize=(5, 5))\n",
    "ax.matshow(rfm_cm, cmap=plt.cm.Oranges, alpha=0.3)\n",
    "for i in range(rfm_cm.shape[0]):\n",
    "    for j in range(rfm_cm.shape[1]):\n",
    "        ax.text(x=j, y=i,s=rfm_cm[i, j], va='center', ha='center', size='xx-large')\n",
    " \n",
    "plt.xlabel('Predictions', fontsize=18)\n",
    "plt.ylabel('Actuals', fontsize=18)\n",
    "plt.title('Confusion Matrix', fontsize=18)\n",
    "plt.show()\n",
    "\n",
    "accuracy_rfm = accuracy_score(y_pred_rfm,y_test)\n",
    "print('Accuracy of logistic regression classifier on test set: {:.2f}'.format(accuracy_rfm))"
   ]
  },
  {
   "cell_type": "code",
   "execution_count": 107,
   "id": "73651c19",
   "metadata": {},
   "outputs": [
    {
     "name": "stdout",
     "output_type": "stream",
     "text": [
      "Precision: 0.37\n",
      "Recall: 0.66\n",
      "F1 Score: 0.47\n",
      "Sensitivity : 0.86\n",
      "Specificity : 0.53\n"
     ]
    }
   ],
   "source": [
    "# Let's calculate Sensitivity, Specificity, Recall, Precision and F1-Score\n",
    "\n",
    "print('Precision: %.2f' % precision_score(y_test, y_pred))\n",
    "print('Recall: %.2f' % recall_score(y_test, y_pred))\n",
    "\n",
    "print('F1 Score: %.2f' % f1_score(y_test, y_pred))\n",
    "\n",
    "sensitivity = rfm_cm[0,0]/(rfm_cm[0,0]+rfm_cm[0,1])\n",
    "print('Sensitivity : {:.2f}'.format(sensitivity))\n",
    "\n",
    "specificity = rfm_cm[1,1]/(rfm_cm[1,0]+rfm_cm[1,1])\n",
    "print('Specificity : {:.2f}'.format(specificity))"
   ]
  },
  {
   "cell_type": "markdown",
   "id": "bf2ca8c6",
   "metadata": {},
   "source": [
    "### Now let’s check the accuracy with GridSearchCV and RandomSearchCV."
   ]
  },
  {
   "cell_type": "code",
   "execution_count": 108,
   "id": "da522c3d",
   "metadata": {},
   "outputs": [],
   "source": [
    "# Number of trees in random forest\n",
    "n_estimators = [int(x) for x in np.linspace(start = 10, stop = 80, num = 10)]\n",
    "# Number of features to consider at every split\n",
    "max_features = ['auto', 'sqrt']\n",
    "# Maximum number of levels in tree\n",
    "max_depth = [2,4]\n",
    "# Minimum number of samples required to split a node\n",
    "min_samples_split = [2, 5]\n",
    "# Minimum number of samples required at each leaf node\n",
    "min_samples_leaf = [1, 2]\n",
    "# Method of selecting samples for training each tree\n",
    "bootstrap = [True, False]"
   ]
  },
  {
   "cell_type": "code",
   "execution_count": 109,
   "id": "c2d293a2",
   "metadata": {},
   "outputs": [
    {
     "name": "stdout",
     "output_type": "stream",
     "text": [
      "{'n_estimators': [10, 17, 25, 33, 41, 48, 56, 64, 72, 80], 'max_features': ['auto', 'sqrt'], 'max_depth': [2, 4], 'min_samples_split': [2, 5], 'min_samples_leaf': [1, 2], 'bootstrap': [True, False]}\n"
     ]
    }
   ],
   "source": [
    "# Create the param grid\n",
    "param_grid = {'n_estimators': n_estimators,\n",
    "               'max_features': max_features,\n",
    "               'max_depth': max_depth,\n",
    "               'min_samples_split': min_samples_split,\n",
    "               'min_samples_leaf': min_samples_leaf,\n",
    "               'bootstrap': bootstrap}\n",
    "print(param_grid)"
   ]
  },
  {
   "cell_type": "markdown",
   "id": "1f4f4a1d",
   "metadata": {},
   "source": [
    "## <font color='blue'> With GridSearchCV </font>"
   ]
  },
  {
   "cell_type": "code",
   "execution_count": 110,
   "id": "514215da",
   "metadata": {},
   "outputs": [
    {
     "name": "stdout",
     "output_type": "stream",
     "text": [
      "Fitting 3 folds for each of 320 candidates, totalling 960 fits\n"
     ]
    },
    {
     "data": {
      "text/plain": [
       "GridSearchCV(cv=3, estimator=RandomForestClassifier(), n_jobs=4,\n",
       "             param_grid={'bootstrap': [True, False], 'max_depth': [2, 4],\n",
       "                         'max_features': ['auto', 'sqrt'],\n",
       "                         'min_samples_leaf': [1, 2],\n",
       "                         'min_samples_split': [2, 5],\n",
       "                         'n_estimators': [10, 17, 25, 33, 41, 48, 56, 64, 72,\n",
       "                                          80]},\n",
       "             verbose=2)"
      ]
     },
     "execution_count": 110,
     "metadata": {},
     "output_type": "execute_result"
    }
   ],
   "source": [
    "grid_rf = GridSearchCV(RandomForestClassifier(), param_grid = param_grid, cv = 3, verbose=2, n_jobs = 4)\n",
    "grid_rf.fit(X_train_sm,y_train_sm)"
   ]
  },
  {
   "cell_type": "code",
   "execution_count": 111,
   "id": "77b8f01c",
   "metadata": {},
   "outputs": [
    {
     "data": {
      "text/plain": [
       "RandomForestClassifier(bootstrap=False, max_depth=4, min_samples_split=5,\n",
       "                       n_estimators=33)"
      ]
     },
     "execution_count": 111,
     "metadata": {},
     "output_type": "execute_result"
    }
   ],
   "source": [
    "# find the best parameter\n",
    "optimized_clf = grid_rf.best_estimator_\n",
    "optimized_clf"
   ]
  },
  {
   "cell_type": "code",
   "execution_count": 112,
   "id": "fed4384b",
   "metadata": {},
   "outputs": [],
   "source": [
    "# Get the predicted class\n",
    "y_pred  = optimized_clf.predict(X_test)"
   ]
  },
  {
   "cell_type": "code",
   "execution_count": 113,
   "id": "9ebe4f4b",
   "metadata": {},
   "outputs": [
    {
     "data": {
      "image/png": "[encoded data removed]",
      "text/plain": [
       "<Figure size 360x360 with 1 Axes>"
      ]
     },
     "metadata": {
      "needs_background": "light"
     },
     "output_type": "display_data"
    },
    {
     "name": "stdout",
     "output_type": "stream",
     "text": [
      "Accuracy of random forest classifier on test set: 0.78\n"
     ]
    }
   ],
   "source": [
    "# Get the confusion matrix\n",
    "cm_rf_sm= confusion_matrix(y_test, y_pred)\n",
    "fig, ax = plt.subplots(figsize=(5, 5))\n",
    "ax.matshow(cm_rf_sm, cmap=plt.cm.Oranges, alpha=0.3)\n",
    "for i in range(cm_rf_sm.shape[0]):\n",
    "    for j in range(cm_rf_sm.shape[1]):\n",
    "        ax.text(x=j, y=i,s=cm_rf_sm[i, j], va='center', ha='center', size='xx-large')\n",
    " \n",
    "plt.xlabel('Predictions', fontsize=18)\n",
    "plt.ylabel('Actuals', fontsize=18)\n",
    "plt.title('Confusion Matrix', fontsize=18)\n",
    "plt.show()\n",
    "\n",
    "accuracy_rf_sm = accuracy_score(y_pred,y_test)\n",
    "print('Accuracy of random forest classifier on test set: {:.2f}'.format(accuracy_rf_sm))"
   ]
  },
  {
   "cell_type": "code",
   "execution_count": 114,
   "id": "e83aece4",
   "metadata": {},
   "outputs": [
    {
     "name": "stdout",
     "output_type": "stream",
     "text": [
      "Precision: 0.50\n",
      "Recall: 0.56\n",
      "F1 Score: 0.53\n",
      "Sensitivity : 0.84\n",
      "Specificity : 0.56\n"
     ]
    }
   ],
   "source": [
    "# Let's calculate Sensitivity, Specificity, Recall, Precision and F1-Score\n",
    "\n",
    "print('Precision: %.2f' % precision_score(y_test, y_pred))\n",
    "print('Recall: %.2f' % recall_score(y_test, y_pred))\n",
    "\n",
    "print('F1 Score: %.2f' % f1_score(y_test, y_pred))\n",
    "\n",
    "sensitivity = cm_rf_sm[0,0]/(cm_rf_sm[0,0]+cm_rf_sm[0,1])\n",
    "print('Sensitivity : {:.2f}'.format(sensitivity))\n",
    "\n",
    "specificity = cm_rf_sm[1,1]/(cm_rf_sm[1,0]+cm_rf_sm[1,1])\n",
    "print('Specificity : {:.2f}'.format(specificity))"
   ]
  },
  {
   "cell_type": "markdown",
   "id": "5c4d8a98",
   "metadata": {},
   "source": [
    "## <font color='blue'> With RandomizedSearchCV </font>"
   ]
  },
  {
   "cell_type": "code",
   "execution_count": 115,
   "id": "f4faf2e5",
   "metadata": {},
   "outputs": [
    {
     "name": "stdout",
     "output_type": "stream",
     "text": [
      "Fitting 3 folds for each of 10 candidates, totalling 30 fits\n"
     ]
    },
    {
     "data": {
      "text/plain": [
       "RandomizedSearchCV(cv=3, estimator=RandomForestClassifier(), n_jobs=4,\n",
       "                   param_distributions={'bootstrap': [True, False],\n",
       "                                        'max_depth': [2, 4],\n",
       "                                        'max_features': ['auto', 'sqrt'],\n",
       "                                        'min_samples_leaf': [1, 2],\n",
       "                                        'min_samples_split': [2, 5],\n",
       "                                        'n_estimators': [10, 17, 25, 33, 41, 48,\n",
       "                                                         56, 64, 72, 80]},\n",
       "                   verbose=2)"
      ]
     },
     "execution_count": 115,
     "metadata": {},
     "output_type": "execute_result"
    }
   ],
   "source": [
    "random_rf = RandomizedSearchCV(RandomForestClassifier(), param_grid, cv = 3, verbose=2, n_jobs = 4)\n",
    "random_rf.fit(X_train_sm,y_train_sm)"
   ]
  },
  {
   "cell_type": "code",
   "execution_count": 116,
   "id": "ee5a798f",
   "metadata": {},
   "outputs": [
    {
     "data": {
      "text/plain": [
       "RandomForestClassifier(max_depth=4, min_samples_leaf=2, n_estimators=80)"
      ]
     },
     "execution_count": 116,
     "metadata": {},
     "output_type": "execute_result"
    }
   ],
   "source": [
    "# find the best parameter\n",
    "optimized_clf = random_rf.best_estimator_\n",
    "optimized_clf"
   ]
  },
  {
   "cell_type": "code",
   "execution_count": 117,
   "id": "b2bfa072",
   "metadata": {},
   "outputs": [],
   "source": [
    "# Get the predicted class\n",
    "y_pred  = optimized_clf.predict(X_test)"
   ]
  },
  {
   "cell_type": "code",
   "execution_count": 118,
   "id": "5fb46b11",
   "metadata": {},
   "outputs": [
    {
     "data": {
      "image/png": "[encoded data removed]",
      "text/plain": [
       "<Figure size 360x360 with 1 Axes>"
      ]
     },
     "metadata": {
      "needs_background": "light"
     },
     "output_type": "display_data"
    },
    {
     "name": "stdout",
     "output_type": "stream",
     "text": [
      "Accuracy of random forest classifier on test set: 0.79\n"
     ]
    }
   ],
   "source": [
    "# Get the confusion matrix\n",
    "cm_rf_sm= confusion_matrix(y_test, y_pred)\n",
    "fig, ax = plt.subplots(figsize=(5, 5))\n",
    "ax.matshow(cm_rf_sm, cmap=plt.cm.Oranges, alpha=0.3)\n",
    "for i in range(cm_rf_sm.shape[0]):\n",
    "    for j in range(cm_rf_sm.shape[1]):\n",
    "        ax.text(x=j, y=i,s=cm_rf_sm[i, j], va='center', ha='center', size='xx-large')\n",
    " \n",
    "plt.xlabel('Predictions', fontsize=18)\n",
    "plt.ylabel('Actuals', fontsize=18)\n",
    "plt.title('Confusion Matrix', fontsize=18)\n",
    "plt.show()\n",
    "\n",
    "accuracy_rf_sm = accuracy_score(y_pred,y_test)\n",
    "print('Accuracy of random forest classifier on test set: {:.2f}'.format(accuracy_rf_sm))"
   ]
  },
  {
   "cell_type": "code",
   "execution_count": 119,
   "id": "223595b6",
   "metadata": {},
   "outputs": [
    {
     "name": "stdout",
     "output_type": "stream",
     "text": [
      "Precision: 0.51\n",
      "Recall: 0.55\n",
      "F1 Score: 0.53\n",
      "Sensitivity : 0.85\n",
      "Specificity : 0.55\n"
     ]
    }
   ],
   "source": [
    "# Let's calculate Sensitivity, Specificity, Recall, Precision and F1-Score\n",
    "\n",
    "print('Precision: %.2f' % precision_score(y_test, y_pred))\n",
    "print('Recall: %.2f' % recall_score(y_test, y_pred))\n",
    "\n",
    "print('F1 Score: %.2f' % f1_score(y_test, y_pred))\n",
    "\n",
    "sensitivity = cm_rf_sm[0,0]/(cm_rf_sm[0,0]+cm_rf_sm[0,1])\n",
    "print('Sensitivity : {:.2f}'.format(sensitivity))\n",
    "\n",
    "specificity = cm_rf_sm[1,1]/(cm_rf_sm[1,0]+cm_rf_sm[1,1])\n",
    "print('Specificity : {:.2f}'.format(specificity))"
   ]
  }
 ],
 "metadata": {
  "kernelspec": {
   "display_name": "Python 3 (ipykernel)",
   "language": "python",
   "name": "python3"
  },
  "language_info": {
   "codemirror_mode": {
    "name": "ipython",
    "version": 3
   },
   "file_extension": ".py",
   "mimetype": "text/x-python",
   "name": "python",
   "nbconvert_exporter": "python",
   "pygments_lexer": "ipython3",
   "version": "3.8.8"
  }
 },
 "nbformat": 4,
 "nbformat_minor": 5
}
